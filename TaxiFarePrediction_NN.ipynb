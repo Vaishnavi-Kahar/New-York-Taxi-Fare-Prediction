{
  "nbformat": 4,
  "nbformat_minor": 0,
  "metadata": {
    "colab": {
      "provenance": [],
      "collapsed_sections": [
        "J242mcqWT2HW",
        "oFGh2n1UUIMc"
      ],
      "authorship_tag": "ABX9TyMeqxebpo/qGu/3mLeZ3FR8",
      "include_colab_link": true
    },
    "kernelspec": {
      "name": "python3",
      "display_name": "Python 3"
    },
    "language_info": {
      "name": "python"
    }
  },
  "cells": [
    {
      "cell_type": "markdown",
      "metadata": {
        "id": "view-in-github",
        "colab_type": "text"
      },
      "source": [
        "<a href=\"https://colab.research.google.com/github/Vaishnavi-Kahar/New-York-Taxi-Fare-Prediction/blob/main/TaxiFarePrediction_NN.ipynb\" target=\"_parent\"><img src=\"https://colab.research.google.com/assets/colab-badge.svg\" alt=\"Open In Colab\"/></a>"
      ]
    },
    {
      "cell_type": "code",
      "execution_count": null,
      "metadata": {
        "id": "UwuxjCeVlUm7"
      },
      "outputs": [],
      "source": [
        "import numpy as np\n",
        "import pandas as pd \n",
        "import sklearn\n",
        "import seaborn as sns\n",
        "import tensorflow as tf\n",
        "from tensorflow.keras.layers import Dense, Dropout\n",
        "import matplotlib.pyplot as plt\n",
        "%matplotlib inline\n",
        "import os\n",
        "import cv2\n",
        "from PIL import Image\n",
        "from tensorflow.keras.preprocessing.image import ImageDataGenerator\n",
        "from matplotlib import style\n",
        "import glob\n",
        "np.random.seed(42)"
      ]
    },
    {
      "cell_type": "markdown",
      "source": [
        "## Taxi fare prediction using neural network"
      ],
      "metadata": {
        "id": "J242mcqWT2HW"
      }
    },
    {
      "cell_type": "code",
      "source": [
        "link_train = \"https://raw.githubusercontent.com/gagan-iitb/CS550/main/Prog_Assignments/train_NYTaxi.csv\"\n",
        "link_test  = \"https://raw.githubusercontent.com/gagan-iitb/CS550/main/Prog_Assignments/test_NYTaxi.csv\"\n",
        "train = pd.read_csv(link_train)\n",
        "test  = pd.read_csv(link_test)"
      ],
      "metadata": {
        "id": "QqCxOp6ZmPIt"
      },
      "execution_count": null,
      "outputs": []
    },
    {
      "cell_type": "code",
      "source": [
        "## Checking the no. of rows and columns in train and test set\n",
        "print(\"Shape of train set : \",train.shape)\n",
        "print(\"Shape of test set : \",test.shape)\n",
        "print(list(train.columns))\n",
        "print(list(test.columns))"
      ],
      "metadata": {
        "colab": {
          "base_uri": "https://localhost:8080/"
        },
        "id": "2lx4rEocmrIW",
        "outputId": "349e7be3-9399-4ed0-db24-c03237c3e25e"
      },
      "execution_count": null,
      "outputs": [
        {
          "output_type": "stream",
          "name": "stdout",
          "text": [
            "Shape of train set :  (100000, 9)\n",
            "Shape of test set :  (9914, 7)\n",
            "['Unnamed: 0', 'key', 'fare_amount', 'pickup_datetime', 'pickup_longitude', 'pickup_latitude', 'dropoff_longitude', 'dropoff_latitude', 'passenger_count']\n",
            "['key', 'pickup_datetime', 'pickup_longitude', 'pickup_latitude', 'dropoff_longitude', 'dropoff_latitude', 'passenger_count']\n"
          ]
        }
      ]
    },
    {
      "cell_type": "code",
      "source": [
        "train.head()"
      ],
      "metadata": {
        "colab": {
          "base_uri": "https://localhost:8080/",
          "height": 206
        },
        "id": "_CmPS3bJmu0v",
        "outputId": "2bfe705a-2cfe-4a12-8f24-e53cd92e2897"
      },
      "execution_count": null,
      "outputs": [
        {
          "output_type": "execute_result",
          "data": {
            "text/plain": [
              "   Unnamed: 0                            key  fare_amount  \\\n",
              "0           0    2009-04-08 19:11:10.0000004          4.9   \n",
              "1           1    2012-07-30 16:19:08.0000003          4.9   \n",
              "2           2  2011-02-22 13:35:00.000000121          6.9   \n",
              "3           3    2010-10-07 21:09:35.0000002         14.1   \n",
              "4           4  2009-10-02 22:51:00.000000140         12.1   \n",
              "\n",
              "           pickup_datetime  pickup_longitude  pickup_latitude  \\\n",
              "0  2009-04-08 19:11:10 UTC        -73.998287        40.727490   \n",
              "1  2012-07-30 16:19:08 UTC        -73.966597        40.794345   \n",
              "2  2011-02-22 13:35:00 UTC        -73.971638        40.763382   \n",
              "3  2010-10-07 21:09:35 UTC        -74.003545        40.707399   \n",
              "4  2009-10-02 22:51:00 UTC        -74.004532        40.707465   \n",
              "\n",
              "   dropoff_longitude  dropoff_latitude  passenger_count  \n",
              "0         -73.989854         40.735239                2  \n",
              "1         -73.965682         40.803808                2  \n",
              "2         -73.953767         40.783715                1  \n",
              "3         -73.981312         40.750071                1  \n",
              "4         -73.977908         40.745633                5  "
            ],
            "text/html": [
              "\n",
              "  <div id=\"df-4bc3cc38-efa4-4a79-be86-8526133c9d9e\">\n",
              "    <div class=\"colab-df-container\">\n",
              "      <div>\n",
              "<style scoped>\n",
              "    .dataframe tbody tr th:only-of-type {\n",
              "        vertical-align: middle;\n",
              "    }\n",
              "\n",
              "    .dataframe tbody tr th {\n",
              "        vertical-align: top;\n",
              "    }\n",
              "\n",
              "    .dataframe thead th {\n",
              "        text-align: right;\n",
              "    }\n",
              "</style>\n",
              "<table border=\"1\" class=\"dataframe\">\n",
              "  <thead>\n",
              "    <tr style=\"text-align: right;\">\n",
              "      <th></th>\n",
              "      <th>Unnamed: 0</th>\n",
              "      <th>key</th>\n",
              "      <th>fare_amount</th>\n",
              "      <th>pickup_datetime</th>\n",
              "      <th>pickup_longitude</th>\n",
              "      <th>pickup_latitude</th>\n",
              "      <th>dropoff_longitude</th>\n",
              "      <th>dropoff_latitude</th>\n",
              "      <th>passenger_count</th>\n",
              "    </tr>\n",
              "  </thead>\n",
              "  <tbody>\n",
              "    <tr>\n",
              "      <th>0</th>\n",
              "      <td>0</td>\n",
              "      <td>2009-04-08 19:11:10.0000004</td>\n",
              "      <td>4.9</td>\n",
              "      <td>2009-04-08 19:11:10 UTC</td>\n",
              "      <td>-73.998287</td>\n",
              "      <td>40.727490</td>\n",
              "      <td>-73.989854</td>\n",
              "      <td>40.735239</td>\n",
              "      <td>2</td>\n",
              "    </tr>\n",
              "    <tr>\n",
              "      <th>1</th>\n",
              "      <td>1</td>\n",
              "      <td>2012-07-30 16:19:08.0000003</td>\n",
              "      <td>4.9</td>\n",
              "      <td>2012-07-30 16:19:08 UTC</td>\n",
              "      <td>-73.966597</td>\n",
              "      <td>40.794345</td>\n",
              "      <td>-73.965682</td>\n",
              "      <td>40.803808</td>\n",
              "      <td>2</td>\n",
              "    </tr>\n",
              "    <tr>\n",
              "      <th>2</th>\n",
              "      <td>2</td>\n",
              "      <td>2011-02-22 13:35:00.000000121</td>\n",
              "      <td>6.9</td>\n",
              "      <td>2011-02-22 13:35:00 UTC</td>\n",
              "      <td>-73.971638</td>\n",
              "      <td>40.763382</td>\n",
              "      <td>-73.953767</td>\n",
              "      <td>40.783715</td>\n",
              "      <td>1</td>\n",
              "    </tr>\n",
              "    <tr>\n",
              "      <th>3</th>\n",
              "      <td>3</td>\n",
              "      <td>2010-10-07 21:09:35.0000002</td>\n",
              "      <td>14.1</td>\n",
              "      <td>2010-10-07 21:09:35 UTC</td>\n",
              "      <td>-74.003545</td>\n",
              "      <td>40.707399</td>\n",
              "      <td>-73.981312</td>\n",
              "      <td>40.750071</td>\n",
              "      <td>1</td>\n",
              "    </tr>\n",
              "    <tr>\n",
              "      <th>4</th>\n",
              "      <td>4</td>\n",
              "      <td>2009-10-02 22:51:00.000000140</td>\n",
              "      <td>12.1</td>\n",
              "      <td>2009-10-02 22:51:00 UTC</td>\n",
              "      <td>-74.004532</td>\n",
              "      <td>40.707465</td>\n",
              "      <td>-73.977908</td>\n",
              "      <td>40.745633</td>\n",
              "      <td>5</td>\n",
              "    </tr>\n",
              "  </tbody>\n",
              "</table>\n",
              "</div>\n",
              "      <button class=\"colab-df-convert\" onclick=\"convertToInteractive('df-4bc3cc38-efa4-4a79-be86-8526133c9d9e')\"\n",
              "              title=\"Convert this dataframe to an interactive table.\"\n",
              "              style=\"display:none;\">\n",
              "        \n",
              "  <svg xmlns=\"http://www.w3.org/2000/svg\" height=\"24px\"viewBox=\"0 0 24 24\"\n",
              "       width=\"24px\">\n",
              "    <path d=\"M0 0h24v24H0V0z\" fill=\"none\"/>\n",
              "    <path d=\"M18.56 5.44l.94 2.06.94-2.06 2.06-.94-2.06-.94-.94-2.06-.94 2.06-2.06.94zm-11 1L8.5 8.5l.94-2.06 2.06-.94-2.06-.94L8.5 2.5l-.94 2.06-2.06.94zm10 10l.94 2.06.94-2.06 2.06-.94-2.06-.94-.94-2.06-.94 2.06-2.06.94z\"/><path d=\"M17.41 7.96l-1.37-1.37c-.4-.4-.92-.59-1.43-.59-.52 0-1.04.2-1.43.59L10.3 9.45l-7.72 7.72c-.78.78-.78 2.05 0 2.83L4 21.41c.39.39.9.59 1.41.59.51 0 1.02-.2 1.41-.59l7.78-7.78 2.81-2.81c.8-.78.8-2.07 0-2.86zM5.41 20L4 18.59l7.72-7.72 1.47 1.35L5.41 20z\"/>\n",
              "  </svg>\n",
              "      </button>\n",
              "      \n",
              "  <style>\n",
              "    .colab-df-container {\n",
              "      display:flex;\n",
              "      flex-wrap:wrap;\n",
              "      gap: 12px;\n",
              "    }\n",
              "\n",
              "    .colab-df-convert {\n",
              "      background-color: #E8F0FE;\n",
              "      border: none;\n",
              "      border-radius: 50%;\n",
              "      cursor: pointer;\n",
              "      display: none;\n",
              "      fill: #1967D2;\n",
              "      height: 32px;\n",
              "      padding: 0 0 0 0;\n",
              "      width: 32px;\n",
              "    }\n",
              "\n",
              "    .colab-df-convert:hover {\n",
              "      background-color: #E2EBFA;\n",
              "      box-shadow: 0px 1px 2px rgba(60, 64, 67, 0.3), 0px 1px 3px 1px rgba(60, 64, 67, 0.15);\n",
              "      fill: #174EA6;\n",
              "    }\n",
              "\n",
              "    [theme=dark] .colab-df-convert {\n",
              "      background-color: #3B4455;\n",
              "      fill: #D2E3FC;\n",
              "    }\n",
              "\n",
              "    [theme=dark] .colab-df-convert:hover {\n",
              "      background-color: #434B5C;\n",
              "      box-shadow: 0px 1px 3px 1px rgba(0, 0, 0, 0.15);\n",
              "      filter: drop-shadow(0px 1px 2px rgba(0, 0, 0, 0.3));\n",
              "      fill: #FFFFFF;\n",
              "    }\n",
              "  </style>\n",
              "\n",
              "      <script>\n",
              "        const buttonEl =\n",
              "          document.querySelector('#df-4bc3cc38-efa4-4a79-be86-8526133c9d9e button.colab-df-convert');\n",
              "        buttonEl.style.display =\n",
              "          google.colab.kernel.accessAllowed ? 'block' : 'none';\n",
              "\n",
              "        async function convertToInteractive(key) {\n",
              "          const element = document.querySelector('#df-4bc3cc38-efa4-4a79-be86-8526133c9d9e');\n",
              "          const dataTable =\n",
              "            await google.colab.kernel.invokeFunction('convertToInteractive',\n",
              "                                                     [key], {});\n",
              "          if (!dataTable) return;\n",
              "\n",
              "          const docLinkHtml = 'Like what you see? Visit the ' +\n",
              "            '<a target=\"_blank\" href=https://colab.research.google.com/notebooks/data_table.ipynb>data table notebook</a>'\n",
              "            + ' to learn more about interactive tables.';\n",
              "          element.innerHTML = '';\n",
              "          dataTable['output_type'] = 'display_data';\n",
              "          await google.colab.output.renderOutput(dataTable, element);\n",
              "          const docLink = document.createElement('div');\n",
              "          docLink.innerHTML = docLinkHtml;\n",
              "          element.appendChild(docLink);\n",
              "        }\n",
              "      </script>\n",
              "    </div>\n",
              "  </div>\n",
              "  "
            ]
          },
          "metadata": {},
          "execution_count": 341
        }
      ]
    },
    {
      "cell_type": "code",
      "source": [
        "## dropping the \"Unnamed: 0\" column\n",
        "train = train.drop(\"Unnamed: 0\",axis=1)"
      ],
      "metadata": {
        "id": "VSvRC9i5m2ns"
      },
      "execution_count": null,
      "outputs": []
    },
    {
      "cell_type": "code",
      "source": [
        "train.head()"
      ],
      "metadata": {
        "colab": {
          "base_uri": "https://localhost:8080/",
          "height": 206
        },
        "id": "WywTU1aEnNER",
        "outputId": "414775f5-7921-4730-ce99-6a16270ee6a3"
      },
      "execution_count": null,
      "outputs": [
        {
          "output_type": "execute_result",
          "data": {
            "text/plain": [
              "                             key  fare_amount          pickup_datetime  \\\n",
              "0    2009-04-08 19:11:10.0000004          4.9  2009-04-08 19:11:10 UTC   \n",
              "1    2012-07-30 16:19:08.0000003          4.9  2012-07-30 16:19:08 UTC   \n",
              "2  2011-02-22 13:35:00.000000121          6.9  2011-02-22 13:35:00 UTC   \n",
              "3    2010-10-07 21:09:35.0000002         14.1  2010-10-07 21:09:35 UTC   \n",
              "4  2009-10-02 22:51:00.000000140         12.1  2009-10-02 22:51:00 UTC   \n",
              "\n",
              "   pickup_longitude  pickup_latitude  dropoff_longitude  dropoff_latitude  \\\n",
              "0        -73.998287        40.727490         -73.989854         40.735239   \n",
              "1        -73.966597        40.794345         -73.965682         40.803808   \n",
              "2        -73.971638        40.763382         -73.953767         40.783715   \n",
              "3        -74.003545        40.707399         -73.981312         40.750071   \n",
              "4        -74.004532        40.707465         -73.977908         40.745633   \n",
              "\n",
              "   passenger_count  \n",
              "0                2  \n",
              "1                2  \n",
              "2                1  \n",
              "3                1  \n",
              "4                5  "
            ],
            "text/html": [
              "\n",
              "  <div id=\"df-6f46e6a3-4e3b-4fce-87e4-f39c653dadbf\">\n",
              "    <div class=\"colab-df-container\">\n",
              "      <div>\n",
              "<style scoped>\n",
              "    .dataframe tbody tr th:only-of-type {\n",
              "        vertical-align: middle;\n",
              "    }\n",
              "\n",
              "    .dataframe tbody tr th {\n",
              "        vertical-align: top;\n",
              "    }\n",
              "\n",
              "    .dataframe thead th {\n",
              "        text-align: right;\n",
              "    }\n",
              "</style>\n",
              "<table border=\"1\" class=\"dataframe\">\n",
              "  <thead>\n",
              "    <tr style=\"text-align: right;\">\n",
              "      <th></th>\n",
              "      <th>key</th>\n",
              "      <th>fare_amount</th>\n",
              "      <th>pickup_datetime</th>\n",
              "      <th>pickup_longitude</th>\n",
              "      <th>pickup_latitude</th>\n",
              "      <th>dropoff_longitude</th>\n",
              "      <th>dropoff_latitude</th>\n",
              "      <th>passenger_count</th>\n",
              "    </tr>\n",
              "  </thead>\n",
              "  <tbody>\n",
              "    <tr>\n",
              "      <th>0</th>\n",
              "      <td>2009-04-08 19:11:10.0000004</td>\n",
              "      <td>4.9</td>\n",
              "      <td>2009-04-08 19:11:10 UTC</td>\n",
              "      <td>-73.998287</td>\n",
              "      <td>40.727490</td>\n",
              "      <td>-73.989854</td>\n",
              "      <td>40.735239</td>\n",
              "      <td>2</td>\n",
              "    </tr>\n",
              "    <tr>\n",
              "      <th>1</th>\n",
              "      <td>2012-07-30 16:19:08.0000003</td>\n",
              "      <td>4.9</td>\n",
              "      <td>2012-07-30 16:19:08 UTC</td>\n",
              "      <td>-73.966597</td>\n",
              "      <td>40.794345</td>\n",
              "      <td>-73.965682</td>\n",
              "      <td>40.803808</td>\n",
              "      <td>2</td>\n",
              "    </tr>\n",
              "    <tr>\n",
              "      <th>2</th>\n",
              "      <td>2011-02-22 13:35:00.000000121</td>\n",
              "      <td>6.9</td>\n",
              "      <td>2011-02-22 13:35:00 UTC</td>\n",
              "      <td>-73.971638</td>\n",
              "      <td>40.763382</td>\n",
              "      <td>-73.953767</td>\n",
              "      <td>40.783715</td>\n",
              "      <td>1</td>\n",
              "    </tr>\n",
              "    <tr>\n",
              "      <th>3</th>\n",
              "      <td>2010-10-07 21:09:35.0000002</td>\n",
              "      <td>14.1</td>\n",
              "      <td>2010-10-07 21:09:35 UTC</td>\n",
              "      <td>-74.003545</td>\n",
              "      <td>40.707399</td>\n",
              "      <td>-73.981312</td>\n",
              "      <td>40.750071</td>\n",
              "      <td>1</td>\n",
              "    </tr>\n",
              "    <tr>\n",
              "      <th>4</th>\n",
              "      <td>2009-10-02 22:51:00.000000140</td>\n",
              "      <td>12.1</td>\n",
              "      <td>2009-10-02 22:51:00 UTC</td>\n",
              "      <td>-74.004532</td>\n",
              "      <td>40.707465</td>\n",
              "      <td>-73.977908</td>\n",
              "      <td>40.745633</td>\n",
              "      <td>5</td>\n",
              "    </tr>\n",
              "  </tbody>\n",
              "</table>\n",
              "</div>\n",
              "      <button class=\"colab-df-convert\" onclick=\"convertToInteractive('df-6f46e6a3-4e3b-4fce-87e4-f39c653dadbf')\"\n",
              "              title=\"Convert this dataframe to an interactive table.\"\n",
              "              style=\"display:none;\">\n",
              "        \n",
              "  <svg xmlns=\"http://www.w3.org/2000/svg\" height=\"24px\"viewBox=\"0 0 24 24\"\n",
              "       width=\"24px\">\n",
              "    <path d=\"M0 0h24v24H0V0z\" fill=\"none\"/>\n",
              "    <path d=\"M18.56 5.44l.94 2.06.94-2.06 2.06-.94-2.06-.94-.94-2.06-.94 2.06-2.06.94zm-11 1L8.5 8.5l.94-2.06 2.06-.94-2.06-.94L8.5 2.5l-.94 2.06-2.06.94zm10 10l.94 2.06.94-2.06 2.06-.94-2.06-.94-.94-2.06-.94 2.06-2.06.94z\"/><path d=\"M17.41 7.96l-1.37-1.37c-.4-.4-.92-.59-1.43-.59-.52 0-1.04.2-1.43.59L10.3 9.45l-7.72 7.72c-.78.78-.78 2.05 0 2.83L4 21.41c.39.39.9.59 1.41.59.51 0 1.02-.2 1.41-.59l7.78-7.78 2.81-2.81c.8-.78.8-2.07 0-2.86zM5.41 20L4 18.59l7.72-7.72 1.47 1.35L5.41 20z\"/>\n",
              "  </svg>\n",
              "      </button>\n",
              "      \n",
              "  <style>\n",
              "    .colab-df-container {\n",
              "      display:flex;\n",
              "      flex-wrap:wrap;\n",
              "      gap: 12px;\n",
              "    }\n",
              "\n",
              "    .colab-df-convert {\n",
              "      background-color: #E8F0FE;\n",
              "      border: none;\n",
              "      border-radius: 50%;\n",
              "      cursor: pointer;\n",
              "      display: none;\n",
              "      fill: #1967D2;\n",
              "      height: 32px;\n",
              "      padding: 0 0 0 0;\n",
              "      width: 32px;\n",
              "    }\n",
              "\n",
              "    .colab-df-convert:hover {\n",
              "      background-color: #E2EBFA;\n",
              "      box-shadow: 0px 1px 2px rgba(60, 64, 67, 0.3), 0px 1px 3px 1px rgba(60, 64, 67, 0.15);\n",
              "      fill: #174EA6;\n",
              "    }\n",
              "\n",
              "    [theme=dark] .colab-df-convert {\n",
              "      background-color: #3B4455;\n",
              "      fill: #D2E3FC;\n",
              "    }\n",
              "\n",
              "    [theme=dark] .colab-df-convert:hover {\n",
              "      background-color: #434B5C;\n",
              "      box-shadow: 0px 1px 3px 1px rgba(0, 0, 0, 0.15);\n",
              "      filter: drop-shadow(0px 1px 2px rgba(0, 0, 0, 0.3));\n",
              "      fill: #FFFFFF;\n",
              "    }\n",
              "  </style>\n",
              "\n",
              "      <script>\n",
              "        const buttonEl =\n",
              "          document.querySelector('#df-6f46e6a3-4e3b-4fce-87e4-f39c653dadbf button.colab-df-convert');\n",
              "        buttonEl.style.display =\n",
              "          google.colab.kernel.accessAllowed ? 'block' : 'none';\n",
              "\n",
              "        async function convertToInteractive(key) {\n",
              "          const element = document.querySelector('#df-6f46e6a3-4e3b-4fce-87e4-f39c653dadbf');\n",
              "          const dataTable =\n",
              "            await google.colab.kernel.invokeFunction('convertToInteractive',\n",
              "                                                     [key], {});\n",
              "          if (!dataTable) return;\n",
              "\n",
              "          const docLinkHtml = 'Like what you see? Visit the ' +\n",
              "            '<a target=\"_blank\" href=https://colab.research.google.com/notebooks/data_table.ipynb>data table notebook</a>'\n",
              "            + ' to learn more about interactive tables.';\n",
              "          element.innerHTML = '';\n",
              "          dataTable['output_type'] = 'display_data';\n",
              "          await google.colab.output.renderOutput(dataTable, element);\n",
              "          const docLink = document.createElement('div');\n",
              "          docLink.innerHTML = docLinkHtml;\n",
              "          element.appendChild(docLink);\n",
              "        }\n",
              "      </script>\n",
              "    </div>\n",
              "  </div>\n",
              "  "
            ]
          },
          "metadata": {},
          "execution_count": 343
        }
      ]
    },
    {
      "cell_type": "code",
      "source": [
        "test.head()"
      ],
      "metadata": {
        "colab": {
          "base_uri": "https://localhost:8080/",
          "height": 206
        },
        "id": "jHPZQXPCmw1r",
        "outputId": "9e535b3e-9b36-4b3b-a77c-71473214b513"
      },
      "execution_count": null,
      "outputs": [
        {
          "output_type": "execute_result",
          "data": {
            "text/plain": [
              "                           key          pickup_datetime  pickup_longitude  \\\n",
              "0  2015-01-27 13:08:24.0000002  2015-01-27 13:08:24 UTC        -73.973320   \n",
              "1  2015-01-27 13:08:24.0000003  2015-01-27 13:08:24 UTC        -73.986862   \n",
              "2  2011-10-08 11:53:44.0000002  2011-10-08 11:53:44 UTC        -73.982524   \n",
              "3  2012-12-01 21:12:12.0000002  2012-12-01 21:12:12 UTC        -73.981160   \n",
              "4  2012-12-01 21:12:12.0000003  2012-12-01 21:12:12 UTC        -73.966046   \n",
              "\n",
              "   pickup_latitude  dropoff_longitude  dropoff_latitude  passenger_count  \n",
              "0        40.763805         -73.981430         40.743835                1  \n",
              "1        40.719383         -73.998886         40.739201                1  \n",
              "2        40.751260         -73.979654         40.746139                1  \n",
              "3        40.767807         -73.990448         40.751635                1  \n",
              "4        40.789775         -73.988565         40.744427                1  "
            ],
            "text/html": [
              "\n",
              "  <div id=\"df-73193e80-72ed-4566-9e4c-5126e05b859c\">\n",
              "    <div class=\"colab-df-container\">\n",
              "      <div>\n",
              "<style scoped>\n",
              "    .dataframe tbody tr th:only-of-type {\n",
              "        vertical-align: middle;\n",
              "    }\n",
              "\n",
              "    .dataframe tbody tr th {\n",
              "        vertical-align: top;\n",
              "    }\n",
              "\n",
              "    .dataframe thead th {\n",
              "        text-align: right;\n",
              "    }\n",
              "</style>\n",
              "<table border=\"1\" class=\"dataframe\">\n",
              "  <thead>\n",
              "    <tr style=\"text-align: right;\">\n",
              "      <th></th>\n",
              "      <th>key</th>\n",
              "      <th>pickup_datetime</th>\n",
              "      <th>pickup_longitude</th>\n",
              "      <th>pickup_latitude</th>\n",
              "      <th>dropoff_longitude</th>\n",
              "      <th>dropoff_latitude</th>\n",
              "      <th>passenger_count</th>\n",
              "    </tr>\n",
              "  </thead>\n",
              "  <tbody>\n",
              "    <tr>\n",
              "      <th>0</th>\n",
              "      <td>2015-01-27 13:08:24.0000002</td>\n",
              "      <td>2015-01-27 13:08:24 UTC</td>\n",
              "      <td>-73.973320</td>\n",
              "      <td>40.763805</td>\n",
              "      <td>-73.981430</td>\n",
              "      <td>40.743835</td>\n",
              "      <td>1</td>\n",
              "    </tr>\n",
              "    <tr>\n",
              "      <th>1</th>\n",
              "      <td>2015-01-27 13:08:24.0000003</td>\n",
              "      <td>2015-01-27 13:08:24 UTC</td>\n",
              "      <td>-73.986862</td>\n",
              "      <td>40.719383</td>\n",
              "      <td>-73.998886</td>\n",
              "      <td>40.739201</td>\n",
              "      <td>1</td>\n",
              "    </tr>\n",
              "    <tr>\n",
              "      <th>2</th>\n",
              "      <td>2011-10-08 11:53:44.0000002</td>\n",
              "      <td>2011-10-08 11:53:44 UTC</td>\n",
              "      <td>-73.982524</td>\n",
              "      <td>40.751260</td>\n",
              "      <td>-73.979654</td>\n",
              "      <td>40.746139</td>\n",
              "      <td>1</td>\n",
              "    </tr>\n",
              "    <tr>\n",
              "      <th>3</th>\n",
              "      <td>2012-12-01 21:12:12.0000002</td>\n",
              "      <td>2012-12-01 21:12:12 UTC</td>\n",
              "      <td>-73.981160</td>\n",
              "      <td>40.767807</td>\n",
              "      <td>-73.990448</td>\n",
              "      <td>40.751635</td>\n",
              "      <td>1</td>\n",
              "    </tr>\n",
              "    <tr>\n",
              "      <th>4</th>\n",
              "      <td>2012-12-01 21:12:12.0000003</td>\n",
              "      <td>2012-12-01 21:12:12 UTC</td>\n",
              "      <td>-73.966046</td>\n",
              "      <td>40.789775</td>\n",
              "      <td>-73.988565</td>\n",
              "      <td>40.744427</td>\n",
              "      <td>1</td>\n",
              "    </tr>\n",
              "  </tbody>\n",
              "</table>\n",
              "</div>\n",
              "      <button class=\"colab-df-convert\" onclick=\"convertToInteractive('df-73193e80-72ed-4566-9e4c-5126e05b859c')\"\n",
              "              title=\"Convert this dataframe to an interactive table.\"\n",
              "              style=\"display:none;\">\n",
              "        \n",
              "  <svg xmlns=\"http://www.w3.org/2000/svg\" height=\"24px\"viewBox=\"0 0 24 24\"\n",
              "       width=\"24px\">\n",
              "    <path d=\"M0 0h24v24H0V0z\" fill=\"none\"/>\n",
              "    <path d=\"M18.56 5.44l.94 2.06.94-2.06 2.06-.94-2.06-.94-.94-2.06-.94 2.06-2.06.94zm-11 1L8.5 8.5l.94-2.06 2.06-.94-2.06-.94L8.5 2.5l-.94 2.06-2.06.94zm10 10l.94 2.06.94-2.06 2.06-.94-2.06-.94-.94-2.06-.94 2.06-2.06.94z\"/><path d=\"M17.41 7.96l-1.37-1.37c-.4-.4-.92-.59-1.43-.59-.52 0-1.04.2-1.43.59L10.3 9.45l-7.72 7.72c-.78.78-.78 2.05 0 2.83L4 21.41c.39.39.9.59 1.41.59.51 0 1.02-.2 1.41-.59l7.78-7.78 2.81-2.81c.8-.78.8-2.07 0-2.86zM5.41 20L4 18.59l7.72-7.72 1.47 1.35L5.41 20z\"/>\n",
              "  </svg>\n",
              "      </button>\n",
              "      \n",
              "  <style>\n",
              "    .colab-df-container {\n",
              "      display:flex;\n",
              "      flex-wrap:wrap;\n",
              "      gap: 12px;\n",
              "    }\n",
              "\n",
              "    .colab-df-convert {\n",
              "      background-color: #E8F0FE;\n",
              "      border: none;\n",
              "      border-radius: 50%;\n",
              "      cursor: pointer;\n",
              "      display: none;\n",
              "      fill: #1967D2;\n",
              "      height: 32px;\n",
              "      padding: 0 0 0 0;\n",
              "      width: 32px;\n",
              "    }\n",
              "\n",
              "    .colab-df-convert:hover {\n",
              "      background-color: #E2EBFA;\n",
              "      box-shadow: 0px 1px 2px rgba(60, 64, 67, 0.3), 0px 1px 3px 1px rgba(60, 64, 67, 0.15);\n",
              "      fill: #174EA6;\n",
              "    }\n",
              "\n",
              "    [theme=dark] .colab-df-convert {\n",
              "      background-color: #3B4455;\n",
              "      fill: #D2E3FC;\n",
              "    }\n",
              "\n",
              "    [theme=dark] .colab-df-convert:hover {\n",
              "      background-color: #434B5C;\n",
              "      box-shadow: 0px 1px 3px 1px rgba(0, 0, 0, 0.15);\n",
              "      filter: drop-shadow(0px 1px 2px rgba(0, 0, 0, 0.3));\n",
              "      fill: #FFFFFF;\n",
              "    }\n",
              "  </style>\n",
              "\n",
              "      <script>\n",
              "        const buttonEl =\n",
              "          document.querySelector('#df-73193e80-72ed-4566-9e4c-5126e05b859c button.colab-df-convert');\n",
              "        buttonEl.style.display =\n",
              "          google.colab.kernel.accessAllowed ? 'block' : 'none';\n",
              "\n",
              "        async function convertToInteractive(key) {\n",
              "          const element = document.querySelector('#df-73193e80-72ed-4566-9e4c-5126e05b859c');\n",
              "          const dataTable =\n",
              "            await google.colab.kernel.invokeFunction('convertToInteractive',\n",
              "                                                     [key], {});\n",
              "          if (!dataTable) return;\n",
              "\n",
              "          const docLinkHtml = 'Like what you see? Visit the ' +\n",
              "            '<a target=\"_blank\" href=https://colab.research.google.com/notebooks/data_table.ipynb>data table notebook</a>'\n",
              "            + ' to learn more about interactive tables.';\n",
              "          element.innerHTML = '';\n",
              "          dataTable['output_type'] = 'display_data';\n",
              "          await google.colab.output.renderOutput(dataTable, element);\n",
              "          const docLink = document.createElement('div');\n",
              "          docLink.innerHTML = docLinkHtml;\n",
              "          element.appendChild(docLink);\n",
              "        }\n",
              "      </script>\n",
              "    </div>\n",
              "  </div>\n",
              "  "
            ]
          },
          "metadata": {},
          "execution_count": 344
        }
      ]
    },
    {
      "cell_type": "markdown",
      "source": [
        "**Data Cleaning**"
      ],
      "metadata": {
        "id": "q_-uB0Dbm_iP"
      }
    },
    {
      "cell_type": "markdown",
      "source": [
        "**Checking for null values:**"
      ],
      "metadata": {
        "id": "FBMGNFJXn_vk"
      }
    },
    {
      "cell_type": "code",
      "source": [
        "train.isnull().sum()"
      ],
      "metadata": {
        "colab": {
          "base_uri": "https://localhost:8080/"
        },
        "id": "IhAEtnKunExd",
        "outputId": "6ab31faa-fcd9-4bfb-e3f5-073d65772914"
      },
      "execution_count": null,
      "outputs": [
        {
          "output_type": "execute_result",
          "data": {
            "text/plain": [
              "key                  0\n",
              "fare_amount          0\n",
              "pickup_datetime      0\n",
              "pickup_longitude     0\n",
              "pickup_latitude      0\n",
              "dropoff_longitude    0\n",
              "dropoff_latitude     0\n",
              "passenger_count      0\n",
              "dtype: int64"
            ]
          },
          "metadata": {},
          "execution_count": 345
        }
      ]
    },
    {
      "cell_type": "code",
      "source": [
        "test.isnull().sum()"
      ],
      "metadata": {
        "colab": {
          "base_uri": "https://localhost:8080/"
        },
        "id": "BSAdvgkpnZWM",
        "outputId": "d34dbf56-dfdc-48db-a895-cd34589f2ccc"
      },
      "execution_count": null,
      "outputs": [
        {
          "output_type": "execute_result",
          "data": {
            "text/plain": [
              "key                  0\n",
              "pickup_datetime      0\n",
              "pickup_longitude     0\n",
              "pickup_latitude      0\n",
              "dropoff_longitude    0\n",
              "dropoff_latitude     0\n",
              "passenger_count      0\n",
              "dtype: int64"
            ]
          },
          "metadata": {},
          "execution_count": 346
        }
      ]
    },
    {
      "cell_type": "markdown",
      "metadata": {
        "id": "GGaG2LKo5EKB"
      },
      "source": [
        "As we can see there are 0 null values for all the features in train data set so we will go further and check for negative fare_amount values"
      ]
    },
    {
      "cell_type": "code",
      "source": [
        "### droping duplicates\n",
        "train.drop_duplicates(inplace=True)"
      ],
      "metadata": {
        "id": "WDOWRKhPomyt"
      },
      "execution_count": null,
      "outputs": []
    },
    {
      "cell_type": "code",
      "source": [
        "train.shape"
      ],
      "metadata": {
        "colab": {
          "base_uri": "https://localhost:8080/"
        },
        "id": "uRpyZmGSo956",
        "outputId": "87429226-8da4-4fb7-8a46-fe0d39810593"
      },
      "execution_count": null,
      "outputs": [
        {
          "output_type": "execute_result",
          "data": {
            "text/plain": [
              "(100000, 8)"
            ]
          },
          "metadata": {},
          "execution_count": 348
        }
      ]
    },
    {
      "cell_type": "markdown",
      "source": [
        "**Checking for negative fare amount:**"
      ],
      "metadata": {
        "id": "ooiH63iaoLyT"
      }
    },
    {
      "cell_type": "code",
      "source": [
        "train['fare_amount'].describe()"
      ],
      "metadata": {
        "colab": {
          "base_uri": "https://localhost:8080/"
        },
        "id": "Cl6g4GigoJSo",
        "outputId": "eeeecc52-c4ee-43e8-ba7b-5bb74a009d56"
      },
      "execution_count": null,
      "outputs": [
        {
          "output_type": "execute_result",
          "data": {
            "text/plain": [
              "count    100000.000000\n",
              "mean         11.333564\n",
              "std           9.810826\n",
              "min          -9.300000\n",
              "25%           6.000000\n",
              "50%           8.500000\n",
              "75%          12.500000\n",
              "max         394.000000\n",
              "Name: fare_amount, dtype: float64"
            ]
          },
          "metadata": {},
          "execution_count": 349
        }
      ]
    },
    {
      "cell_type": "markdown",
      "metadata": {
        "id": "3N4sCsG_bUtD"
      },
      "source": [
        "We are getting **minimum fare_amount value as negative**  which is not possible , so we will drop the rows having negative fare amount."
      ]
    },
    {
      "cell_type": "code",
      "source": [
        "## filtering the rows having non positive fare amount\n",
        "train=train.loc[train[\"fare_amount\"]>0]\n",
        "## Checking for minimum fare_amount value again\n",
        "train[\"fare_amount\"].describe()"
      ],
      "metadata": {
        "colab": {
          "base_uri": "https://localhost:8080/"
        },
        "id": "EK8chS6Knrcp",
        "outputId": "990bd9b2-ab01-4e74-c883-e1c9a76c1e06"
      },
      "execution_count": null,
      "outputs": [
        {
          "output_type": "execute_result",
          "data": {
            "text/plain": [
              "count    99994.000000\n",
              "mean        11.334431\n",
              "std          9.810440\n",
              "min          0.010000\n",
              "25%          6.000000\n",
              "50%          8.500000\n",
              "75%         12.500000\n",
              "max        394.000000\n",
              "Name: fare_amount, dtype: float64"
            ]
          },
          "metadata": {},
          "execution_count": 350
        }
      ]
    },
    {
      "cell_type": "markdown",
      "source": [
        "**Checking the passenger count:**"
      ],
      "metadata": {
        "id": "5utytk1Y0snC"
      }
    },
    {
      "cell_type": "code",
      "source": [
        "train[\"passenger_count\"].describe()"
      ],
      "metadata": {
        "colab": {
          "base_uri": "https://localhost:8080/"
        },
        "id": "ps8jVuhB0n2M",
        "outputId": "6418ea3f-f211-45f6-dce1-67ce5acc0606"
      },
      "execution_count": null,
      "outputs": [
        {
          "output_type": "execute_result",
          "data": {
            "text/plain": [
              "count    99994.000000\n",
              "mean         1.682151\n",
              "std          1.308636\n",
              "min          0.000000\n",
              "25%          1.000000\n",
              "50%          1.000000\n",
              "75%          2.000000\n",
              "max          6.000000\n",
              "Name: passenger_count, dtype: float64"
            ]
          },
          "metadata": {},
          "execution_count": 351
        }
      ]
    },
    {
      "cell_type": "code",
      "source": [
        "test['passenger_count'].describe()"
      ],
      "metadata": {
        "colab": {
          "base_uri": "https://localhost:8080/"
        },
        "id": "-wgp1Ee-opWm",
        "outputId": "7450a5b8-b18e-4d49-ecb7-0695d345e124"
      },
      "execution_count": null,
      "outputs": [
        {
          "output_type": "execute_result",
          "data": {
            "text/plain": [
              "count    9914.000000\n",
              "mean        1.671273\n",
              "std         1.278747\n",
              "min         1.000000\n",
              "25%         1.000000\n",
              "50%         1.000000\n",
              "75%         2.000000\n",
              "max         6.000000\n",
              "Name: passenger_count, dtype: float64"
            ]
          },
          "metadata": {},
          "execution_count": 352
        }
      ]
    },
    {
      "cell_type": "code",
      "source": [
        "## dropping the rows having zero passenger count\n",
        "train=train.loc[train[\"passenger_count\"]>0]"
      ],
      "metadata": {
        "id": "IZHLSv-I0W8D"
      },
      "execution_count": null,
      "outputs": []
    },
    {
      "cell_type": "code",
      "source": [
        "print(\"Shape of Train: \", train.shape)"
      ],
      "metadata": {
        "colab": {
          "base_uri": "https://localhost:8080/"
        },
        "id": "CBcvxDcw1ecC",
        "outputId": "288aa1dc-378a-4d78-da74-b8c3816851cf"
      },
      "execution_count": null,
      "outputs": [
        {
          "output_type": "stream",
          "name": "stdout",
          "text": [
            "Shape of Train:  (99625, 8)\n"
          ]
        }
      ]
    },
    {
      "cell_type": "markdown",
      "source": [
        "**Now, lets check lattitudes and longitudes**\n",
        "\n",
        "We know that:\n",
        "\n",
        "1.   Lattitudes range between -90 to 90\n",
        "2.   Longitudes range between -180 to 180\n",
        "\n"
      ],
      "metadata": {
        "id": "QSu_Ib251_fb"
      }
    },
    {
      "cell_type": "code",
      "source": [
        "train = train.loc[train[\"pickup_latitude\"]<90]\n",
        "train = train.loc[train[\"pickup_latitude\"]>-90]\n",
        "\n",
        "train = train.loc[train[\"dropoff_latitude\"]<90]\n",
        "train = train.loc[train[\"dropoff_latitude\"]>-90]\n",
        "\n",
        "train = train.loc[train[\"pickup_longitude\"]<180]\n",
        "train = train.loc[train[\"pickup_longitude\"]>-180]\n",
        "\n",
        "train = train.loc[train[\"dropoff_longitude\"]<180]\n",
        "train = train.loc[train[\"dropoff_longitude\"]>-180]"
      ],
      "metadata": {
        "id": "bcMddAFE1014"
      },
      "execution_count": null,
      "outputs": []
    },
    {
      "cell_type": "code",
      "source": [
        "print(\"Shape of Train: \", train.shape)"
      ],
      "metadata": {
        "colab": {
          "base_uri": "https://localhost:8080/"
        },
        "id": "WnWw2vN221TC",
        "outputId": "a22eddcf-fe51-493a-a61c-c9c4d17b321a"
      },
      "execution_count": null,
      "outputs": [
        {
          "output_type": "stream",
          "name": "stdout",
          "text": [
            "Shape of Train:  (99622, 8)\n"
          ]
        }
      ]
    },
    {
      "cell_type": "code",
      "source": [
        "test = test.loc[test[\"pickup_latitude\"]<90]\n",
        "test = test.loc[test[\"pickup_latitude\"]>-90]\n",
        "\n",
        "test = test.loc[test[\"dropoff_latitude\"]<90]\n",
        "test = test.loc[test[\"dropoff_latitude\"]>-90]\n",
        "\n",
        "test = test.loc[test[\"pickup_longitude\"]<180]\n",
        "test = test.loc[test[\"pickup_longitude\"]>-180]\n",
        "\n",
        "test = test.loc[test[\"dropoff_longitude\"]<180]\n",
        "test = test.loc[test[\"dropoff_longitude\"]>-180]"
      ],
      "metadata": {
        "id": "YheTPX0o22Gx"
      },
      "execution_count": null,
      "outputs": []
    },
    {
      "cell_type": "code",
      "source": [
        "print(\"Shape of Test: \", test.shape)"
      ],
      "metadata": {
        "colab": {
          "base_uri": "https://localhost:8080/"
        },
        "id": "AVVoniEk3NgH",
        "outputId": "2623992b-12ad-4ac9-ea39-85dff2cedc86"
      },
      "execution_count": null,
      "outputs": [
        {
          "output_type": "stream",
          "name": "stdout",
          "text": [
            "Shape of Test:  (9914, 7)\n"
          ]
        }
      ]
    },
    {
      "cell_type": "code",
      "source": [
        "train.describe()"
      ],
      "metadata": {
        "colab": {
          "base_uri": "https://localhost:8080/",
          "height": 300
        },
        "id": "RxrfvPaG35NE",
        "outputId": "500888e6-31d4-4ae3-f969-f17c10212af0"
      },
      "execution_count": null,
      "outputs": [
        {
          "output_type": "execute_result",
          "data": {
            "text/plain": [
              "        fare_amount  pickup_longitude  pickup_latitude  dropoff_longitude  \\\n",
              "count  99622.000000      99622.000000     99622.000000       99622.000000   \n",
              "mean      11.342516        -72.440074        39.882427         -72.455499   \n",
              "std        9.821215         10.672429         6.284058          10.620103   \n",
              "min        0.010000       -121.391202       -74.015935        -121.391318   \n",
              "25%        6.000000        -73.992133        40.734777         -73.991443   \n",
              "50%        8.500000        -73.981851        40.752457         -73.980215   \n",
              "75%       12.500000        -73.967171        40.767024         -73.963724   \n",
              "max      394.000000         40.801777        42.603366          40.787037   \n",
              "\n",
              "       dropoff_latitude  passenger_count  \n",
              "count      99622.000000     99622.000000  \n",
              "mean          39.889650         1.688352  \n",
              "std            6.263451         1.306984  \n",
              "min          -74.011085         1.000000  \n",
              "25%           40.734021         1.000000  \n",
              "50%           40.753081         1.000000  \n",
              "75%           40.768036         2.000000  \n",
              "max           44.640672         6.000000  "
            ],
            "text/html": [
              "\n",
              "  <div id=\"df-92f8e7f9-3a94-49a6-aad8-0777ad94c874\">\n",
              "    <div class=\"colab-df-container\">\n",
              "      <div>\n",
              "<style scoped>\n",
              "    .dataframe tbody tr th:only-of-type {\n",
              "        vertical-align: middle;\n",
              "    }\n",
              "\n",
              "    .dataframe tbody tr th {\n",
              "        vertical-align: top;\n",
              "    }\n",
              "\n",
              "    .dataframe thead th {\n",
              "        text-align: right;\n",
              "    }\n",
              "</style>\n",
              "<table border=\"1\" class=\"dataframe\">\n",
              "  <thead>\n",
              "    <tr style=\"text-align: right;\">\n",
              "      <th></th>\n",
              "      <th>fare_amount</th>\n",
              "      <th>pickup_longitude</th>\n",
              "      <th>pickup_latitude</th>\n",
              "      <th>dropoff_longitude</th>\n",
              "      <th>dropoff_latitude</th>\n",
              "      <th>passenger_count</th>\n",
              "    </tr>\n",
              "  </thead>\n",
              "  <tbody>\n",
              "    <tr>\n",
              "      <th>count</th>\n",
              "      <td>99622.000000</td>\n",
              "      <td>99622.000000</td>\n",
              "      <td>99622.000000</td>\n",
              "      <td>99622.000000</td>\n",
              "      <td>99622.000000</td>\n",
              "      <td>99622.000000</td>\n",
              "    </tr>\n",
              "    <tr>\n",
              "      <th>mean</th>\n",
              "      <td>11.342516</td>\n",
              "      <td>-72.440074</td>\n",
              "      <td>39.882427</td>\n",
              "      <td>-72.455499</td>\n",
              "      <td>39.889650</td>\n",
              "      <td>1.688352</td>\n",
              "    </tr>\n",
              "    <tr>\n",
              "      <th>std</th>\n",
              "      <td>9.821215</td>\n",
              "      <td>10.672429</td>\n",
              "      <td>6.284058</td>\n",
              "      <td>10.620103</td>\n",
              "      <td>6.263451</td>\n",
              "      <td>1.306984</td>\n",
              "    </tr>\n",
              "    <tr>\n",
              "      <th>min</th>\n",
              "      <td>0.010000</td>\n",
              "      <td>-121.391202</td>\n",
              "      <td>-74.015935</td>\n",
              "      <td>-121.391318</td>\n",
              "      <td>-74.011085</td>\n",
              "      <td>1.000000</td>\n",
              "    </tr>\n",
              "    <tr>\n",
              "      <th>25%</th>\n",
              "      <td>6.000000</td>\n",
              "      <td>-73.992133</td>\n",
              "      <td>40.734777</td>\n",
              "      <td>-73.991443</td>\n",
              "      <td>40.734021</td>\n",
              "      <td>1.000000</td>\n",
              "    </tr>\n",
              "    <tr>\n",
              "      <th>50%</th>\n",
              "      <td>8.500000</td>\n",
              "      <td>-73.981851</td>\n",
              "      <td>40.752457</td>\n",
              "      <td>-73.980215</td>\n",
              "      <td>40.753081</td>\n",
              "      <td>1.000000</td>\n",
              "    </tr>\n",
              "    <tr>\n",
              "      <th>75%</th>\n",
              "      <td>12.500000</td>\n",
              "      <td>-73.967171</td>\n",
              "      <td>40.767024</td>\n",
              "      <td>-73.963724</td>\n",
              "      <td>40.768036</td>\n",
              "      <td>2.000000</td>\n",
              "    </tr>\n",
              "    <tr>\n",
              "      <th>max</th>\n",
              "      <td>394.000000</td>\n",
              "      <td>40.801777</td>\n",
              "      <td>42.603366</td>\n",
              "      <td>40.787037</td>\n",
              "      <td>44.640672</td>\n",
              "      <td>6.000000</td>\n",
              "    </tr>\n",
              "  </tbody>\n",
              "</table>\n",
              "</div>\n",
              "      <button class=\"colab-df-convert\" onclick=\"convertToInteractive('df-92f8e7f9-3a94-49a6-aad8-0777ad94c874')\"\n",
              "              title=\"Convert this dataframe to an interactive table.\"\n",
              "              style=\"display:none;\">\n",
              "        \n",
              "  <svg xmlns=\"http://www.w3.org/2000/svg\" height=\"24px\"viewBox=\"0 0 24 24\"\n",
              "       width=\"24px\">\n",
              "    <path d=\"M0 0h24v24H0V0z\" fill=\"none\"/>\n",
              "    <path d=\"M18.56 5.44l.94 2.06.94-2.06 2.06-.94-2.06-.94-.94-2.06-.94 2.06-2.06.94zm-11 1L8.5 8.5l.94-2.06 2.06-.94-2.06-.94L8.5 2.5l-.94 2.06-2.06.94zm10 10l.94 2.06.94-2.06 2.06-.94-2.06-.94-.94-2.06-.94 2.06-2.06.94z\"/><path d=\"M17.41 7.96l-1.37-1.37c-.4-.4-.92-.59-1.43-.59-.52 0-1.04.2-1.43.59L10.3 9.45l-7.72 7.72c-.78.78-.78 2.05 0 2.83L4 21.41c.39.39.9.59 1.41.59.51 0 1.02-.2 1.41-.59l7.78-7.78 2.81-2.81c.8-.78.8-2.07 0-2.86zM5.41 20L4 18.59l7.72-7.72 1.47 1.35L5.41 20z\"/>\n",
              "  </svg>\n",
              "      </button>\n",
              "      \n",
              "  <style>\n",
              "    .colab-df-container {\n",
              "      display:flex;\n",
              "      flex-wrap:wrap;\n",
              "      gap: 12px;\n",
              "    }\n",
              "\n",
              "    .colab-df-convert {\n",
              "      background-color: #E8F0FE;\n",
              "      border: none;\n",
              "      border-radius: 50%;\n",
              "      cursor: pointer;\n",
              "      display: none;\n",
              "      fill: #1967D2;\n",
              "      height: 32px;\n",
              "      padding: 0 0 0 0;\n",
              "      width: 32px;\n",
              "    }\n",
              "\n",
              "    .colab-df-convert:hover {\n",
              "      background-color: #E2EBFA;\n",
              "      box-shadow: 0px 1px 2px rgba(60, 64, 67, 0.3), 0px 1px 3px 1px rgba(60, 64, 67, 0.15);\n",
              "      fill: #174EA6;\n",
              "    }\n",
              "\n",
              "    [theme=dark] .colab-df-convert {\n",
              "      background-color: #3B4455;\n",
              "      fill: #D2E3FC;\n",
              "    }\n",
              "\n",
              "    [theme=dark] .colab-df-convert:hover {\n",
              "      background-color: #434B5C;\n",
              "      box-shadow: 0px 1px 3px 1px rgba(0, 0, 0, 0.15);\n",
              "      filter: drop-shadow(0px 1px 2px rgba(0, 0, 0, 0.3));\n",
              "      fill: #FFFFFF;\n",
              "    }\n",
              "  </style>\n",
              "\n",
              "      <script>\n",
              "        const buttonEl =\n",
              "          document.querySelector('#df-92f8e7f9-3a94-49a6-aad8-0777ad94c874 button.colab-df-convert');\n",
              "        buttonEl.style.display =\n",
              "          google.colab.kernel.accessAllowed ? 'block' : 'none';\n",
              "\n",
              "        async function convertToInteractive(key) {\n",
              "          const element = document.querySelector('#df-92f8e7f9-3a94-49a6-aad8-0777ad94c874');\n",
              "          const dataTable =\n",
              "            await google.colab.kernel.invokeFunction('convertToInteractive',\n",
              "                                                     [key], {});\n",
              "          if (!dataTable) return;\n",
              "\n",
              "          const docLinkHtml = 'Like what you see? Visit the ' +\n",
              "            '<a target=\"_blank\" href=https://colab.research.google.com/notebooks/data_table.ipynb>data table notebook</a>'\n",
              "            + ' to learn more about interactive tables.';\n",
              "          element.innerHTML = '';\n",
              "          dataTable['output_type'] = 'display_data';\n",
              "          await google.colab.output.renderOutput(dataTable, element);\n",
              "          const docLink = document.createElement('div');\n",
              "          docLink.innerHTML = docLinkHtml;\n",
              "          element.appendChild(docLink);\n",
              "        }\n",
              "      </script>\n",
              "    </div>\n",
              "  </div>\n",
              "  "
            ]
          },
          "metadata": {},
          "execution_count": 359
        }
      ]
    },
    {
      "cell_type": "code",
      "source": [
        "test.describe()"
      ],
      "metadata": {
        "colab": {
          "base_uri": "https://localhost:8080/",
          "height": 300
        },
        "id": "TUMp1HkX36aP",
        "outputId": "f3ff1c9e-6fb0-4c7e-8f62-63becc9fb825"
      },
      "execution_count": null,
      "outputs": [
        {
          "output_type": "execute_result",
          "data": {
            "text/plain": [
              "       pickup_longitude  pickup_latitude  dropoff_longitude  dropoff_latitude  \\\n",
              "count       9914.000000      9914.000000        9914.000000       9914.000000   \n",
              "mean         -73.974722        40.751041         -73.973657         40.751743   \n",
              "std            0.042774         0.033541           0.039072          0.035435   \n",
              "min          -74.252193        40.573143         -74.263242         40.568973   \n",
              "25%          -73.992501        40.736125         -73.991247         40.735254   \n",
              "50%          -73.982326        40.753051         -73.980015         40.754065   \n",
              "75%          -73.968013        40.767113         -73.964059         40.768757   \n",
              "max          -72.986532        41.709555         -72.990963         41.696683   \n",
              "\n",
              "       passenger_count  \n",
              "count      9914.000000  \n",
              "mean          1.671273  \n",
              "std           1.278747  \n",
              "min           1.000000  \n",
              "25%           1.000000  \n",
              "50%           1.000000  \n",
              "75%           2.000000  \n",
              "max           6.000000  "
            ],
            "text/html": [
              "\n",
              "  <div id=\"df-b9186d31-5998-4fd0-8bf8-581cc1a2014d\">\n",
              "    <div class=\"colab-df-container\">\n",
              "      <div>\n",
              "<style scoped>\n",
              "    .dataframe tbody tr th:only-of-type {\n",
              "        vertical-align: middle;\n",
              "    }\n",
              "\n",
              "    .dataframe tbody tr th {\n",
              "        vertical-align: top;\n",
              "    }\n",
              "\n",
              "    .dataframe thead th {\n",
              "        text-align: right;\n",
              "    }\n",
              "</style>\n",
              "<table border=\"1\" class=\"dataframe\">\n",
              "  <thead>\n",
              "    <tr style=\"text-align: right;\">\n",
              "      <th></th>\n",
              "      <th>pickup_longitude</th>\n",
              "      <th>pickup_latitude</th>\n",
              "      <th>dropoff_longitude</th>\n",
              "      <th>dropoff_latitude</th>\n",
              "      <th>passenger_count</th>\n",
              "    </tr>\n",
              "  </thead>\n",
              "  <tbody>\n",
              "    <tr>\n",
              "      <th>count</th>\n",
              "      <td>9914.000000</td>\n",
              "      <td>9914.000000</td>\n",
              "      <td>9914.000000</td>\n",
              "      <td>9914.000000</td>\n",
              "      <td>9914.000000</td>\n",
              "    </tr>\n",
              "    <tr>\n",
              "      <th>mean</th>\n",
              "      <td>-73.974722</td>\n",
              "      <td>40.751041</td>\n",
              "      <td>-73.973657</td>\n",
              "      <td>40.751743</td>\n",
              "      <td>1.671273</td>\n",
              "    </tr>\n",
              "    <tr>\n",
              "      <th>std</th>\n",
              "      <td>0.042774</td>\n",
              "      <td>0.033541</td>\n",
              "      <td>0.039072</td>\n",
              "      <td>0.035435</td>\n",
              "      <td>1.278747</td>\n",
              "    </tr>\n",
              "    <tr>\n",
              "      <th>min</th>\n",
              "      <td>-74.252193</td>\n",
              "      <td>40.573143</td>\n",
              "      <td>-74.263242</td>\n",
              "      <td>40.568973</td>\n",
              "      <td>1.000000</td>\n",
              "    </tr>\n",
              "    <tr>\n",
              "      <th>25%</th>\n",
              "      <td>-73.992501</td>\n",
              "      <td>40.736125</td>\n",
              "      <td>-73.991247</td>\n",
              "      <td>40.735254</td>\n",
              "      <td>1.000000</td>\n",
              "    </tr>\n",
              "    <tr>\n",
              "      <th>50%</th>\n",
              "      <td>-73.982326</td>\n",
              "      <td>40.753051</td>\n",
              "      <td>-73.980015</td>\n",
              "      <td>40.754065</td>\n",
              "      <td>1.000000</td>\n",
              "    </tr>\n",
              "    <tr>\n",
              "      <th>75%</th>\n",
              "      <td>-73.968013</td>\n",
              "      <td>40.767113</td>\n",
              "      <td>-73.964059</td>\n",
              "      <td>40.768757</td>\n",
              "      <td>2.000000</td>\n",
              "    </tr>\n",
              "    <tr>\n",
              "      <th>max</th>\n",
              "      <td>-72.986532</td>\n",
              "      <td>41.709555</td>\n",
              "      <td>-72.990963</td>\n",
              "      <td>41.696683</td>\n",
              "      <td>6.000000</td>\n",
              "    </tr>\n",
              "  </tbody>\n",
              "</table>\n",
              "</div>\n",
              "      <button class=\"colab-df-convert\" onclick=\"convertToInteractive('df-b9186d31-5998-4fd0-8bf8-581cc1a2014d')\"\n",
              "              title=\"Convert this dataframe to an interactive table.\"\n",
              "              style=\"display:none;\">\n",
              "        \n",
              "  <svg xmlns=\"http://www.w3.org/2000/svg\" height=\"24px\"viewBox=\"0 0 24 24\"\n",
              "       width=\"24px\">\n",
              "    <path d=\"M0 0h24v24H0V0z\" fill=\"none\"/>\n",
              "    <path d=\"M18.56 5.44l.94 2.06.94-2.06 2.06-.94-2.06-.94-.94-2.06-.94 2.06-2.06.94zm-11 1L8.5 8.5l.94-2.06 2.06-.94-2.06-.94L8.5 2.5l-.94 2.06-2.06.94zm10 10l.94 2.06.94-2.06 2.06-.94-2.06-.94-.94-2.06-.94 2.06-2.06.94z\"/><path d=\"M17.41 7.96l-1.37-1.37c-.4-.4-.92-.59-1.43-.59-.52 0-1.04.2-1.43.59L10.3 9.45l-7.72 7.72c-.78.78-.78 2.05 0 2.83L4 21.41c.39.39.9.59 1.41.59.51 0 1.02-.2 1.41-.59l7.78-7.78 2.81-2.81c.8-.78.8-2.07 0-2.86zM5.41 20L4 18.59l7.72-7.72 1.47 1.35L5.41 20z\"/>\n",
              "  </svg>\n",
              "      </button>\n",
              "      \n",
              "  <style>\n",
              "    .colab-df-container {\n",
              "      display:flex;\n",
              "      flex-wrap:wrap;\n",
              "      gap: 12px;\n",
              "    }\n",
              "\n",
              "    .colab-df-convert {\n",
              "      background-color: #E8F0FE;\n",
              "      border: none;\n",
              "      border-radius: 50%;\n",
              "      cursor: pointer;\n",
              "      display: none;\n",
              "      fill: #1967D2;\n",
              "      height: 32px;\n",
              "      padding: 0 0 0 0;\n",
              "      width: 32px;\n",
              "    }\n",
              "\n",
              "    .colab-df-convert:hover {\n",
              "      background-color: #E2EBFA;\n",
              "      box-shadow: 0px 1px 2px rgba(60, 64, 67, 0.3), 0px 1px 3px 1px rgba(60, 64, 67, 0.15);\n",
              "      fill: #174EA6;\n",
              "    }\n",
              "\n",
              "    [theme=dark] .colab-df-convert {\n",
              "      background-color: #3B4455;\n",
              "      fill: #D2E3FC;\n",
              "    }\n",
              "\n",
              "    [theme=dark] .colab-df-convert:hover {\n",
              "      background-color: #434B5C;\n",
              "      box-shadow: 0px 1px 3px 1px rgba(0, 0, 0, 0.15);\n",
              "      filter: drop-shadow(0px 1px 2px rgba(0, 0, 0, 0.3));\n",
              "      fill: #FFFFFF;\n",
              "    }\n",
              "  </style>\n",
              "\n",
              "      <script>\n",
              "        const buttonEl =\n",
              "          document.querySelector('#df-b9186d31-5998-4fd0-8bf8-581cc1a2014d button.colab-df-convert');\n",
              "        buttonEl.style.display =\n",
              "          google.colab.kernel.accessAllowed ? 'block' : 'none';\n",
              "\n",
              "        async function convertToInteractive(key) {\n",
              "          const element = document.querySelector('#df-b9186d31-5998-4fd0-8bf8-581cc1a2014d');\n",
              "          const dataTable =\n",
              "            await google.colab.kernel.invokeFunction('convertToInteractive',\n",
              "                                                     [key], {});\n",
              "          if (!dataTable) return;\n",
              "\n",
              "          const docLinkHtml = 'Like what you see? Visit the ' +\n",
              "            '<a target=\"_blank\" href=https://colab.research.google.com/notebooks/data_table.ipynb>data table notebook</a>'\n",
              "            + ' to learn more about interactive tables.';\n",
              "          element.innerHTML = '';\n",
              "          dataTable['output_type'] = 'display_data';\n",
              "          await google.colab.output.renderOutput(dataTable, element);\n",
              "          const docLink = document.createElement('div');\n",
              "          docLink.innerHTML = docLinkHtml;\n",
              "          element.appendChild(docLink);\n",
              "        }\n",
              "      </script>\n",
              "    </div>\n",
              "  </div>\n",
              "  "
            ]
          },
          "metadata": {},
          "execution_count": 360
        }
      ]
    },
    {
      "cell_type": "code",
      "source": [
        "train.plot(kind=\"scatter\",x=\"pickup_longitude\",y=\"pickup_latitude\",figsize=(10,7))\n",
        "plt.grid()\n",
        "plt.show()"
      ],
      "metadata": {
        "colab": {
          "base_uri": "https://localhost:8080/",
          "height": 443
        },
        "id": "POsF6xW34ETJ",
        "outputId": "e0ae74d3-0bbb-41d7-f209-7ffeeb8622a9"
      },
      "execution_count": null,
      "outputs": [
        {
          "output_type": "display_data",
          "data": {
            "text/plain": [
              "<Figure size 720x504 with 1 Axes>"
            ],
            "image/png": "[encoded data removed]"
          },
          "metadata": {
            "needs_background": "light"
          }
        }
      ]
    },
    {
      "cell_type": "markdown",
      "source": [
        "From the above scatter plot we can see that the range of latitude and longitude is quite large (beyond the range of new york city) New York Latitude and Longitude coordinates are :(40.7128° N , 74.0060° W ) \n",
        "\n",
        "So we will filter this latitudes(in range of 40.5 to 41.8) and longitudes(in range of -74.5 to -72.8) as we are building the model only for city."
      ],
      "metadata": {
        "id": "yIfgDgGC3pEG"
      }
    },
    {
      "cell_type": "code",
      "source": [
        "latitude_max = 41.8\n",
        "latitude_min = 40.5\n",
        "longitude_max = -72.8\n",
        "longitude_min = -74.5\n",
        "\n",
        "train = train.loc[train[\"pickup_latitude\"]<latitude_max]\n",
        "train = train.loc[train[\"pickup_latitude\"]>latitude_min]\n",
        "\n",
        "train = train.loc[train[\"dropoff_latitude\"]<latitude_max]\n",
        "train = train.loc[train[\"dropoff_latitude\"]>latitude_min]\n",
        "\n",
        "train = train.loc[train[\"pickup_longitude\"]<longitude_max]\n",
        "train = train.loc[train[\"pickup_longitude\"]>longitude_min]\n",
        "\n",
        "train = train.loc[train[\"dropoff_longitude\"]<longitude_max]\n",
        "train = train.loc[train[\"dropoff_longitude\"]>longitude_min]"
      ],
      "metadata": {
        "id": "oRIt8E5H3Rfz"
      },
      "execution_count": null,
      "outputs": []
    },
    {
      "cell_type": "code",
      "source": [
        "print(\"Shape of Train: \", train.shape)"
      ],
      "metadata": {
        "colab": {
          "base_uri": "https://localhost:8080/"
        },
        "id": "3ZrRWbky-Z2x",
        "outputId": "81245b48-4267-4d4b-d36e-1361bf913eb5"
      },
      "execution_count": null,
      "outputs": [
        {
          "output_type": "stream",
          "name": "stdout",
          "text": [
            "Shape of Train:  (97454, 8)\n"
          ]
        }
      ]
    },
    {
      "cell_type": "code",
      "source": [
        "test = test.loc[test[\"pickup_latitude\"]<latitude_max]\n",
        "test = test.loc[test[\"pickup_latitude\"]>latitude_min]\n",
        "\n",
        "test = test.loc[test[\"dropoff_latitude\"]<latitude_max]\n",
        "test = test.loc[test[\"dropoff_latitude\"]>latitude_min]\n",
        "\n",
        "test = test.loc[test[\"pickup_longitude\"]<longitude_max]\n",
        "test = test.loc[test[\"pickup_longitude\"]>longitude_min]\n",
        "\n",
        "test = test.loc[test[\"dropoff_longitude\"]<longitude_max]\n",
        "test = test.loc[test[\"dropoff_longitude\"]>longitude_min]"
      ],
      "metadata": {
        "id": "va5uHM8X-DFz"
      },
      "execution_count": null,
      "outputs": []
    },
    {
      "cell_type": "code",
      "source": [
        "print(\"Shape of Test: \", test.shape)"
      ],
      "metadata": {
        "colab": {
          "base_uri": "https://localhost:8080/"
        },
        "id": "xZYbxOwe-HgX",
        "outputId": "0a32c999-1bf0-4efa-c5f9-a31c66868175"
      },
      "execution_count": null,
      "outputs": [
        {
          "output_type": "stream",
          "name": "stdout",
          "text": [
            "Shape of Test:  (9914, 7)\n"
          ]
        }
      ]
    },
    {
      "cell_type": "markdown",
      "source": [
        "**Converting Datatypes**"
      ],
      "metadata": {
        "id": "uf38xrhK-0wh"
      }
    },
    {
      "cell_type": "code",
      "source": [
        "## checking datatypes of various attributes in the train set and test set\n",
        "train.dtypes, test.dtypes"
      ],
      "metadata": {
        "colab": {
          "base_uri": "https://localhost:8080/"
        },
        "id": "UMWp6eTn-0B4",
        "outputId": "2b4ab1db-58e9-4122-bc08-a580fdfa85a5"
      },
      "execution_count": null,
      "outputs": [
        {
          "output_type": "execute_result",
          "data": {
            "text/plain": [
              "(key                   object\n",
              " fare_amount          float64\n",
              " pickup_datetime       object\n",
              " pickup_longitude     float64\n",
              " pickup_latitude      float64\n",
              " dropoff_longitude    float64\n",
              " dropoff_latitude     float64\n",
              " passenger_count        int64\n",
              " dtype: object, key                   object\n",
              " pickup_datetime       object\n",
              " pickup_longitude     float64\n",
              " pickup_latitude      float64\n",
              " dropoff_longitude    float64\n",
              " dropoff_latitude     float64\n",
              " passenger_count        int64\n",
              " dtype: object)"
            ]
          },
          "metadata": {},
          "execution_count": 366
        }
      ]
    },
    {
      "cell_type": "markdown",
      "source": [
        "Here \"**key**\" and \"**pickup_datetime**\" have data type as **object** so we need to convert them into **datetime**"
      ],
      "metadata": {
        "id": "qbscNMsr_IPC"
      }
    },
    {
      "cell_type": "code",
      "source": [
        "## converting \"key\" and \"pickup_datetime\" to date_time\n",
        "train[\"key\"]=pd.to_datetime(train[\"key\"])\n",
        "train[\"pickup_datetime\"]=pd.to_datetime(train[\"pickup_datetime\"])\n",
        "test[\"key\"]=pd.to_datetime(test[\"key\"])\n",
        "test[\"pickup_datetime\"]=pd.to_datetime(test[\"pickup_datetime\"])"
      ],
      "metadata": {
        "id": "kWsa7che-WFL"
      },
      "execution_count": null,
      "outputs": []
    },
    {
      "cell_type": "markdown",
      "source": [
        "Splitting the datetime field 'pickup_datetime' to the following -\n",
        "\n",
        "*  hour\n",
        "*  day of week\n",
        "*  day of month\n",
        "*  week\n",
        "*  month\n",
        "*  year"
      ],
      "metadata": {
        "id": "JR5NXMlI_cCd"
      }
    },
    {
      "cell_type": "code",
      "source": [
        "data = [train,test]\n",
        "for i in data:\n",
        "    i['Year'] = i['pickup_datetime'].dt.year\n",
        "    i['Month'] = i['pickup_datetime'].dt.month\n",
        "    i['Date'] = i['pickup_datetime'].dt.day\n",
        "    i['Day of Week'] = i['pickup_datetime'].dt.dayofweek\n",
        "    i['Hour'] = i['pickup_datetime'].dt.hour"
      ],
      "metadata": {
        "id": "_TP0QCnL_Q9y"
      },
      "execution_count": null,
      "outputs": []
    },
    {
      "cell_type": "code",
      "source": [
        "# Remove the pickup_datetime column since it's no longer needed\n",
        "train = train.drop(['pickup_datetime'], axis=1)\n",
        "test = test.drop(['pickup_datetime'], axis=1)\n"
      ],
      "metadata": {
        "id": "Y5LSDiMM_6XE"
      },
      "execution_count": null,
      "outputs": []
    },
    {
      "cell_type": "code",
      "source": [
        "# Also removing the key column\n",
        "train = train.drop(['key'], axis=1)\n",
        "test = test.drop(['key'], axis=1)"
      ],
      "metadata": {
        "id": "cnakNea_ADen"
      },
      "execution_count": null,
      "outputs": []
    },
    {
      "cell_type": "code",
      "source": [
        "def haversine_distance(lat1, long1, lat2, long2):\n",
        "    data = [train, test]\n",
        "    for i in data:\n",
        "        R = 6371  #radius of earth in kilometers\n",
        "        phi1 = np.radians(i[lat1])\n",
        "        phi2 = np.radians(i[lat2])\n",
        "    \n",
        "        delta_phi = np.radians(i[lat2]-i[lat1])\n",
        "        delta_lambda = np.radians(i[long2]-i[long1])\n",
        "    \n",
        "        #a = sin²((φB - φA)/2) + cos φA . cos φB . sin²((λB - λA)/2)\n",
        "        a = np.sin(delta_phi / 2.0) ** 2 + np.cos(phi1) * np.cos(phi2) * np.sin(delta_lambda / 2.0) ** 2\n",
        "    \n",
        "        #c = 2 * atan2( √a, √(1−a) )\n",
        "        c = 2 * np.arctan2(np.sqrt(a), np.sqrt(1-a))\n",
        "    \n",
        "        #d = R*c\n",
        "        d = (R * c) #in kilometers\n",
        "        i['H_Distance'] = d\n",
        "    return d"
      ],
      "metadata": {
        "id": "6nSRzIE8_pmW"
      },
      "execution_count": null,
      "outputs": []
    },
    {
      "cell_type": "code",
      "source": [
        "## calculating the Haversine distance and adding this values in the new feature : \"H_distance\"\n",
        "haversine_distance('pickup_latitude', 'pickup_longitude', 'dropoff_latitude', 'dropoff_longitude') ##in kilometers"
      ],
      "metadata": {
        "colab": {
          "base_uri": "https://localhost:8080/"
        },
        "id": "SKJYyj6d_trW",
        "outputId": "372e8dee-bce7-465f-8d0f-fb4bea2bcb8d"
      },
      "execution_count": null,
      "outputs": [
        {
          "output_type": "execute_result",
          "data": {
            "text/plain": [
              "0        2.323260\n",
              "1        2.425353\n",
              "2        0.618628\n",
              "3        1.961033\n",
              "4        5.387301\n",
              "          ...    \n",
              "9909     2.124874\n",
              "9910     3.270969\n",
              "9911    19.183941\n",
              "9912     8.343486\n",
              "9913     1.180825\n",
              "Length: 9914, dtype: float64"
            ]
          },
          "metadata": {},
          "execution_count": 372
        }
      ]
    },
    {
      "cell_type": "code",
      "source": [
        "train.head()"
      ],
      "metadata": {
        "colab": {
          "base_uri": "https://localhost:8080/",
          "height": 206
        },
        "id": "AIIsInt-_1Ym",
        "outputId": "cab6e951-dac5-42cf-d304-bd97e3fd1e96"
      },
      "execution_count": null,
      "outputs": [
        {
          "output_type": "execute_result",
          "data": {
            "text/plain": [
              "   fare_amount  pickup_longitude  pickup_latitude  dropoff_longitude  \\\n",
              "0          4.9        -73.998287        40.727490         -73.989854   \n",
              "1          4.9        -73.966597        40.794345         -73.965682   \n",
              "2          6.9        -73.971638        40.763382         -73.953767   \n",
              "3         14.1        -74.003545        40.707399         -73.981312   \n",
              "4         12.1        -74.004532        40.707465         -73.977908   \n",
              "\n",
              "   dropoff_latitude  passenger_count  Year  Month  Date  Day of Week  Hour  \\\n",
              "0         40.735239                2  2009      4     8            2    19   \n",
              "1         40.803808                2  2012      7    30            0    16   \n",
              "2         40.783715                1  2011      2    22            1    13   \n",
              "3         40.750071                1  2010     10     7            3    21   \n",
              "4         40.745633                5  2009     10     2            4    22   \n",
              "\n",
              "   H_Distance  \n",
              "0    1.116850  \n",
              "1    1.055053  \n",
              "2    2.715959  \n",
              "3    5.101370  \n",
              "4    4.800593  "
            ],
            "text/html": [
              "\n",
              "  <div id=\"df-54bebe8b-6b6c-4448-ae21-c1b7de787b87\">\n",
              "    <div class=\"colab-df-container\">\n",
              "      <div>\n",
              "<style scoped>\n",
              "    .dataframe tbody tr th:only-of-type {\n",
              "        vertical-align: middle;\n",
              "    }\n",
              "\n",
              "    .dataframe tbody tr th {\n",
              "        vertical-align: top;\n",
              "    }\n",
              "\n",
              "    .dataframe thead th {\n",
              "        text-align: right;\n",
              "    }\n",
              "</style>\n",
              "<table border=\"1\" class=\"dataframe\">\n",
              "  <thead>\n",
              "    <tr style=\"text-align: right;\">\n",
              "      <th></th>\n",
              "      <th>fare_amount</th>\n",
              "      <th>pickup_longitude</th>\n",
              "      <th>pickup_latitude</th>\n",
              "      <th>dropoff_longitude</th>\n",
              "      <th>dropoff_latitude</th>\n",
              "      <th>passenger_count</th>\n",
              "      <th>Year</th>\n",
              "      <th>Month</th>\n",
              "      <th>Date</th>\n",
              "      <th>Day of Week</th>\n",
              "      <th>Hour</th>\n",
              "      <th>H_Distance</th>\n",
              "    </tr>\n",
              "  </thead>\n",
              "  <tbody>\n",
              "    <tr>\n",
              "      <th>0</th>\n",
              "      <td>4.9</td>\n",
              "      <td>-73.998287</td>\n",
              "      <td>40.727490</td>\n",
              "      <td>-73.989854</td>\n",
              "      <td>40.735239</td>\n",
              "      <td>2</td>\n",
              "      <td>2009</td>\n",
              "      <td>4</td>\n",
              "      <td>8</td>\n",
              "      <td>2</td>\n",
              "      <td>19</td>\n",
              "      <td>1.116850</td>\n",
              "    </tr>\n",
              "    <tr>\n",
              "      <th>1</th>\n",
              "      <td>4.9</td>\n",
              "      <td>-73.966597</td>\n",
              "      <td>40.794345</td>\n",
              "      <td>-73.965682</td>\n",
              "      <td>40.803808</td>\n",
              "      <td>2</td>\n",
              "      <td>2012</td>\n",
              "      <td>7</td>\n",
              "      <td>30</td>\n",
              "      <td>0</td>\n",
              "      <td>16</td>\n",
              "      <td>1.055053</td>\n",
              "    </tr>\n",
              "    <tr>\n",
              "      <th>2</th>\n",
              "      <td>6.9</td>\n",
              "      <td>-73.971638</td>\n",
              "      <td>40.763382</td>\n",
              "      <td>-73.953767</td>\n",
              "      <td>40.783715</td>\n",
              "      <td>1</td>\n",
              "      <td>2011</td>\n",
              "      <td>2</td>\n",
              "      <td>22</td>\n",
              "      <td>1</td>\n",
              "      <td>13</td>\n",
              "      <td>2.715959</td>\n",
              "    </tr>\n",
              "    <tr>\n",
              "      <th>3</th>\n",
              "      <td>14.1</td>\n",
              "      <td>-74.003545</td>\n",
              "      <td>40.707399</td>\n",
              "      <td>-73.981312</td>\n",
              "      <td>40.750071</td>\n",
              "      <td>1</td>\n",
              "      <td>2010</td>\n",
              "      <td>10</td>\n",
              "      <td>7</td>\n",
              "      <td>3</td>\n",
              "      <td>21</td>\n",
              "      <td>5.101370</td>\n",
              "    </tr>\n",
              "    <tr>\n",
              "      <th>4</th>\n",
              "      <td>12.1</td>\n",
              "      <td>-74.004532</td>\n",
              "      <td>40.707465</td>\n",
              "      <td>-73.977908</td>\n",
              "      <td>40.745633</td>\n",
              "      <td>5</td>\n",
              "      <td>2009</td>\n",
              "      <td>10</td>\n",
              "      <td>2</td>\n",
              "      <td>4</td>\n",
              "      <td>22</td>\n",
              "      <td>4.800593</td>\n",
              "    </tr>\n",
              "  </tbody>\n",
              "</table>\n",
              "</div>\n",
              "      <button class=\"colab-df-convert\" onclick=\"convertToInteractive('df-54bebe8b-6b6c-4448-ae21-c1b7de787b87')\"\n",
              "              title=\"Convert this dataframe to an interactive table.\"\n",
              "              style=\"display:none;\">\n",
              "        \n",
              "  <svg xmlns=\"http://www.w3.org/2000/svg\" height=\"24px\"viewBox=\"0 0 24 24\"\n",
              "       width=\"24px\">\n",
              "    <path d=\"M0 0h24v24H0V0z\" fill=\"none\"/>\n",
              "    <path d=\"M18.56 5.44l.94 2.06.94-2.06 2.06-.94-2.06-.94-.94-2.06-.94 2.06-2.06.94zm-11 1L8.5 8.5l.94-2.06 2.06-.94-2.06-.94L8.5 2.5l-.94 2.06-2.06.94zm10 10l.94 2.06.94-2.06 2.06-.94-2.06-.94-.94-2.06-.94 2.06-2.06.94z\"/><path d=\"M17.41 7.96l-1.37-1.37c-.4-.4-.92-.59-1.43-.59-.52 0-1.04.2-1.43.59L10.3 9.45l-7.72 7.72c-.78.78-.78 2.05 0 2.83L4 21.41c.39.39.9.59 1.41.59.51 0 1.02-.2 1.41-.59l7.78-7.78 2.81-2.81c.8-.78.8-2.07 0-2.86zM5.41 20L4 18.59l7.72-7.72 1.47 1.35L5.41 20z\"/>\n",
              "  </svg>\n",
              "      </button>\n",
              "      \n",
              "  <style>\n",
              "    .colab-df-container {\n",
              "      display:flex;\n",
              "      flex-wrap:wrap;\n",
              "      gap: 12px;\n",
              "    }\n",
              "\n",
              "    .colab-df-convert {\n",
              "      background-color: #E8F0FE;\n",
              "      border: none;\n",
              "      border-radius: 50%;\n",
              "      cursor: pointer;\n",
              "      display: none;\n",
              "      fill: #1967D2;\n",
              "      height: 32px;\n",
              "      padding: 0 0 0 0;\n",
              "      width: 32px;\n",
              "    }\n",
              "\n",
              "    .colab-df-convert:hover {\n",
              "      background-color: #E2EBFA;\n",
              "      box-shadow: 0px 1px 2px rgba(60, 64, 67, 0.3), 0px 1px 3px 1px rgba(60, 64, 67, 0.15);\n",
              "      fill: #174EA6;\n",
              "    }\n",
              "\n",
              "    [theme=dark] .colab-df-convert {\n",
              "      background-color: #3B4455;\n",
              "      fill: #D2E3FC;\n",
              "    }\n",
              "\n",
              "    [theme=dark] .colab-df-convert:hover {\n",
              "      background-color: #434B5C;\n",
              "      box-shadow: 0px 1px 3px 1px rgba(0, 0, 0, 0.15);\n",
              "      filter: drop-shadow(0px 1px 2px rgba(0, 0, 0, 0.3));\n",
              "      fill: #FFFFFF;\n",
              "    }\n",
              "  </style>\n",
              "\n",
              "      <script>\n",
              "        const buttonEl =\n",
              "          document.querySelector('#df-54bebe8b-6b6c-4448-ae21-c1b7de787b87 button.colab-df-convert');\n",
              "        buttonEl.style.display =\n",
              "          google.colab.kernel.accessAllowed ? 'block' : 'none';\n",
              "\n",
              "        async function convertToInteractive(key) {\n",
              "          const element = document.querySelector('#df-54bebe8b-6b6c-4448-ae21-c1b7de787b87');\n",
              "          const dataTable =\n",
              "            await google.colab.kernel.invokeFunction('convertToInteractive',\n",
              "                                                     [key], {});\n",
              "          if (!dataTable) return;\n",
              "\n",
              "          const docLinkHtml = 'Like what you see? Visit the ' +\n",
              "            '<a target=\"_blank\" href=https://colab.research.google.com/notebooks/data_table.ipynb>data table notebook</a>'\n",
              "            + ' to learn more about interactive tables.';\n",
              "          element.innerHTML = '';\n",
              "          dataTable['output_type'] = 'display_data';\n",
              "          await google.colab.output.renderOutput(dataTable, element);\n",
              "          const docLink = document.createElement('div');\n",
              "          docLink.innerHTML = docLinkHtml;\n",
              "          element.appendChild(docLink);\n",
              "        }\n",
              "      </script>\n",
              "    </div>\n",
              "  </div>\n",
              "  "
            ]
          },
          "metadata": {},
          "execution_count": 373
        }
      ]
    },
    {
      "cell_type": "code",
      "source": [
        "test.head()"
      ],
      "metadata": {
        "colab": {
          "base_uri": "https://localhost:8080/",
          "height": 206
        },
        "id": "BEQI1FxfAOqO",
        "outputId": "6eb5a31a-b025-4b79-ad4b-a3ec74501eae"
      },
      "execution_count": null,
      "outputs": [
        {
          "output_type": "execute_result",
          "data": {
            "text/plain": [
              "   pickup_longitude  pickup_latitude  dropoff_longitude  dropoff_latitude  \\\n",
              "0        -73.973320        40.763805         -73.981430         40.743835   \n",
              "1        -73.986862        40.719383         -73.998886         40.739201   \n",
              "2        -73.982524        40.751260         -73.979654         40.746139   \n",
              "3        -73.981160        40.767807         -73.990448         40.751635   \n",
              "4        -73.966046        40.789775         -73.988565         40.744427   \n",
              "\n",
              "   passenger_count  Year  Month  Date  Day of Week  Hour  H_Distance  \n",
              "0                1  2015      1    27            1    13    2.323260  \n",
              "1                1  2015      1    27            1    13    2.425353  \n",
              "2                1  2011     10     8            5    11    0.618628  \n",
              "3                1  2012     12     1            5    21    1.961033  \n",
              "4                1  2012     12     1            5    21    5.387301  "
            ],
            "text/html": [
              "\n",
              "  <div id=\"df-036bf78f-6ad4-4985-b0d7-5d482df44500\">\n",
              "    <div class=\"colab-df-container\">\n",
              "      <div>\n",
              "<style scoped>\n",
              "    .dataframe tbody tr th:only-of-type {\n",
              "        vertical-align: middle;\n",
              "    }\n",
              "\n",
              "    .dataframe tbody tr th {\n",
              "        vertical-align: top;\n",
              "    }\n",
              "\n",
              "    .dataframe thead th {\n",
              "        text-align: right;\n",
              "    }\n",
              "</style>\n",
              "<table border=\"1\" class=\"dataframe\">\n",
              "  <thead>\n",
              "    <tr style=\"text-align: right;\">\n",
              "      <th></th>\n",
              "      <th>pickup_longitude</th>\n",
              "      <th>pickup_latitude</th>\n",
              "      <th>dropoff_longitude</th>\n",
              "      <th>dropoff_latitude</th>\n",
              "      <th>passenger_count</th>\n",
              "      <th>Year</th>\n",
              "      <th>Month</th>\n",
              "      <th>Date</th>\n",
              "      <th>Day of Week</th>\n",
              "      <th>Hour</th>\n",
              "      <th>H_Distance</th>\n",
              "    </tr>\n",
              "  </thead>\n",
              "  <tbody>\n",
              "    <tr>\n",
              "      <th>0</th>\n",
              "      <td>-73.973320</td>\n",
              "      <td>40.763805</td>\n",
              "      <td>-73.981430</td>\n",
              "      <td>40.743835</td>\n",
              "      <td>1</td>\n",
              "      <td>2015</td>\n",
              "      <td>1</td>\n",
              "      <td>27</td>\n",
              "      <td>1</td>\n",
              "      <td>13</td>\n",
              "      <td>2.323260</td>\n",
              "    </tr>\n",
              "    <tr>\n",
              "      <th>1</th>\n",
              "      <td>-73.986862</td>\n",
              "      <td>40.719383</td>\n",
              "      <td>-73.998886</td>\n",
              "      <td>40.739201</td>\n",
              "      <td>1</td>\n",
              "      <td>2015</td>\n",
              "      <td>1</td>\n",
              "      <td>27</td>\n",
              "      <td>1</td>\n",
              "      <td>13</td>\n",
              "      <td>2.425353</td>\n",
              "    </tr>\n",
              "    <tr>\n",
              "      <th>2</th>\n",
              "      <td>-73.982524</td>\n",
              "      <td>40.751260</td>\n",
              "      <td>-73.979654</td>\n",
              "      <td>40.746139</td>\n",
              "      <td>1</td>\n",
              "      <td>2011</td>\n",
              "      <td>10</td>\n",
              "      <td>8</td>\n",
              "      <td>5</td>\n",
              "      <td>11</td>\n",
              "      <td>0.618628</td>\n",
              "    </tr>\n",
              "    <tr>\n",
              "      <th>3</th>\n",
              "      <td>-73.981160</td>\n",
              "      <td>40.767807</td>\n",
              "      <td>-73.990448</td>\n",
              "      <td>40.751635</td>\n",
              "      <td>1</td>\n",
              "      <td>2012</td>\n",
              "      <td>12</td>\n",
              "      <td>1</td>\n",
              "      <td>5</td>\n",
              "      <td>21</td>\n",
              "      <td>1.961033</td>\n",
              "    </tr>\n",
              "    <tr>\n",
              "      <th>4</th>\n",
              "      <td>-73.966046</td>\n",
              "      <td>40.789775</td>\n",
              "      <td>-73.988565</td>\n",
              "      <td>40.744427</td>\n",
              "      <td>1</td>\n",
              "      <td>2012</td>\n",
              "      <td>12</td>\n",
              "      <td>1</td>\n",
              "      <td>5</td>\n",
              "      <td>21</td>\n",
              "      <td>5.387301</td>\n",
              "    </tr>\n",
              "  </tbody>\n",
              "</table>\n",
              "</div>\n",
              "      <button class=\"colab-df-convert\" onclick=\"convertToInteractive('df-036bf78f-6ad4-4985-b0d7-5d482df44500')\"\n",
              "              title=\"Convert this dataframe to an interactive table.\"\n",
              "              style=\"display:none;\">\n",
              "        \n",
              "  <svg xmlns=\"http://www.w3.org/2000/svg\" height=\"24px\"viewBox=\"0 0 24 24\"\n",
              "       width=\"24px\">\n",
              "    <path d=\"M0 0h24v24H0V0z\" fill=\"none\"/>\n",
              "    <path d=\"M18.56 5.44l.94 2.06.94-2.06 2.06-.94-2.06-.94-.94-2.06-.94 2.06-2.06.94zm-11 1L8.5 8.5l.94-2.06 2.06-.94-2.06-.94L8.5 2.5l-.94 2.06-2.06.94zm10 10l.94 2.06.94-2.06 2.06-.94-2.06-.94-.94-2.06-.94 2.06-2.06.94z\"/><path d=\"M17.41 7.96l-1.37-1.37c-.4-.4-.92-.59-1.43-.59-.52 0-1.04.2-1.43.59L10.3 9.45l-7.72 7.72c-.78.78-.78 2.05 0 2.83L4 21.41c.39.39.9.59 1.41.59.51 0 1.02-.2 1.41-.59l7.78-7.78 2.81-2.81c.8-.78.8-2.07 0-2.86zM5.41 20L4 18.59l7.72-7.72 1.47 1.35L5.41 20z\"/>\n",
              "  </svg>\n",
              "      </button>\n",
              "      \n",
              "  <style>\n",
              "    .colab-df-container {\n",
              "      display:flex;\n",
              "      flex-wrap:wrap;\n",
              "      gap: 12px;\n",
              "    }\n",
              "\n",
              "    .colab-df-convert {\n",
              "      background-color: #E8F0FE;\n",
              "      border: none;\n",
              "      border-radius: 50%;\n",
              "      cursor: pointer;\n",
              "      display: none;\n",
              "      fill: #1967D2;\n",
              "      height: 32px;\n",
              "      padding: 0 0 0 0;\n",
              "      width: 32px;\n",
              "    }\n",
              "\n",
              "    .colab-df-convert:hover {\n",
              "      background-color: #E2EBFA;\n",
              "      box-shadow: 0px 1px 2px rgba(60, 64, 67, 0.3), 0px 1px 3px 1px rgba(60, 64, 67, 0.15);\n",
              "      fill: #174EA6;\n",
              "    }\n",
              "\n",
              "    [theme=dark] .colab-df-convert {\n",
              "      background-color: #3B4455;\n",
              "      fill: #D2E3FC;\n",
              "    }\n",
              "\n",
              "    [theme=dark] .colab-df-convert:hover {\n",
              "      background-color: #434B5C;\n",
              "      box-shadow: 0px 1px 3px 1px rgba(0, 0, 0, 0.15);\n",
              "      filter: drop-shadow(0px 1px 2px rgba(0, 0, 0, 0.3));\n",
              "      fill: #FFFFFF;\n",
              "    }\n",
              "  </style>\n",
              "\n",
              "      <script>\n",
              "        const buttonEl =\n",
              "          document.querySelector('#df-036bf78f-6ad4-4985-b0d7-5d482df44500 button.colab-df-convert');\n",
              "        buttonEl.style.display =\n",
              "          google.colab.kernel.accessAllowed ? 'block' : 'none';\n",
              "\n",
              "        async function convertToInteractive(key) {\n",
              "          const element = document.querySelector('#df-036bf78f-6ad4-4985-b0d7-5d482df44500');\n",
              "          const dataTable =\n",
              "            await google.colab.kernel.invokeFunction('convertToInteractive',\n",
              "                                                     [key], {});\n",
              "          if (!dataTable) return;\n",
              "\n",
              "          const docLinkHtml = 'Like what you see? Visit the ' +\n",
              "            '<a target=\"_blank\" href=https://colab.research.google.com/notebooks/data_table.ipynb>data table notebook</a>'\n",
              "            + ' to learn more about interactive tables.';\n",
              "          element.innerHTML = '';\n",
              "          dataTable['output_type'] = 'display_data';\n",
              "          await google.colab.output.renderOutput(dataTable, element);\n",
              "          const docLink = document.createElement('div');\n",
              "          docLink.innerHTML = docLinkHtml;\n",
              "          element.appendChild(docLink);\n",
              "        }\n",
              "      </script>\n",
              "    </div>\n",
              "  </div>\n",
              "  "
            ]
          },
          "metadata": {},
          "execution_count": 374
        }
      ]
    },
    {
      "cell_type": "code",
      "source": [
        "# Dropping irrevelant distance values\n",
        "train= train.loc[train[\"H_Distance\"]>0]\n",
        "test= test.loc[test[\"H_Distance\"]>0]"
      ],
      "metadata": {
        "id": "nSi0ugeYAUgU"
      },
      "execution_count": null,
      "outputs": []
    },
    {
      "cell_type": "code",
      "source": [
        "from sklearn.preprocessing import StandardScaler\n",
        "\n",
        "standard_scaler = StandardScaler()\n",
        "train_scaled = pd.DataFrame(standard_scaler.fit_transform(train),columns=train.columns)\n",
        "test_scaled = pd.DataFrame(standard_scaler.fit_transform(test),columns=test.columns)\n"
      ],
      "metadata": {
        "id": "pujhcGasRF8j"
      },
      "execution_count": null,
      "outputs": []
    },
    {
      "cell_type": "code",
      "source": [
        "# create X and y values (features and labels)\n",
        "X = train_scaled.drop(\"fare_amount\",axis=1)\n",
        "y = train_scaled['fare_amount']"
      ],
      "metadata": {
        "id": "1YMMgZlLey40"
      },
      "execution_count": null,
      "outputs": []
    },
    {
      "cell_type": "code",
      "source": [
        "X.head()"
      ],
      "metadata": {
        "colab": {
          "base_uri": "https://localhost:8080/",
          "height": 206
        },
        "id": "YlMkgfEgozKm",
        "outputId": "888f6b26-975a-4c4b-d857-989d2e9a155c"
      },
      "execution_count": null,
      "outputs": [
        {
          "output_type": "execute_result",
          "data": {
            "text/plain": [
              "   pickup_longitude  pickup_latitude  dropoff_longitude  dropoff_latitude  \\\n",
              "0         -0.632151        -0.838975          -0.436248         -0.514699   \n",
              "1          0.245833         1.554317           0.262125          1.682577   \n",
              "2          0.106170         0.445896           0.606371          1.038702   \n",
              "3         -0.777826        -1.558197          -0.189454         -0.039411   \n",
              "4         -0.805171        -1.555835          -0.091106         -0.181626   \n",
              "\n",
              "   passenger_count      Year     Month      Date  Day of Week      Hour  \\\n",
              "0         0.239427 -1.469139 -0.660233 -0.884221    -0.527859  0.842335   \n",
              "1         0.239427  0.138243  0.212896  1.647198    -1.553198  0.381766   \n",
              "2        -0.526611 -0.397551 -1.242319  0.726682    -1.040529 -0.078803   \n",
              "3        -0.526611 -0.933345  1.086025 -0.999285    -0.015189  1.149381   \n",
              "4         2.537540 -1.469139  1.086025 -1.574608     0.497481  1.302904   \n",
              "\n",
              "   H_Distance  \n",
              "0   -0.590303  \n",
              "1   -0.606527  \n",
              "2   -0.170488  \n",
              "3    0.455756  \n",
              "4    0.376793  "
            ],
            "text/html": [
              "\n",
              "  <div id=\"df-077b0767-7f54-4a02-b0d3-0f8215c33fca\">\n",
              "    <div class=\"colab-df-container\">\n",
              "      <div>\n",
              "<style scoped>\n",
              "    .dataframe tbody tr th:only-of-type {\n",
              "        vertical-align: middle;\n",
              "    }\n",
              "\n",
              "    .dataframe tbody tr th {\n",
              "        vertical-align: top;\n",
              "    }\n",
              "\n",
              "    .dataframe thead th {\n",
              "        text-align: right;\n",
              "    }\n",
              "</style>\n",
              "<table border=\"1\" class=\"dataframe\">\n",
              "  <thead>\n",
              "    <tr style=\"text-align: right;\">\n",
              "      <th></th>\n",
              "      <th>pickup_longitude</th>\n",
              "      <th>pickup_latitude</th>\n",
              "      <th>dropoff_longitude</th>\n",
              "      <th>dropoff_latitude</th>\n",
              "      <th>passenger_count</th>\n",
              "      <th>Year</th>\n",
              "      <th>Month</th>\n",
              "      <th>Date</th>\n",
              "      <th>Day of Week</th>\n",
              "      <th>Hour</th>\n",
              "      <th>H_Distance</th>\n",
              "    </tr>\n",
              "  </thead>\n",
              "  <tbody>\n",
              "    <tr>\n",
              "      <th>0</th>\n",
              "      <td>-0.632151</td>\n",
              "      <td>-0.838975</td>\n",
              "      <td>-0.436248</td>\n",
              "      <td>-0.514699</td>\n",
              "      <td>0.239427</td>\n",
              "      <td>-1.469139</td>\n",
              "      <td>-0.660233</td>\n",
              "      <td>-0.884221</td>\n",
              "      <td>-0.527859</td>\n",
              "      <td>0.842335</td>\n",
              "      <td>-0.590303</td>\n",
              "    </tr>\n",
              "    <tr>\n",
              "      <th>1</th>\n",
              "      <td>0.245833</td>\n",
              "      <td>1.554317</td>\n",
              "      <td>0.262125</td>\n",
              "      <td>1.682577</td>\n",
              "      <td>0.239427</td>\n",
              "      <td>0.138243</td>\n",
              "      <td>0.212896</td>\n",
              "      <td>1.647198</td>\n",
              "      <td>-1.553198</td>\n",
              "      <td>0.381766</td>\n",
              "      <td>-0.606527</td>\n",
              "    </tr>\n",
              "    <tr>\n",
              "      <th>2</th>\n",
              "      <td>0.106170</td>\n",
              "      <td>0.445896</td>\n",
              "      <td>0.606371</td>\n",
              "      <td>1.038702</td>\n",
              "      <td>-0.526611</td>\n",
              "      <td>-0.397551</td>\n",
              "      <td>-1.242319</td>\n",
              "      <td>0.726682</td>\n",
              "      <td>-1.040529</td>\n",
              "      <td>-0.078803</td>\n",
              "      <td>-0.170488</td>\n",
              "    </tr>\n",
              "    <tr>\n",
              "      <th>3</th>\n",
              "      <td>-0.777826</td>\n",
              "      <td>-1.558197</td>\n",
              "      <td>-0.189454</td>\n",
              "      <td>-0.039411</td>\n",
              "      <td>-0.526611</td>\n",
              "      <td>-0.933345</td>\n",
              "      <td>1.086025</td>\n",
              "      <td>-0.999285</td>\n",
              "      <td>-0.015189</td>\n",
              "      <td>1.149381</td>\n",
              "      <td>0.455756</td>\n",
              "    </tr>\n",
              "    <tr>\n",
              "      <th>4</th>\n",
              "      <td>-0.805171</td>\n",
              "      <td>-1.555835</td>\n",
              "      <td>-0.091106</td>\n",
              "      <td>-0.181626</td>\n",
              "      <td>2.537540</td>\n",
              "      <td>-1.469139</td>\n",
              "      <td>1.086025</td>\n",
              "      <td>-1.574608</td>\n",
              "      <td>0.497481</td>\n",
              "      <td>1.302904</td>\n",
              "      <td>0.376793</td>\n",
              "    </tr>\n",
              "  </tbody>\n",
              "</table>\n",
              "</div>\n",
              "      <button class=\"colab-df-convert\" onclick=\"convertToInteractive('df-077b0767-7f54-4a02-b0d3-0f8215c33fca')\"\n",
              "              title=\"Convert this dataframe to an interactive table.\"\n",
              "              style=\"display:none;\">\n",
              "        \n",
              "  <svg xmlns=\"http://www.w3.org/2000/svg\" height=\"24px\"viewBox=\"0 0 24 24\"\n",
              "       width=\"24px\">\n",
              "    <path d=\"M0 0h24v24H0V0z\" fill=\"none\"/>\n",
              "    <path d=\"M18.56 5.44l.94 2.06.94-2.06 2.06-.94-2.06-.94-.94-2.06-.94 2.06-2.06.94zm-11 1L8.5 8.5l.94-2.06 2.06-.94-2.06-.94L8.5 2.5l-.94 2.06-2.06.94zm10 10l.94 2.06.94-2.06 2.06-.94-2.06-.94-.94-2.06-.94 2.06-2.06.94z\"/><path d=\"M17.41 7.96l-1.37-1.37c-.4-.4-.92-.59-1.43-.59-.52 0-1.04.2-1.43.59L10.3 9.45l-7.72 7.72c-.78.78-.78 2.05 0 2.83L4 21.41c.39.39.9.59 1.41.59.51 0 1.02-.2 1.41-.59l7.78-7.78 2.81-2.81c.8-.78.8-2.07 0-2.86zM5.41 20L4 18.59l7.72-7.72 1.47 1.35L5.41 20z\"/>\n",
              "  </svg>\n",
              "      </button>\n",
              "      \n",
              "  <style>\n",
              "    .colab-df-container {\n",
              "      display:flex;\n",
              "      flex-wrap:wrap;\n",
              "      gap: 12px;\n",
              "    }\n",
              "\n",
              "    .colab-df-convert {\n",
              "      background-color: #E8F0FE;\n",
              "      border: none;\n",
              "      border-radius: 50%;\n",
              "      cursor: pointer;\n",
              "      display: none;\n",
              "      fill: #1967D2;\n",
              "      height: 32px;\n",
              "      padding: 0 0 0 0;\n",
              "      width: 32px;\n",
              "    }\n",
              "\n",
              "    .colab-df-convert:hover {\n",
              "      background-color: #E2EBFA;\n",
              "      box-shadow: 0px 1px 2px rgba(60, 64, 67, 0.3), 0px 1px 3px 1px rgba(60, 64, 67, 0.15);\n",
              "      fill: #174EA6;\n",
              "    }\n",
              "\n",
              "    [theme=dark] .colab-df-convert {\n",
              "      background-color: #3B4455;\n",
              "      fill: #D2E3FC;\n",
              "    }\n",
              "\n",
              "    [theme=dark] .colab-df-convert:hover {\n",
              "      background-color: #434B5C;\n",
              "      box-shadow: 0px 1px 3px 1px rgba(0, 0, 0, 0.15);\n",
              "      filter: drop-shadow(0px 1px 2px rgba(0, 0, 0, 0.3));\n",
              "      fill: #FFFFFF;\n",
              "    }\n",
              "  </style>\n",
              "\n",
              "      <script>\n",
              "        const buttonEl =\n",
              "          document.querySelector('#df-077b0767-7f54-4a02-b0d3-0f8215c33fca button.colab-df-convert');\n",
              "        buttonEl.style.display =\n",
              "          google.colab.kernel.accessAllowed ? 'block' : 'none';\n",
              "\n",
              "        async function convertToInteractive(key) {\n",
              "          const element = document.querySelector('#df-077b0767-7f54-4a02-b0d3-0f8215c33fca');\n",
              "          const dataTable =\n",
              "            await google.colab.kernel.invokeFunction('convertToInteractive',\n",
              "                                                     [key], {});\n",
              "          if (!dataTable) return;\n",
              "\n",
              "          const docLinkHtml = 'Like what you see? Visit the ' +\n",
              "            '<a target=\"_blank\" href=https://colab.research.google.com/notebooks/data_table.ipynb>data table notebook</a>'\n",
              "            + ' to learn more about interactive tables.';\n",
              "          element.innerHTML = '';\n",
              "          dataTable['output_type'] = 'display_data';\n",
              "          await google.colab.output.renderOutput(dataTable, element);\n",
              "          const docLink = document.createElement('div');\n",
              "          docLink.innerHTML = docLinkHtml;\n",
              "          element.appendChild(docLink);\n",
              "        }\n",
              "      </script>\n",
              "    </div>\n",
              "  </div>\n",
              "  "
            ]
          },
          "metadata": {},
          "execution_count": 461
        }
      ]
    },
    {
      "cell_type": "code",
      "source": [
        "min(train['fare_amount']),max(train['fare_amount'])"
      ],
      "metadata": {
        "colab": {
          "base_uri": "https://localhost:8080/"
        },
        "id": "XHKVG6HtK96D",
        "outputId": "3ca7cb0a-e39d-47cd-b2c2-6340b740beeb"
      },
      "execution_count": null,
      "outputs": [
        {
          "output_type": "execute_result",
          "data": {
            "text/plain": [
              "(0.01, 394.0)"
            ]
          },
          "metadata": {},
          "execution_count": 379
        }
      ]
    },
    {
      "cell_type": "code",
      "source": [
        "# creating train and test set\n",
        "from sklearn.model_selection import train_test_split \n",
        "X_train, X_test, y_train, y_test = train_test_split(X, y, test_size=0.2, random_state=42)\n",
        "len(X), len(X_train), len(X_test)"
      ],
      "metadata": {
        "id": "KEImVdyRFfc-",
        "colab": {
          "base_uri": "https://localhost:8080/"
        },
        "outputId": "006dc427-9091-499e-c219-54a59534e27a"
      },
      "execution_count": null,
      "outputs": [
        {
          "output_type": "execute_result",
          "data": {
            "text/plain": [
              "(96467, 77173, 19294)"
            ]
          },
          "metadata": {},
          "execution_count": 380
        }
      ]
    },
    {
      "cell_type": "code",
      "source": [
        "X_train = tf.constant(X_train)\n",
        "y_train = tf.constant(y_train)\n",
        "X_test = tf.constant(X_test)\n",
        "y_test = tf.constant(y_test)"
      ],
      "metadata": {
        "id": "nkGB2k-qe-mT"
      },
      "execution_count": null,
      "outputs": []
    },
    {
      "cell_type": "markdown",
      "source": [
        "**A.**   Create a baseline Neural network with the following specifications.\n",
        "2 hidden layers, each with 16 and 8 neurons respectively. Sigmoid activation, Batch Size=128 for\n",
        "Gradient Descent."
      ],
      "metadata": {
        "id": "J5HE-EkNWBYS"
      }
    },
    {
      "cell_type": "code",
      "source": [
        "tf.random.set_seed(42)\n",
        "# Building a model\n",
        "taxi_fare_model_1 = tf.keras.Sequential([\n",
        "                                       tf.keras.layers.Dense(16, activation='sigmoid',input_dim=X_train.shape[1]), #16 neurons    -->hidden layer 1\n",
        "                                       tf.keras.layers.BatchNormalization(),\n",
        "                                       tf.keras.layers.Dense(8, activation='sigmoid'),  #8  neurons    -->hidden layer 2\n",
        "                                       tf.keras.layers.BatchNormalization(),\n",
        "                                       tf.keras.layers.Dense(1)                         # output layer\n",
        "])\n",
        "\n",
        "# Compiling the model\n",
        "taxi_fare_model_1.compile(loss = tf.keras.losses.mae,\n",
        "                        optimizer = tf.keras.optimizers.SGD(learning_rate=0.0095),\n",
        "                        metrics = [\"mape\",\"mae\",\"mse\"]\n",
        "                        )\n",
        "\n",
        "# Fitting the model\n",
        "history = taxi_fare_model_1.fit(X_train, y_train, epochs = 50, batch_size=128)"
      ],
      "metadata": {
        "colab": {
          "base_uri": "https://localhost:8080/"
        },
        "id": "AefUi7kibjm_",
        "outputId": "c4ada9c9-77bb-444a-e265-951cb3d92f12"
      },
      "execution_count": null,
      "outputs": [
        {
          "output_type": "stream",
          "name": "stdout",
          "text": [
            "Epoch 1/50\n",
            "603/603 [==============================] - 2s 2ms/step - loss: 0.3020 - mape: 210.3318 - mae: 0.3020 - mse: 0.3495\n",
            "Epoch 2/50\n",
            "603/603 [==============================] - 1s 2ms/step - loss: 0.2692 - mape: 188.1138 - mae: 0.2692 - mse: 0.3000\n",
            "Epoch 3/50\n",
            "603/603 [==============================] - 1s 2ms/step - loss: 0.2587 - mape: 186.9212 - mae: 0.2587 - mse: 0.2852\n",
            "Epoch 4/50\n",
            "603/603 [==============================] - 1s 2ms/step - loss: 0.2527 - mape: 181.0727 - mae: 0.2527 - mse: 0.2775\n",
            "Epoch 5/50\n",
            "603/603 [==============================] - 1s 2ms/step - loss: 0.2488 - mape: 180.4267 - mae: 0.2488 - mse: 0.2726\n",
            "Epoch 6/50\n",
            "603/603 [==============================] - 1s 2ms/step - loss: 0.2444 - mape: 177.3213 - mae: 0.2444 - mse: 0.2665\n",
            "Epoch 7/50\n",
            "603/603 [==============================] - 1s 2ms/step - loss: 0.2413 - mape: 176.6643 - mae: 0.2413 - mse: 0.2613\n",
            "Epoch 8/50\n",
            "603/603 [==============================] - 1s 2ms/step - loss: 0.2391 - mape: 173.1039 - mae: 0.2391 - mse: 0.2576\n",
            "Epoch 9/50\n",
            "603/603 [==============================] - 2s 3ms/step - loss: 0.2367 - mape: 174.8771 - mae: 0.2367 - mse: 0.2542\n",
            "Epoch 10/50\n",
            "603/603 [==============================] - 3s 5ms/step - loss: 0.2355 - mape: 176.4703 - mae: 0.2355 - mse: 0.2521\n",
            "Epoch 11/50\n",
            "603/603 [==============================] - 3s 4ms/step - loss: 0.2351 - mape: 173.9667 - mae: 0.2351 - mse: 0.2503\n",
            "Epoch 12/50\n",
            "603/603 [==============================] - 2s 4ms/step - loss: 0.2347 - mape: 175.4074 - mae: 0.2347 - mse: 0.2485\n",
            "Epoch 13/50\n",
            "603/603 [==============================] - 3s 5ms/step - loss: 0.2340 - mape: 173.2841 - mae: 0.2340 - mse: 0.2466\n",
            "Epoch 14/50\n",
            "603/603 [==============================] - 2s 4ms/step - loss: 0.2326 - mape: 172.6758 - mae: 0.2326 - mse: 0.2464\n",
            "Epoch 15/50\n",
            "603/603 [==============================] - 2s 3ms/step - loss: 0.2329 - mape: 172.7065 - mae: 0.2329 - mse: 0.2452\n",
            "Epoch 16/50\n",
            "603/603 [==============================] - 1s 2ms/step - loss: 0.2314 - mape: 172.7724 - mae: 0.2314 - mse: 0.2431\n",
            "Epoch 17/50\n",
            "603/603 [==============================] - 1s 2ms/step - loss: 0.2304 - mape: 169.4949 - mae: 0.2304 - mse: 0.2414\n",
            "Epoch 18/50\n",
            "603/603 [==============================] - 2s 4ms/step - loss: 0.2293 - mape: 170.3527 - mae: 0.2293 - mse: 0.2405\n",
            "Epoch 19/50\n",
            "603/603 [==============================] - 1s 2ms/step - loss: 0.2307 - mape: 171.6214 - mae: 0.2307 - mse: 0.2419\n",
            "Epoch 20/50\n",
            "603/603 [==============================] - 1s 2ms/step - loss: 0.2299 - mape: 168.7791 - mae: 0.2299 - mse: 0.2397\n",
            "Epoch 21/50\n",
            "603/603 [==============================] - 1s 2ms/step - loss: 0.2287 - mape: 170.4645 - mae: 0.2287 - mse: 0.2378\n",
            "Epoch 22/50\n",
            "603/603 [==============================] - 2s 3ms/step - loss: 0.2282 - mape: 169.7064 - mae: 0.2282 - mse: 0.2374\n",
            "Epoch 23/50\n",
            "603/603 [==============================] - 2s 3ms/step - loss: 0.2276 - mape: 168.9628 - mae: 0.2276 - mse: 0.2370\n",
            "Epoch 24/50\n",
            "603/603 [==============================] - 3s 4ms/step - loss: 0.2268 - mape: 170.5356 - mae: 0.2268 - mse: 0.2365\n",
            "Epoch 25/50\n",
            "603/603 [==============================] - 1s 2ms/step - loss: 0.2263 - mape: 168.5226 - mae: 0.2263 - mse: 0.2362\n",
            "Epoch 26/50\n",
            "603/603 [==============================] - 1s 2ms/step - loss: 0.2260 - mape: 169.1171 - mae: 0.2260 - mse: 0.2350\n",
            "Epoch 27/50\n",
            "603/603 [==============================] - 1s 2ms/step - loss: 0.2263 - mape: 170.0619 - mae: 0.2263 - mse: 0.2345\n",
            "Epoch 28/50\n",
            "603/603 [==============================] - 2s 4ms/step - loss: 0.2259 - mape: 167.2012 - mae: 0.2259 - mse: 0.2353\n",
            "Epoch 29/50\n",
            "603/603 [==============================] - 3s 5ms/step - loss: 0.2247 - mape: 169.4846 - mae: 0.2247 - mse: 0.2346\n",
            "Epoch 30/50\n",
            "603/603 [==============================] - 2s 3ms/step - loss: 0.2243 - mape: 168.1113 - mae: 0.2243 - mse: 0.2336\n",
            "Epoch 31/50\n",
            "603/603 [==============================] - 2s 3ms/step - loss: 0.2232 - mape: 167.1845 - mae: 0.2232 - mse: 0.2315\n",
            "Epoch 32/50\n",
            "603/603 [==============================] - 2s 4ms/step - loss: 0.2236 - mape: 168.1590 - mae: 0.2236 - mse: 0.2318\n",
            "Epoch 33/50\n",
            "603/603 [==============================] - 2s 3ms/step - loss: 0.2209 - mape: 165.7108 - mae: 0.2209 - mse: 0.2294\n",
            "Epoch 34/50\n",
            "603/603 [==============================] - 2s 3ms/step - loss: 0.2216 - mape: 165.9640 - mae: 0.2216 - mse: 0.2294\n",
            "Epoch 35/50\n",
            "603/603 [==============================] - 2s 4ms/step - loss: 0.2222 - mape: 165.3706 - mae: 0.2222 - mse: 0.2308\n",
            "Epoch 36/50\n",
            "603/603 [==============================] - 2s 4ms/step - loss: 0.2204 - mape: 167.6117 - mae: 0.2204 - mse: 0.2287\n",
            "Epoch 37/50\n",
            "603/603 [==============================] - 2s 4ms/step - loss: 0.2207 - mape: 165.7127 - mae: 0.2207 - mse: 0.2277\n",
            "Epoch 38/50\n",
            "603/603 [==============================] - 1s 2ms/step - loss: 0.2201 - mape: 166.2457 - mae: 0.2201 - mse: 0.2274\n",
            "Epoch 39/50\n",
            "603/603 [==============================] - 2s 4ms/step - loss: 0.2197 - mape: 166.6612 - mae: 0.2197 - mse: 0.2272\n",
            "Epoch 40/50\n",
            "603/603 [==============================] - 2s 3ms/step - loss: 0.2207 - mape: 166.6255 - mae: 0.2207 - mse: 0.2265\n",
            "Epoch 41/50\n",
            "603/603 [==============================] - 2s 3ms/step - loss: 0.2192 - mape: 163.6228 - mae: 0.2192 - mse: 0.2266\n",
            "Epoch 42/50\n",
            "603/603 [==============================] - 2s 3ms/step - loss: 0.2185 - mape: 164.2212 - mae: 0.2185 - mse: 0.2261\n",
            "Epoch 43/50\n",
            "603/603 [==============================] - 2s 4ms/step - loss: 0.2173 - mape: 162.9223 - mae: 0.2173 - mse: 0.2241\n",
            "Epoch 44/50\n",
            "603/603 [==============================] - 2s 4ms/step - loss: 0.2180 - mape: 163.3783 - mae: 0.2180 - mse: 0.2252\n",
            "Epoch 45/50\n",
            "603/603 [==============================] - 2s 3ms/step - loss: 0.2176 - mape: 162.3451 - mae: 0.2176 - mse: 0.2245\n",
            "Epoch 46/50\n",
            "603/603 [==============================] - 3s 4ms/step - loss: 0.2161 - mape: 161.3864 - mae: 0.2161 - mse: 0.2240\n",
            "Epoch 47/50\n",
            "603/603 [==============================] - 2s 3ms/step - loss: 0.2158 - mape: 162.0735 - mae: 0.2158 - mse: 0.2231\n",
            "Epoch 48/50\n",
            "603/603 [==============================] - 1s 2ms/step - loss: 0.2147 - mape: 159.2663 - mae: 0.2147 - mse: 0.2222\n",
            "Epoch 49/50\n",
            "603/603 [==============================] - 1s 2ms/step - loss: 0.2158 - mape: 161.8962 - mae: 0.2158 - mse: 0.2238\n",
            "Epoch 50/50\n",
            "603/603 [==============================] - 1s 2ms/step - loss: 0.2143 - mape: 160.3621 - mae: 0.2143 - mse: 0.2221\n"
          ]
        }
      ]
    },
    {
      "cell_type": "code",
      "source": [
        "taxi_fare_model_1.evaluate(X_test,y_test)"
      ],
      "metadata": {
        "colab": {
          "base_uri": "https://localhost:8080/"
        },
        "outputId": "06e77d45-8e00-487a-eb37-c189fad7d0ba",
        "id": "x_5K0i7Q76F9"
      },
      "execution_count": null,
      "outputs": [
        {
          "output_type": "stream",
          "name": "stdout",
          "text": [
            "603/603 [==============================] - 1s 2ms/step - loss: 0.1938 - mape: 144.6029 - mae: 0.1938 - mse: 0.2123\n"
          ]
        },
        {
          "output_type": "execute_result",
          "data": {
            "text/plain": [
              "[0.19378481805324554,\n",
              " 144.60293579101562,\n",
              " 0.19378481805324554,\n",
              " 0.2123308777809143]"
            ]
          },
          "metadata": {},
          "execution_count": 383
        }
      ]
    },
    {
      "cell_type": "code",
      "source": [
        "pred=taxi_fare_model_1.predict(X_test)"
      ],
      "metadata": {
        "id": "sU1GnxQL2UZ0"
      },
      "execution_count": null,
      "outputs": []
    },
    {
      "cell_type": "code",
      "source": [
        "from sklearn.metrics import mean_squared_error,mean_absolute_percentage_error,mean_absolute_error\n",
        "print(\"MAPE : \",mean_absolute_percentage_error(y_test,pred))\n",
        "print(\"MAE : \",mean_absolute_error(y_test,pred))\n",
        "print(\"MSE : \",mean_squared_error(y_test,pred))\n"
      ],
      "metadata": {
        "colab": {
          "base_uri": "https://localhost:8080/"
        },
        "id": "V8pKGGNe2Lzt",
        "outputId": "dbb880c4-0e36-4f8d-ddaa-361a274ac003"
      },
      "execution_count": null,
      "outputs": [
        {
          "output_type": "stream",
          "name": "stdout",
          "text": [
            "MAPE :  1.4460288570443196\n",
            "MAE :  0.19378478871430826\n",
            "MSE :  0.2123307989846979\n"
          ]
        }
      ]
    },
    {
      "cell_type": "code",
      "source": [
        "# Plot history (also known as a loss curve or a training curve)\n",
        "pd.DataFrame(history.history['mae']).plot()\n",
        "plt.ylabel(\"mae\")\n",
        "plt.xlabel(\"epochs\")"
      ],
      "metadata": {
        "colab": {
          "base_uri": "https://localhost:8080/",
          "height": 296
        },
        "outputId": "d505d478-337d-43df-f01e-b3e8d542f941",
        "id": "4KIDecxE78ju"
      },
      "execution_count": null,
      "outputs": [
        {
          "output_type": "execute_result",
          "data": {
            "text/plain": [
              "Text(0.5, 0, 'epochs')"
            ]
          },
          "metadata": {},
          "execution_count": 386
        },
        {
          "output_type": "display_data",
          "data": {
            "text/plain": [
              "<Figure size 432x288 with 1 Axes>"
            ],
            "image/png": "[encoded data removed]"
          },
          "metadata": {
            "needs_background": "light"
          }
        }
      ]
    },
    {
      "cell_type": "code",
      "source": [
        "m1=[mean_absolute_percentage_error(y_test,pred),mean_absolute_error(y_test,pred),mean_squared_error(y_test,pred)]\n",
        "m1"
      ],
      "metadata": {
        "colab": {
          "base_uri": "https://localhost:8080/"
        },
        "id": "ZHJRPS_4uu96",
        "outputId": "1519ca0a-327b-477b-e95a-2e72eedb1666"
      },
      "execution_count": null,
      "outputs": [
        {
          "output_type": "execute_result",
          "data": {
            "text/plain": [
              "[1.4460288570443196, 0.19378478871430826, 0.2123307989846979]"
            ]
          },
          "metadata": {},
          "execution_count": 387
        }
      ]
    },
    {
      "cell_type": "markdown",
      "source": [
        " **B. Experiment with number of layers and neurons per layer to increase the\n",
        "performance metrics.**"
      ],
      "metadata": {
        "id": "Y7ZqGpme7qLM"
      }
    },
    {
      "cell_type": "code",
      "source": [
        "## decreasing number of hidden layers:\n",
        "taxi_fare_model_2_a = tf.keras.Sequential([\n",
        "                                       tf.keras.layers.Dense(16, activation='sigmoid', input_dim=X_train.shape[1]),\n",
        "                                       tf.keras.layers.BatchNormalization(),\n",
        "                                       tf.keras.layers.Dense(1)                             ## final output layer with only 1 neuron\n",
        "                                    ])\n",
        "\n",
        "\n",
        "taxi_fare_model_2_a.compile(loss = tf.keras.losses.mae,\n",
        "                        optimizer = tf.keras.optimizers.SGD(learning_rate=0.0095),\n",
        "                        metrics = [\"mape\",\"mae\",\"mse\"]\n",
        "                        )\n",
        "\n",
        "\n",
        "history = taxi_fare_model_2_a.fit(X_train, y_train, epochs = 50,batch_size=128)\n"
      ],
      "metadata": {
        "colab": {
          "base_uri": "https://localhost:8080/"
        },
        "id": "KIBpAgtQgnI3",
        "outputId": "1d6e5ef7-be95-43bd-a963-fcab035f60f3"
      },
      "execution_count": null,
      "outputs": [
        {
          "output_type": "stream",
          "name": "stdout",
          "text": [
            "Epoch 1/50\n",
            "603/603 [==============================] - 2s 2ms/step - loss: 0.3501 - mape: 221.7451 - mae: 0.3501 - mse: 0.4843\n",
            "Epoch 2/50\n",
            "603/603 [==============================] - 1s 2ms/step - loss: 0.2585 - mape: 185.8808 - mae: 0.2585 - mse: 0.2773\n",
            "Epoch 3/50\n",
            "603/603 [==============================] - 1s 2ms/step - loss: 0.2507 - mape: 181.8620 - mae: 0.2507 - mse: 0.2666\n",
            "Epoch 4/50\n",
            "603/603 [==============================] - 1s 2ms/step - loss: 0.2485 - mape: 179.9785 - mae: 0.2485 - mse: 0.2650\n",
            "Epoch 5/50\n",
            "603/603 [==============================] - 1s 2ms/step - loss: 0.2465 - mape: 179.6251 - mae: 0.2465 - mse: 0.2637\n",
            "Epoch 6/50\n",
            "603/603 [==============================] - 1s 2ms/step - loss: 0.2449 - mape: 178.7033 - mae: 0.2449 - mse: 0.2611\n",
            "Epoch 7/50\n",
            "603/603 [==============================] - 1s 2ms/step - loss: 0.2435 - mape: 178.9674 - mae: 0.2435 - mse: 0.2592\n",
            "Epoch 8/50\n",
            "603/603 [==============================] - 1s 2ms/step - loss: 0.2418 - mape: 177.1182 - mae: 0.2418 - mse: 0.2579\n",
            "Epoch 9/50\n",
            "603/603 [==============================] - 1s 2ms/step - loss: 0.2400 - mape: 178.3921 - mae: 0.2400 - mse: 0.2563\n",
            "Epoch 10/50\n",
            "603/603 [==============================] - 1s 2ms/step - loss: 0.2393 - mape: 179.5544 - mae: 0.2393 - mse: 0.2571\n",
            "Epoch 11/50\n",
            "603/603 [==============================] - 1s 2ms/step - loss: 0.2393 - mape: 176.6322 - mae: 0.2393 - mse: 0.2570\n",
            "Epoch 12/50\n",
            "603/603 [==============================] - 1s 2ms/step - loss: 0.2394 - mape: 178.2099 - mae: 0.2394 - mse: 0.2559\n",
            "Epoch 13/50\n",
            "603/603 [==============================] - 1s 2ms/step - loss: 0.2382 - mape: 175.2349 - mae: 0.2382 - mse: 0.2553\n",
            "Epoch 14/50\n",
            "603/603 [==============================] - 1s 2ms/step - loss: 0.2369 - mape: 174.4816 - mae: 0.2369 - mse: 0.2553\n",
            "Epoch 15/50\n",
            "603/603 [==============================] - 1s 2ms/step - loss: 0.2373 - mape: 175.9572 - mae: 0.2373 - mse: 0.2545\n",
            "Epoch 16/50\n",
            "603/603 [==============================] - 1s 2ms/step - loss: 0.2363 - mape: 175.5541 - mae: 0.2363 - mse: 0.2535\n",
            "Epoch 17/50\n",
            "603/603 [==============================] - 1s 2ms/step - loss: 0.2350 - mape: 172.3974 - mae: 0.2350 - mse: 0.2518\n",
            "Epoch 18/50\n",
            "603/603 [==============================] - 1s 2ms/step - loss: 0.2337 - mape: 172.5042 - mae: 0.2337 - mse: 0.2508\n",
            "Epoch 19/50\n",
            "603/603 [==============================] - 1s 2ms/step - loss: 0.2350 - mape: 173.8907 - mae: 0.2350 - mse: 0.2524\n",
            "Epoch 20/50\n",
            "603/603 [==============================] - 1s 2ms/step - loss: 0.2345 - mape: 171.0267 - mae: 0.2345 - mse: 0.2508\n",
            "Epoch 21/50\n",
            "603/603 [==============================] - 1s 2ms/step - loss: 0.2320 - mape: 172.7314 - mae: 0.2320 - mse: 0.2469\n",
            "Epoch 22/50\n",
            "603/603 [==============================] - 1s 2ms/step - loss: 0.2323 - mape: 171.0159 - mae: 0.2323 - mse: 0.2472\n",
            "Epoch 23/50\n",
            "603/603 [==============================] - 1s 2ms/step - loss: 0.2320 - mape: 170.4215 - mae: 0.2320 - mse: 0.2470\n",
            "Epoch 24/50\n",
            "603/603 [==============================] - 1s 2ms/step - loss: 0.2309 - mape: 171.9383 - mae: 0.2309 - mse: 0.2464\n",
            "Epoch 25/50\n",
            "603/603 [==============================] - 1s 2ms/step - loss: 0.2299 - mape: 169.9589 - mae: 0.2299 - mse: 0.2442\n",
            "Epoch 26/50\n",
            "603/603 [==============================] - 1s 2ms/step - loss: 0.2298 - mape: 169.8677 - mae: 0.2298 - mse: 0.2438\n",
            "Epoch 27/50\n",
            "603/603 [==============================] - 1s 2ms/step - loss: 0.2303 - mape: 171.4615 - mae: 0.2303 - mse: 0.2424\n",
            "Epoch 28/50\n",
            "603/603 [==============================] - 2s 4ms/step - loss: 0.2293 - mape: 167.8322 - mae: 0.2293 - mse: 0.2432\n",
            "Epoch 29/50\n",
            "603/603 [==============================] - 1s 2ms/step - loss: 0.2281 - mape: 170.4186 - mae: 0.2281 - mse: 0.2418\n",
            "Epoch 30/50\n",
            "603/603 [==============================] - 1s 2ms/step - loss: 0.2276 - mape: 168.9056 - mae: 0.2276 - mse: 0.2396\n",
            "Epoch 31/50\n",
            "603/603 [==============================] - 1s 2ms/step - loss: 0.2275 - mape: 169.2921 - mae: 0.2275 - mse: 0.2388\n",
            "Epoch 32/50\n",
            "603/603 [==============================] - 1s 2ms/step - loss: 0.2273 - mape: 169.1577 - mae: 0.2273 - mse: 0.2380\n",
            "Epoch 33/50\n",
            "603/603 [==============================] - 1s 2ms/step - loss: 0.2247 - mape: 166.2689 - mae: 0.2247 - mse: 0.2357\n",
            "Epoch 34/50\n",
            "603/603 [==============================] - 1s 2ms/step - loss: 0.2255 - mape: 167.3182 - mae: 0.2255 - mse: 0.2353\n",
            "Epoch 35/50\n",
            "603/603 [==============================] - 1s 2ms/step - loss: 0.2266 - mape: 167.2764 - mae: 0.2266 - mse: 0.2371\n",
            "Epoch 36/50\n",
            "603/603 [==============================] - 1s 2ms/step - loss: 0.2241 - mape: 169.1970 - mae: 0.2241 - mse: 0.2345\n",
            "Epoch 37/50\n",
            "603/603 [==============================] - 1s 2ms/step - loss: 0.2244 - mape: 167.2261 - mae: 0.2244 - mse: 0.2326\n",
            "Epoch 38/50\n",
            "603/603 [==============================] - 1s 2ms/step - loss: 0.2247 - mape: 167.9187 - mae: 0.2247 - mse: 0.2329\n",
            "Epoch 39/50\n",
            "603/603 [==============================] - 2s 3ms/step - loss: 0.2241 - mape: 167.9432 - mae: 0.2241 - mse: 0.2321\n",
            "Epoch 40/50\n",
            "603/603 [==============================] - 3s 4ms/step - loss: 0.2253 - mape: 168.5202 - mae: 0.2253 - mse: 0.2317\n",
            "Epoch 41/50\n",
            "603/603 [==============================] - 1s 2ms/step - loss: 0.2242 - mape: 166.8840 - mae: 0.2242 - mse: 0.2309\n",
            "Epoch 42/50\n",
            "603/603 [==============================] - 1s 2ms/step - loss: 0.2233 - mape: 167.0244 - mae: 0.2233 - mse: 0.2305\n",
            "Epoch 43/50\n",
            "603/603 [==============================] - 1s 2ms/step - loss: 0.2229 - mape: 165.0684 - mae: 0.2229 - mse: 0.2284\n",
            "Epoch 44/50\n",
            "603/603 [==============================] - 1s 2ms/step - loss: 0.2233 - mape: 166.0419 - mae: 0.2233 - mse: 0.2295\n",
            "Epoch 45/50\n",
            "603/603 [==============================] - 1s 2ms/step - loss: 0.2229 - mape: 165.9538 - mae: 0.2229 - mse: 0.2285\n",
            "Epoch 46/50\n",
            "603/603 [==============================] - 1s 2ms/step - loss: 0.2221 - mape: 166.3237 - mae: 0.2221 - mse: 0.2279\n",
            "Epoch 47/50\n",
            "603/603 [==============================] - 1s 2ms/step - loss: 0.2219 - mape: 166.6724 - mae: 0.2219 - mse: 0.2265\n",
            "Epoch 48/50\n",
            "603/603 [==============================] - 1s 2ms/step - loss: 0.2211 - mape: 162.8661 - mae: 0.2211 - mse: 0.2264\n",
            "Epoch 49/50\n",
            "603/603 [==============================] - 1s 2ms/step - loss: 0.2214 - mape: 166.0491 - mae: 0.2214 - mse: 0.2276\n",
            "Epoch 50/50\n",
            "603/603 [==============================] - 1s 2ms/step - loss: 0.2207 - mape: 163.9616 - mae: 0.2207 - mse: 0.2257\n"
          ]
        }
      ]
    },
    {
      "cell_type": "code",
      "source": [
        "taxi_fare_model_2_a.evaluate(X_test,y_test)"
      ],
      "metadata": {
        "colab": {
          "base_uri": "https://localhost:8080/"
        },
        "id": "hSVpAn62fteW",
        "outputId": "dcc580af-8021-4442-fe39-2badc8bc6e8d"
      },
      "execution_count": null,
      "outputs": [
        {
          "output_type": "stream",
          "name": "stdout",
          "text": [
            "603/603 [==============================] - 1s 2ms/step - loss: 0.1993 - mape: 148.0332 - mae: 0.1993 - mse: 0.2152\n"
          ]
        },
        {
          "output_type": "execute_result",
          "data": {
            "text/plain": [
              "[0.19932162761688232,\n",
              " 148.03321838378906,\n",
              " 0.19932162761688232,\n",
              " 0.2151605784893036]"
            ]
          },
          "metadata": {},
          "execution_count": 389
        }
      ]
    },
    {
      "cell_type": "code",
      "source": [
        "pred = taxi_fare_model_2_a.predict(X_test)\n",
        "print(\"MAPE : \",mean_absolute_percentage_error(y_test,pred))\n",
        "print(\"MAE : \",mean_absolute_error(y_test,pred))\n",
        "print(\"MSE : \",mean_squared_error(y_test,pred))\n"
      ],
      "metadata": {
        "colab": {
          "base_uri": "https://localhost:8080/"
        },
        "id": "rTed_Eat4Yjx",
        "outputId": "21f4fa21-a619-4c8d-879e-79eb5e028c61"
      },
      "execution_count": null,
      "outputs": [
        {
          "output_type": "stream",
          "name": "stdout",
          "text": [
            "MAPE :  1.4803319972335256\n",
            "MAE :  0.19932158038427136\n",
            "MSE :  0.21516063655189874\n"
          ]
        }
      ]
    },
    {
      "cell_type": "code",
      "source": [
        "m2a=[mean_absolute_percentage_error(y_test,pred),mean_absolute_error(y_test,pred),mean_squared_error(y_test,pred)]\n",
        "m2a"
      ],
      "metadata": {
        "colab": {
          "base_uri": "https://localhost:8080/"
        },
        "id": "oX5fwIB3vQr0",
        "outputId": "2b985104-649f-4b40-8e74-d8a02ecc7291"
      },
      "execution_count": null,
      "outputs": [
        {
          "output_type": "execute_result",
          "data": {
            "text/plain": [
              "[1.4803319972335256, 0.19932158038427136, 0.21516063655189874]"
            ]
          },
          "metadata": {},
          "execution_count": 391
        }
      ]
    },
    {
      "cell_type": "code",
      "source": [
        "# Plot history (also known as a loss curve or a training curve)\n",
        "pd.DataFrame(history.history['mae']).plot()\n",
        "plt.ylabel(\"mae\")\n",
        "plt.xlabel(\"epochs\")"
      ],
      "metadata": {
        "colab": {
          "base_uri": "https://localhost:8080/",
          "height": 296
        },
        "id": "tT7lGwzShMeH",
        "outputId": "04039cb4-33fe-4285-c2b4-668b38424517"
      },
      "execution_count": null,
      "outputs": [
        {
          "output_type": "execute_result",
          "data": {
            "text/plain": [
              "Text(0.5, 0, 'epochs')"
            ]
          },
          "metadata": {},
          "execution_count": 392
        },
        {
          "output_type": "display_data",
          "data": {
            "text/plain": [
              "<Figure size 432x288 with 1 Axes>"
            ],
            "image/png": "[encoded data removed]"
          },
          "metadata": {
            "needs_background": "light"
          }
        }
      ]
    },
    {
      "cell_type": "code",
      "source": [
        "## increasing number of hidden layers:\n",
        "taxi_fare_model_2_b = tf.keras.Sequential([\n",
        "                                       tf.keras.layers.Dense(32, activation='sigmoid', input_dim=X_train.shape[1]),\n",
        "                                       tf.keras.layers.BatchNormalization(),\n",
        "                                       tf.keras.layers.Dense(24, activation='sigmoid'),\n",
        "                                       tf.keras.layers.BatchNormalization(),\n",
        "                                       tf.keras.layers.Dense(16, activation='sigmoid'),\n",
        "                                       tf.keras.layers.BatchNormalization(),\n",
        "                                       tf.keras.layers.Dense(8, activation='sigmoid'),\n",
        "                                       tf.keras.layers.BatchNormalization(),\n",
        "                                       tf.keras.layers.Dense(1)                             ## final output layer with only 1 neuron\n",
        "                                    ])\n",
        "\n",
        "\n",
        "taxi_fare_model_2_b.compile(loss = tf.keras.losses.mae,\n",
        "                        optimizer = tf.keras.optimizers.SGD(learning_rate=0.0095),\n",
        "                        metrics = [\"mape\",\"mae\",\"mse\"]\n",
        "                        )\n",
        "\n",
        "\n",
        "history = taxi_fare_model_2_b.fit(X_train, y_train, epochs = 50,batch_size=128)\n"
      ],
      "metadata": {
        "colab": {
          "base_uri": "https://localhost:8080/"
        },
        "outputId": "49d6d112-9ae9-46f6-da4e-0f32b670dc53",
        "id": "LsWOXbqZhd2v"
      },
      "execution_count": null,
      "outputs": [
        {
          "output_type": "stream",
          "name": "stdout",
          "text": [
            "Epoch 1/50\n",
            "603/603 [==============================] - 3s 3ms/step - loss: 0.3237 - mape: 211.7790 - mae: 0.3237 - mse: 0.3816\n",
            "Epoch 2/50\n",
            "603/603 [==============================] - 2s 3ms/step - loss: 0.2700 - mape: 187.1773 - mae: 0.2700 - mse: 0.2892\n",
            "Epoch 3/50\n",
            "603/603 [==============================] - 2s 3ms/step - loss: 0.2569 - mape: 184.1056 - mae: 0.2569 - mse: 0.2737\n",
            "Epoch 4/50\n",
            "603/603 [==============================] - 2s 3ms/step - loss: 0.2516 - mape: 178.0746 - mae: 0.2516 - mse: 0.2678\n",
            "Epoch 5/50\n",
            "603/603 [==============================] - 2s 3ms/step - loss: 0.2467 - mape: 177.2839 - mae: 0.2467 - mse: 0.2629\n",
            "Epoch 6/50\n",
            "603/603 [==============================] - 2s 3ms/step - loss: 0.2440 - mape: 175.5000 - mae: 0.2440 - mse: 0.2591\n",
            "Epoch 7/50\n",
            "603/603 [==============================] - 2s 3ms/step - loss: 0.2401 - mape: 175.1369 - mae: 0.2401 - mse: 0.2553\n",
            "Epoch 8/50\n",
            "603/603 [==============================] - 2s 3ms/step - loss: 0.2372 - mape: 170.4753 - mae: 0.2372 - mse: 0.2521\n",
            "Epoch 9/50\n",
            "603/603 [==============================] - 2s 3ms/step - loss: 0.2339 - mape: 172.3569 - mae: 0.2339 - mse: 0.2488\n",
            "Epoch 10/50\n",
            "603/603 [==============================] - 2s 3ms/step - loss: 0.2320 - mape: 171.7850 - mae: 0.2320 - mse: 0.2476\n",
            "Epoch 11/50\n",
            "603/603 [==============================] - 2s 2ms/step - loss: 0.2303 - mape: 167.9843 - mae: 0.2303 - mse: 0.2455\n",
            "Epoch 12/50\n",
            "603/603 [==============================] - 2s 3ms/step - loss: 0.2298 - mape: 171.7014 - mae: 0.2298 - mse: 0.2432\n",
            "Epoch 13/50\n",
            "603/603 [==============================] - 2s 3ms/step - loss: 0.2287 - mape: 169.2078 - mae: 0.2287 - mse: 0.2423\n",
            "Epoch 14/50\n",
            "603/603 [==============================] - 2s 3ms/step - loss: 0.2263 - mape: 167.4320 - mae: 0.2263 - mse: 0.2395\n",
            "Epoch 15/50\n",
            "603/603 [==============================] - 2s 3ms/step - loss: 0.2258 - mape: 168.7128 - mae: 0.2258 - mse: 0.2369\n",
            "Epoch 16/50\n",
            "603/603 [==============================] - 2s 3ms/step - loss: 0.2241 - mape: 168.1425 - mae: 0.2241 - mse: 0.2365\n",
            "Epoch 17/50\n",
            "603/603 [==============================] - 2s 2ms/step - loss: 0.2227 - mape: 163.5800 - mae: 0.2227 - mse: 0.2332\n",
            "Epoch 18/50\n",
            "603/603 [==============================] - 2s 3ms/step - loss: 0.2208 - mape: 165.5138 - mae: 0.2208 - mse: 0.2315\n",
            "Epoch 19/50\n",
            "603/603 [==============================] - 2s 3ms/step - loss: 0.2215 - mape: 165.5609 - mae: 0.2215 - mse: 0.2322\n",
            "Epoch 20/50\n",
            "603/603 [==============================] - 1s 2ms/step - loss: 0.2202 - mape: 161.2025 - mae: 0.2202 - mse: 0.2296\n",
            "Epoch 21/50\n",
            "603/603 [==============================] - 2s 2ms/step - loss: 0.2180 - mape: 163.3078 - mae: 0.2180 - mse: 0.2270\n",
            "Epoch 22/50\n",
            "603/603 [==============================] - 2s 3ms/step - loss: 0.2171 - mape: 161.0941 - mae: 0.2171 - mse: 0.2257\n",
            "Epoch 23/50\n",
            "603/603 [==============================] - 2s 3ms/step - loss: 0.2162 - mape: 161.9781 - mae: 0.2162 - mse: 0.2249\n",
            "Epoch 24/50\n",
            "603/603 [==============================] - 1s 2ms/step - loss: 0.2145 - mape: 160.3890 - mae: 0.2145 - mse: 0.2236\n",
            "Epoch 25/50\n",
            "603/603 [==============================] - 2s 2ms/step - loss: 0.2139 - mape: 159.0413 - mae: 0.2139 - mse: 0.2232\n",
            "Epoch 26/50\n",
            "603/603 [==============================] - 2s 3ms/step - loss: 0.2133 - mape: 158.5428 - mae: 0.2133 - mse: 0.2223\n",
            "Epoch 27/50\n",
            "603/603 [==============================] - 2s 3ms/step - loss: 0.2133 - mape: 159.8979 - mae: 0.2133 - mse: 0.2212\n",
            "Epoch 28/50\n",
            "603/603 [==============================] - 2s 2ms/step - loss: 0.2124 - mape: 159.1264 - mae: 0.2124 - mse: 0.2209\n",
            "Epoch 29/50\n",
            "603/603 [==============================] - 2s 3ms/step - loss: 0.2114 - mape: 157.6222 - mae: 0.2114 - mse: 0.2208\n",
            "Epoch 30/50\n",
            "603/603 [==============================] - 1s 2ms/step - loss: 0.2116 - mape: 159.1133 - mae: 0.2116 - mse: 0.2202\n",
            "Epoch 31/50\n",
            "603/603 [==============================] - 2s 3ms/step - loss: 0.2104 - mape: 154.8852 - mae: 0.2104 - mse: 0.2188\n",
            "Epoch 32/50\n",
            "603/603 [==============================] - 2s 3ms/step - loss: 0.2109 - mape: 158.8803 - mae: 0.2109 - mse: 0.2188\n",
            "Epoch 33/50\n",
            "603/603 [==============================] - 2s 3ms/step - loss: 0.2083 - mape: 154.9601 - mae: 0.2083 - mse: 0.2169\n",
            "Epoch 34/50\n",
            "603/603 [==============================] - 3s 4ms/step - loss: 0.2091 - mape: 155.1820 - mae: 0.2091 - mse: 0.2171\n",
            "Epoch 35/50\n",
            "603/603 [==============================] - 2s 3ms/step - loss: 0.2102 - mape: 155.7264 - mae: 0.2102 - mse: 0.2180\n",
            "Epoch 36/50\n",
            "603/603 [==============================] - 1s 2ms/step - loss: 0.2081 - mape: 157.5564 - mae: 0.2081 - mse: 0.2164\n",
            "Epoch 37/50\n",
            "603/603 [==============================] - 2s 3ms/step - loss: 0.2089 - mape: 155.5523 - mae: 0.2089 - mse: 0.2162\n",
            "Epoch 38/50\n",
            "603/603 [==============================] - 2s 2ms/step - loss: 0.2086 - mape: 155.7837 - mae: 0.2086 - mse: 0.2161\n",
            "Epoch 39/50\n",
            "603/603 [==============================] - 2s 3ms/step - loss: 0.2077 - mape: 155.8569 - mae: 0.2077 - mse: 0.2148\n",
            "Epoch 40/50\n",
            "603/603 [==============================] - 1s 2ms/step - loss: 0.2096 - mape: 157.7563 - mae: 0.2096 - mse: 0.2153\n",
            "Epoch 41/50\n",
            "603/603 [==============================] - 2s 2ms/step - loss: 0.2087 - mape: 156.3999 - mae: 0.2087 - mse: 0.2157\n",
            "Epoch 42/50\n",
            "603/603 [==============================] - 2s 3ms/step - loss: 0.2078 - mape: 156.1892 - mae: 0.2078 - mse: 0.2145\n",
            "Epoch 43/50\n",
            "603/603 [==============================] - 1s 2ms/step - loss: 0.2073 - mape: 154.4821 - mae: 0.2073 - mse: 0.2130\n",
            "Epoch 44/50\n",
            "603/603 [==============================] - 2s 3ms/step - loss: 0.2083 - mape: 155.5782 - mae: 0.2083 - mse: 0.2152\n",
            "Epoch 45/50\n",
            "603/603 [==============================] - 2s 3ms/step - loss: 0.2080 - mape: 156.2601 - mae: 0.2080 - mse: 0.2138\n",
            "Epoch 46/50\n",
            "603/603 [==============================] - 2s 3ms/step - loss: 0.2068 - mape: 155.8676 - mae: 0.2068 - mse: 0.2130\n",
            "Epoch 47/50\n",
            "603/603 [==============================] - 2s 3ms/step - loss: 0.2069 - mape: 154.5894 - mae: 0.2069 - mse: 0.2126\n",
            "Epoch 48/50\n",
            "603/603 [==============================] - 2s 3ms/step - loss: 0.2059 - mape: 152.6371 - mae: 0.2059 - mse: 0.2127\n",
            "Epoch 49/50\n",
            "603/603 [==============================] - 2s 3ms/step - loss: 0.2067 - mape: 154.0085 - mae: 0.2067 - mse: 0.2134\n",
            "Epoch 50/50\n",
            "603/603 [==============================] - 2s 3ms/step - loss: 0.2059 - mape: 154.5003 - mae: 0.2059 - mse: 0.2129\n"
          ]
        }
      ]
    },
    {
      "cell_type": "code",
      "source": [
        "taxi_fare_model_2_b.evaluate(X_test,y_test)"
      ],
      "metadata": {
        "colab": {
          "base_uri": "https://localhost:8080/"
        },
        "id": "KRdTW0WxlzhC",
        "outputId": "c1e9c175-ca5f-4bf1-b17d-96baf347112f"
      },
      "execution_count": null,
      "outputs": [
        {
          "output_type": "stream",
          "name": "stdout",
          "text": [
            "603/603 [==============================] - 1s 2ms/step - loss: 0.1875 - mape: 131.7387 - mae: 0.1875 - mse: 0.2039\n"
          ]
        },
        {
          "output_type": "execute_result",
          "data": {
            "text/plain": [
              "[0.18750590085983276,\n",
              " 131.73873901367188,\n",
              " 0.18750590085983276,\n",
              " 0.20392467081546783]"
            ]
          },
          "metadata": {},
          "execution_count": 394
        }
      ]
    },
    {
      "cell_type": "code",
      "source": [
        "pred = taxi_fare_model_2_b.predict(X_test)\n",
        "print(\"MAPE : \",mean_absolute_percentage_error(y_test,pred))\n",
        "print(\"MAE : \",mean_absolute_error(y_test,pred))\n",
        "print(\"MSE : \",mean_squared_error(y_test,pred))\n"
      ],
      "metadata": {
        "colab": {
          "base_uri": "https://localhost:8080/"
        },
        "id": "ssZgdDUAl24l",
        "outputId": "98496550-4229-49f4-ccb7-0d900a2eae60"
      },
      "execution_count": null,
      "outputs": [
        {
          "output_type": "stream",
          "name": "stdout",
          "text": [
            "MAPE :  1.3173875023424135\n",
            "MAE :  0.18750586229928778\n",
            "MSE :  0.20392469507977284\n"
          ]
        }
      ]
    },
    {
      "cell_type": "code",
      "source": [
        "m2b=[mean_absolute_percentage_error(y_test,pred),mean_absolute_error(y_test,pred),mean_squared_error(y_test,pred)]\n",
        "m2b"
      ],
      "metadata": {
        "colab": {
          "base_uri": "https://localhost:8080/"
        },
        "id": "isifgFfrva4G",
        "outputId": "e3eb7136-ea69-4d97-e464-c5629396ef82"
      },
      "execution_count": null,
      "outputs": [
        {
          "output_type": "execute_result",
          "data": {
            "text/plain": [
              "[1.3173875023424135, 0.18750586229928778, 0.20392469507977284]"
            ]
          },
          "metadata": {},
          "execution_count": 396
        }
      ]
    },
    {
      "cell_type": "code",
      "source": [
        "# Plot history (also known as a loss curve or a training curve)\n",
        "pd.DataFrame(history.history['mae']).plot()\n",
        "plt.ylabel(\"mae\")\n",
        "plt.xlabel(\"epochs\")"
      ],
      "metadata": {
        "colab": {
          "base_uri": "https://localhost:8080/",
          "height": 296
        },
        "id": "Lgb6ih0Dl4ng",
        "outputId": "16dc3f46-4c72-4947-85f3-d52f1f25079a"
      },
      "execution_count": null,
      "outputs": [
        {
          "output_type": "execute_result",
          "data": {
            "text/plain": [
              "Text(0.5, 0, 'epochs')"
            ]
          },
          "metadata": {},
          "execution_count": 397
        },
        {
          "output_type": "display_data",
          "data": {
            "text/plain": [
              "<Figure size 432x288 with 1 Axes>"
            ],
            "image/png": "[encoded data removed]"
          },
          "metadata": {
            "needs_background": "light"
          }
        }
      ]
    },
    {
      "cell_type": "markdown",
      "source": [
        "**C. Experiment with activation functions**"
      ],
      "metadata": {
        "id": "73QjEOihhMfh"
      }
    },
    {
      "cell_type": "markdown",
      "source": [
        "**ReLU activation : max(x, 0)**"
      ],
      "metadata": {
        "id": "m7PtPietwjpA"
      }
    },
    {
      "cell_type": "code",
      "source": [
        "taxi_fare_model_3_relu = tf.keras.Sequential([\n",
        "                                       tf.keras.layers.Dense(32, activation='relu', input_dim=X_train.shape[1]),\n",
        "                                       tf.keras.layers.BatchNormalization(),\n",
        "                                       tf.keras.layers.Dense(24, activation='relu'),\n",
        "                                       tf.keras.layers.BatchNormalization(),\n",
        "                                       tf.keras.layers.Dense(16, activation='relu'),\n",
        "                                       tf.keras.layers.BatchNormalization(),\n",
        "                                       tf.keras.layers.Dense(8, activation='relu'),\n",
        "                                       tf.keras.layers.BatchNormalization(),\n",
        "                                       tf.keras.layers.Dense(1)                             ## final output layer with only 1 neuron\n",
        "                                    ])\n",
        "\n",
        "\n",
        "taxi_fare_model_3_relu.compile(loss = tf.keras.losses.mae,\n",
        "                        optimizer = tf.keras.optimizers.SGD(learning_rate=0.0095),\n",
        "                        metrics = [\"mape\",\"mae\",\"mse\"]\n",
        "                        )\n",
        "\n",
        "\n",
        "history = taxi_fare_model_3_relu.fit(X_train, y_train, epochs = 50,batch_size=128)\n"
      ],
      "metadata": {
        "colab": {
          "base_uri": "https://localhost:8080/"
        },
        "id": "FXHc95TKh7mp",
        "outputId": "5aad300e-7e5f-4c1f-e98b-0ff950a7a71b"
      },
      "execution_count": null,
      "outputs": [
        {
          "output_type": "stream",
          "name": "stdout",
          "text": [
            "Epoch 1/50\n",
            "603/603 [==============================] - 4s 4ms/step - loss: 0.4198 - mape: 268.2688 - mae: 0.4198 - mse: 0.4996\n",
            "Epoch 2/50\n",
            "603/603 [==============================] - 2s 3ms/step - loss: 0.2996 - mape: 222.2119 - mae: 0.2996 - mse: 0.2945\n",
            "Epoch 3/50\n",
            "603/603 [==============================] - 2s 3ms/step - loss: 0.2733 - mape: 206.9996 - mae: 0.2733 - mse: 0.2712\n",
            "Epoch 4/50\n",
            "603/603 [==============================] - 2s 3ms/step - loss: 0.2620 - mape: 200.2943 - mae: 0.2620 - mse: 0.2644\n",
            "Epoch 5/50\n",
            "603/603 [==============================] - 2s 3ms/step - loss: 0.2538 - mape: 190.6611 - mae: 0.2538 - mse: 0.2620\n",
            "Epoch 6/50\n",
            "603/603 [==============================] - 2s 3ms/step - loss: 0.2482 - mape: 184.0658 - mae: 0.2482 - mse: 0.2591\n",
            "Epoch 7/50\n",
            "603/603 [==============================] - 2s 3ms/step - loss: 0.2429 - mape: 177.0569 - mae: 0.2429 - mse: 0.2530\n",
            "Epoch 8/50\n",
            "603/603 [==============================] - 2s 3ms/step - loss: 0.2392 - mape: 175.0513 - mae: 0.2392 - mse: 0.2515\n",
            "Epoch 9/50\n",
            "603/603 [==============================] - 2s 3ms/step - loss: 0.2369 - mape: 172.8147 - mae: 0.2369 - mse: 0.2503\n",
            "Epoch 10/50\n",
            "603/603 [==============================] - 2s 3ms/step - loss: 0.2350 - mape: 172.7695 - mae: 0.2350 - mse: 0.2495\n",
            "Epoch 11/50\n",
            "603/603 [==============================] - 2s 3ms/step - loss: 0.2341 - mape: 169.2438 - mae: 0.2341 - mse: 0.2499\n",
            "Epoch 12/50\n",
            "603/603 [==============================] - 1s 2ms/step - loss: 0.2320 - mape: 167.3859 - mae: 0.2320 - mse: 0.2482\n",
            "Epoch 13/50\n",
            "603/603 [==============================] - 2s 3ms/step - loss: 0.2303 - mape: 163.9144 - mae: 0.2303 - mse: 0.2459\n",
            "Epoch 14/50\n",
            "603/603 [==============================] - 2s 2ms/step - loss: 0.2288 - mape: 165.0069 - mae: 0.2288 - mse: 0.2441\n",
            "Epoch 15/50\n",
            "603/603 [==============================] - 2s 3ms/step - loss: 0.2286 - mape: 164.3060 - mae: 0.2286 - mse: 0.2434\n",
            "Epoch 16/50\n",
            "603/603 [==============================] - 2s 2ms/step - loss: 0.2268 - mape: 162.8094 - mae: 0.2268 - mse: 0.2444\n",
            "Epoch 17/50\n",
            "603/603 [==============================] - 1s 2ms/step - loss: 0.2254 - mape: 159.0722 - mae: 0.2254 - mse: 0.2364\n",
            "Epoch 18/50\n",
            "603/603 [==============================] - 2s 2ms/step - loss: 0.2226 - mape: 160.4076 - mae: 0.2226 - mse: 0.2351\n",
            "Epoch 19/50\n",
            "603/603 [==============================] - 1s 2ms/step - loss: 0.2247 - mape: 158.9328 - mae: 0.2247 - mse: 0.2417\n",
            "Epoch 20/50\n",
            "603/603 [==============================] - 1s 2ms/step - loss: 0.2244 - mape: 158.8805 - mae: 0.2244 - mse: 0.2402\n",
            "Epoch 21/50\n",
            "603/603 [==============================] - 1s 2ms/step - loss: 0.2211 - mape: 158.1112 - mae: 0.2211 - mse: 0.2317\n",
            "Epoch 22/50\n",
            "603/603 [==============================] - 2s 3ms/step - loss: 0.2213 - mape: 157.2120 - mae: 0.2213 - mse: 0.2333\n",
            "Epoch 23/50\n",
            "603/603 [==============================] - 2s 3ms/step - loss: 0.2205 - mape: 157.1542 - mae: 0.2205 - mse: 0.2328\n",
            "Epoch 24/50\n",
            "603/603 [==============================] - 2s 3ms/step - loss: 0.2195 - mape: 155.4509 - mae: 0.2195 - mse: 0.2324\n",
            "Epoch 25/50\n",
            "603/603 [==============================] - 2s 3ms/step - loss: 0.2186 - mape: 157.5896 - mae: 0.2186 - mse: 0.2302\n",
            "Epoch 26/50\n",
            "603/603 [==============================] - 2s 3ms/step - loss: 0.2183 - mape: 155.2004 - mae: 0.2183 - mse: 0.2300\n",
            "Epoch 27/50\n",
            "603/603 [==============================] - 2s 3ms/step - loss: 0.2182 - mape: 156.9218 - mae: 0.2182 - mse: 0.2294\n",
            "Epoch 28/50\n",
            "603/603 [==============================] - 2s 3ms/step - loss: 0.2172 - mape: 154.8266 - mae: 0.2172 - mse: 0.2308\n",
            "Epoch 29/50\n",
            "603/603 [==============================] - 2s 3ms/step - loss: 0.2163 - mape: 156.6086 - mae: 0.2163 - mse: 0.2302\n",
            "Epoch 30/50\n",
            "603/603 [==============================] - 2s 3ms/step - loss: 0.2156 - mape: 153.6084 - mae: 0.2156 - mse: 0.2278\n",
            "Epoch 31/50\n",
            "603/603 [==============================] - 2s 3ms/step - loss: 0.2149 - mape: 155.9961 - mae: 0.2149 - mse: 0.2267\n",
            "Epoch 32/50\n",
            "603/603 [==============================] - 2s 3ms/step - loss: 0.2156 - mape: 157.5557 - mae: 0.2156 - mse: 0.2272\n",
            "Epoch 33/50\n",
            "603/603 [==============================] - 2s 3ms/step - loss: 0.2128 - mape: 152.3213 - mae: 0.2128 - mse: 0.2236\n",
            "Epoch 34/50\n",
            "603/603 [==============================] - 2s 3ms/step - loss: 0.2130 - mape: 153.7614 - mae: 0.2130 - mse: 0.2237\n",
            "Epoch 35/50\n",
            "603/603 [==============================] - 2s 3ms/step - loss: 0.2140 - mape: 152.9738 - mae: 0.2140 - mse: 0.2271\n",
            "Epoch 36/50\n",
            "603/603 [==============================] - 2s 3ms/step - loss: 0.2118 - mape: 154.9411 - mae: 0.2118 - mse: 0.2236\n",
            "Epoch 37/50\n",
            "603/603 [==============================] - 2s 3ms/step - loss: 0.2124 - mape: 153.2218 - mae: 0.2124 - mse: 0.2229\n",
            "Epoch 38/50\n",
            "603/603 [==============================] - 2s 3ms/step - loss: 0.2127 - mape: 154.6665 - mae: 0.2127 - mse: 0.2236\n",
            "Epoch 39/50\n",
            "603/603 [==============================] - 2s 3ms/step - loss: 0.2112 - mape: 152.3910 - mae: 0.2112 - mse: 0.2226\n",
            "Epoch 40/50\n",
            "603/603 [==============================] - 2s 3ms/step - loss: 0.2129 - mape: 155.2270 - mae: 0.2129 - mse: 0.2211\n",
            "Epoch 41/50\n",
            "603/603 [==============================] - 2s 3ms/step - loss: 0.2122 - mape: 154.2212 - mae: 0.2122 - mse: 0.2222\n",
            "Epoch 42/50\n",
            "603/603 [==============================] - 2s 3ms/step - loss: 0.2107 - mape: 153.2797 - mae: 0.2107 - mse: 0.2207\n",
            "Epoch 43/50\n",
            "603/603 [==============================] - 2s 4ms/step - loss: 0.2102 - mape: 151.8066 - mae: 0.2102 - mse: 0.2188\n",
            "Epoch 44/50\n",
            "603/603 [==============================] - 1s 2ms/step - loss: 0.2118 - mape: 152.9289 - mae: 0.2118 - mse: 0.2217\n",
            "Epoch 45/50\n",
            "603/603 [==============================] - 2s 3ms/step - loss: 0.2105 - mape: 153.0884 - mae: 0.2105 - mse: 0.2203\n",
            "Epoch 46/50\n",
            "603/603 [==============================] - 2s 3ms/step - loss: 0.2098 - mape: 153.5203 - mae: 0.2098 - mse: 0.2196\n",
            "Epoch 47/50\n",
            "603/603 [==============================] - 2s 2ms/step - loss: 0.2095 - mape: 153.1323 - mae: 0.2095 - mse: 0.2188\n",
            "Epoch 48/50\n",
            "603/603 [==============================] - 2s 3ms/step - loss: 0.2083 - mape: 149.7030 - mae: 0.2083 - mse: 0.2187\n",
            "Epoch 49/50\n",
            "603/603 [==============================] - 2s 3ms/step - loss: 0.2088 - mape: 152.2947 - mae: 0.2088 - mse: 0.2196\n",
            "Epoch 50/50\n",
            "603/603 [==============================] - 2s 3ms/step - loss: 0.2081 - mape: 150.4525 - mae: 0.2081 - mse: 0.2173\n"
          ]
        }
      ]
    },
    {
      "cell_type": "code",
      "source": [
        "taxi_fare_model_3_relu.evaluate(X_test,y_test)"
      ],
      "metadata": {
        "colab": {
          "base_uri": "https://localhost:8080/"
        },
        "id": "PcmPs9xHiI8a",
        "outputId": "08fbd38d-e576-4205-9792-77015060f1b8"
      },
      "execution_count": null,
      "outputs": [
        {
          "output_type": "stream",
          "name": "stdout",
          "text": [
            "603/603 [==============================] - 1s 2ms/step - loss: 0.1863 - mape: 133.8847 - mae: 0.1863 - mse: 0.2094\n"
          ]
        },
        {
          "output_type": "execute_result",
          "data": {
            "text/plain": [
              "[0.18632254004478455,\n",
              " 133.88470458984375,\n",
              " 0.18632254004478455,\n",
              " 0.20943254232406616]"
            ]
          },
          "metadata": {},
          "execution_count": 399
        }
      ]
    },
    {
      "cell_type": "code",
      "source": [
        "pred = taxi_fare_model_3_relu.predict(X_test)\n",
        "print(\"MAPE : \",mean_absolute_percentage_error(y_test,pred))\n",
        "print(\"MAE : \",mean_absolute_error(y_test,pred))\n",
        "print(\"MSE : \",mean_squared_error(y_test,pred))"
      ],
      "metadata": {
        "colab": {
          "base_uri": "https://localhost:8080/"
        },
        "id": "2S-9A-VSt08K",
        "outputId": "1ae5154f-d3d0-4cb7-a497-54d9863d4ee4"
      },
      "execution_count": null,
      "outputs": [
        {
          "output_type": "stream",
          "name": "stdout",
          "text": [
            "MAPE :  1.3388473605407547\n",
            "MAE :  0.18632257663090965\n",
            "MSE :  0.2094325470250257\n"
          ]
        }
      ]
    },
    {
      "cell_type": "code",
      "source": [
        "m3_relu=[mean_absolute_percentage_error(y_test,pred),mean_absolute_error(y_test,pred),mean_squared_error(y_test,pred)]\n",
        "m3_relu"
      ],
      "metadata": {
        "colab": {
          "base_uri": "https://localhost:8080/"
        },
        "id": "TaXjOObVv1lf",
        "outputId": "de833086-b0c6-4506-a82f-e2f5388abcb9"
      },
      "execution_count": null,
      "outputs": [
        {
          "output_type": "execute_result",
          "data": {
            "text/plain": [
              "[1.3388473605407547, 0.18632257663090965, 0.2094325470250257]"
            ]
          },
          "metadata": {},
          "execution_count": 401
        }
      ]
    },
    {
      "cell_type": "code",
      "source": [
        "# Plot history (also known as a loss curve or a training curve)\n",
        "pd.DataFrame(history.history['mae']).plot()\n",
        "plt.ylabel(\"mae\")\n",
        "plt.xlabel(\"epochs\")"
      ],
      "metadata": {
        "colab": {
          "base_uri": "https://localhost:8080/",
          "height": 296
        },
        "id": "gO7rRVRKjKFa",
        "outputId": "b5edce66-09c7-4a36-8e76-7d5a6db24b25"
      },
      "execution_count": null,
      "outputs": [
        {
          "output_type": "execute_result",
          "data": {
            "text/plain": [
              "Text(0.5, 0, 'epochs')"
            ]
          },
          "metadata": {},
          "execution_count": 402
        },
        {
          "output_type": "display_data",
          "data": {
            "text/plain": [
              "<Figure size 432x288 with 1 Axes>"
            ],
            "image/png": "[encoded data removed]"
          },
          "metadata": {
            "needs_background": "light"
          }
        }
      ]
    },
    {
      "cell_type": "markdown",
      "source": [
        "**tanh activation : tanh(x) = sinh(x)/cosh(x) = ((exp(x) - exp(-x))/(exp(x) + exp(-x)))**"
      ],
      "metadata": {
        "id": "aqzDJdgcw750"
      }
    },
    {
      "cell_type": "code",
      "source": [
        "taxi_fare_model_3_tanh = tf.keras.Sequential([\n",
        "                                       tf.keras.layers.Dense(32, activation='tanh', input_dim=X_train.shape[1]),\n",
        "                                       tf.keras.layers.BatchNormalization(),\n",
        "                                       tf.keras.layers.Dense(24, activation='tanh'),\n",
        "                                       tf.keras.layers.BatchNormalization(),\n",
        "                                       tf.keras.layers.Dense(16, activation='tanh'),\n",
        "                                       tf.keras.layers.BatchNormalization(),\n",
        "                                       tf.keras.layers.Dense(8, activation='tanh'),\n",
        "                                       tf.keras.layers.BatchNormalization(),\n",
        "                                       tf.keras.layers.Dense(1)                             ## final output layer with only 1 neuron\n",
        "                                    ])\n",
        "\n",
        "\n",
        "taxi_fare_model_3_tanh.compile(loss = tf.keras.losses.mae,\n",
        "                        optimizer = tf.keras.optimizers.SGD(learning_rate=0.0095),\n",
        "                        metrics = [\"mape\",\"mae\",\"mse\"]\n",
        "                        )\n",
        "\n",
        "\n",
        "history = taxi_fare_model_3_tanh.fit(X_train, y_train, epochs = 50,batch_size=128)\n"
      ],
      "metadata": {
        "colab": {
          "base_uri": "https://localhost:8080/"
        },
        "id": "9BwQSQ8WxKYa",
        "outputId": "bd7ed9bd-db79-40e4-ba2c-4a51e72cbfe5"
      },
      "execution_count": null,
      "outputs": [
        {
          "output_type": "stream",
          "name": "stdout",
          "text": [
            "Epoch 1/50\n",
            "603/603 [==============================] - 3s 3ms/step - loss: 0.4105 - mape: 260.9727 - mae: 0.4105 - mse: 0.5363\n",
            "Epoch 2/50\n",
            "603/603 [==============================] - 2s 3ms/step - loss: 0.3230 - mape: 201.4619 - mae: 0.3230 - mse: 0.4036\n",
            "Epoch 3/50\n",
            "603/603 [==============================] - 2s 3ms/step - loss: 0.3015 - mape: 192.9454 - mae: 0.3015 - mse: 0.3658\n",
            "Epoch 4/50\n",
            "603/603 [==============================] - 2s 3ms/step - loss: 0.2898 - mape: 192.8267 - mae: 0.2898 - mse: 0.3419\n",
            "Epoch 5/50\n",
            "603/603 [==============================] - 2s 3ms/step - loss: 0.2800 - mape: 187.7918 - mae: 0.2800 - mse: 0.3220\n",
            "Epoch 6/50\n",
            "603/603 [==============================] - 2s 3ms/step - loss: 0.2718 - mape: 187.0334 - mae: 0.2718 - mse: 0.3040\n",
            "Epoch 7/50\n",
            "603/603 [==============================] - 2s 3ms/step - loss: 0.2651 - mape: 186.0387 - mae: 0.2651 - mse: 0.2897\n",
            "Epoch 8/50\n",
            "603/603 [==============================] - 2s 3ms/step - loss: 0.2582 - mape: 182.8811 - mae: 0.2582 - mse: 0.2759\n",
            "Epoch 9/50\n",
            "603/603 [==============================] - 2s 3ms/step - loss: 0.2520 - mape: 183.4824 - mae: 0.2520 - mse: 0.2671\n",
            "Epoch 10/50\n",
            "603/603 [==============================] - 2s 3ms/step - loss: 0.2486 - mape: 184.0177 - mae: 0.2486 - mse: 0.2605\n",
            "Epoch 11/50\n",
            "603/603 [==============================] - 2s 3ms/step - loss: 0.2451 - mape: 178.8826 - mae: 0.2451 - mse: 0.2557\n",
            "Epoch 12/50\n",
            "603/603 [==============================] - 2s 3ms/step - loss: 0.2428 - mape: 180.0354 - mae: 0.2428 - mse: 0.2530\n",
            "Epoch 13/50\n",
            "603/603 [==============================] - 1s 2ms/step - loss: 0.2402 - mape: 177.6656 - mae: 0.2402 - mse: 0.2500\n",
            "Epoch 14/50\n",
            "603/603 [==============================] - 2s 3ms/step - loss: 0.2380 - mape: 174.8615 - mae: 0.2380 - mse: 0.2480\n",
            "Epoch 15/50\n",
            "603/603 [==============================] - 2s 3ms/step - loss: 0.2366 - mape: 177.2415 - mae: 0.2366 - mse: 0.2450\n",
            "Epoch 16/50\n",
            "603/603 [==============================] - 2s 3ms/step - loss: 0.2338 - mape: 174.3679 - mae: 0.2338 - mse: 0.2436\n",
            "Epoch 17/50\n",
            "603/603 [==============================] - 2s 3ms/step - loss: 0.2327 - mape: 170.5242 - mae: 0.2327 - mse: 0.2409\n",
            "Epoch 18/50\n",
            "603/603 [==============================] - 3s 5ms/step - loss: 0.2304 - mape: 172.4434 - mae: 0.2304 - mse: 0.2388\n",
            "Epoch 19/50\n",
            "603/603 [==============================] - 3s 5ms/step - loss: 0.2310 - mape: 169.9763 - mae: 0.2310 - mse: 0.2405\n",
            "Epoch 20/50\n",
            "603/603 [==============================] - 4s 6ms/step - loss: 0.2295 - mape: 166.9118 - mae: 0.2295 - mse: 0.2382\n",
            "Epoch 21/50\n",
            "603/603 [==============================] - 3s 4ms/step - loss: 0.2273 - mape: 168.2143 - mae: 0.2273 - mse: 0.2354\n",
            "Epoch 22/50\n",
            "603/603 [==============================] - 2s 3ms/step - loss: 0.2269 - mape: 166.4605 - mae: 0.2269 - mse: 0.2351\n",
            "Epoch 23/50\n",
            "603/603 [==============================] - 2s 3ms/step - loss: 0.2265 - mape: 168.8960 - mae: 0.2265 - mse: 0.2349\n",
            "Epoch 24/50\n",
            "603/603 [==============================] - 3s 4ms/step - loss: 0.2240 - mape: 166.5048 - mae: 0.2240 - mse: 0.2323\n",
            "Epoch 25/50\n",
            "603/603 [==============================] - 3s 4ms/step - loss: 0.2245 - mape: 165.0274 - mae: 0.2245 - mse: 0.2330\n",
            "Epoch 26/50\n",
            "603/603 [==============================] - 2s 4ms/step - loss: 0.2236 - mape: 166.3524 - mae: 0.2236 - mse: 0.2312\n",
            "Epoch 27/50\n",
            "603/603 [==============================] - 2s 3ms/step - loss: 0.2235 - mape: 167.7853 - mae: 0.2235 - mse: 0.2300\n",
            "Epoch 28/50\n",
            "603/603 [==============================] - 2s 3ms/step - loss: 0.2224 - mape: 164.3400 - mae: 0.2224 - mse: 0.2304\n",
            "Epoch 29/50\n",
            "603/603 [==============================] - 2s 3ms/step - loss: 0.2214 - mape: 164.6867 - mae: 0.2214 - mse: 0.2302\n",
            "Epoch 30/50\n",
            "603/603 [==============================] - 2s 3ms/step - loss: 0.2207 - mape: 163.0863 - mae: 0.2207 - mse: 0.2283\n",
            "Epoch 31/50\n",
            "603/603 [==============================] - 2s 3ms/step - loss: 0.2196 - mape: 163.1825 - mae: 0.2196 - mse: 0.2269\n",
            "Epoch 32/50\n",
            "603/603 [==============================] - 2s 3ms/step - loss: 0.2201 - mape: 163.0211 - mae: 0.2201 - mse: 0.2268\n",
            "Epoch 33/50\n",
            "603/603 [==============================] - 1s 2ms/step - loss: 0.2172 - mape: 160.0555 - mae: 0.2172 - mse: 0.2254\n",
            "Epoch 34/50\n",
            "603/603 [==============================] - 2s 3ms/step - loss: 0.2178 - mape: 161.7298 - mae: 0.2178 - mse: 0.2248\n",
            "Epoch 35/50\n",
            "603/603 [==============================] - 2s 3ms/step - loss: 0.2184 - mape: 160.4570 - mae: 0.2184 - mse: 0.2249\n",
            "Epoch 36/50\n",
            "603/603 [==============================] - 2s 3ms/step - loss: 0.2162 - mape: 161.3725 - mae: 0.2162 - mse: 0.2243\n",
            "Epoch 37/50\n",
            "603/603 [==============================] - 2s 3ms/step - loss: 0.2168 - mape: 159.3149 - mae: 0.2168 - mse: 0.2233\n",
            "Epoch 38/50\n",
            "603/603 [==============================] - 2s 3ms/step - loss: 0.2165 - mape: 159.9066 - mae: 0.2165 - mse: 0.2234\n",
            "Epoch 39/50\n",
            "603/603 [==============================] - 2s 3ms/step - loss: 0.2152 - mape: 160.0501 - mae: 0.2152 - mse: 0.2225\n",
            "Epoch 40/50\n",
            "603/603 [==============================] - 2s 3ms/step - loss: 0.2168 - mape: 161.4881 - mae: 0.2168 - mse: 0.2225\n",
            "Epoch 41/50\n",
            "603/603 [==============================] - 2s 3ms/step - loss: 0.2156 - mape: 159.2964 - mae: 0.2156 - mse: 0.2227\n",
            "Epoch 42/50\n",
            "603/603 [==============================] - 2s 3ms/step - loss: 0.2140 - mape: 158.1923 - mae: 0.2140 - mse: 0.2208\n",
            "Epoch 43/50\n",
            "603/603 [==============================] - 2s 3ms/step - loss: 0.2131 - mape: 156.9273 - mae: 0.2131 - mse: 0.2185\n",
            "Epoch 44/50\n",
            "603/603 [==============================] - 2s 3ms/step - loss: 0.2141 - mape: 158.2085 - mae: 0.2141 - mse: 0.2205\n",
            "Epoch 45/50\n",
            "603/603 [==============================] - 2s 3ms/step - loss: 0.2133 - mape: 158.5119 - mae: 0.2133 - mse: 0.2192\n",
            "Epoch 46/50\n",
            "603/603 [==============================] - 2s 3ms/step - loss: 0.2121 - mape: 159.4509 - mae: 0.2121 - mse: 0.2177\n",
            "Epoch 47/50\n",
            "603/603 [==============================] - 2s 3ms/step - loss: 0.2114 - mape: 156.9371 - mae: 0.2114 - mse: 0.2172\n",
            "Epoch 48/50\n",
            "603/603 [==============================] - 2s 3ms/step - loss: 0.2100 - mape: 153.0968 - mae: 0.2100 - mse: 0.2160\n",
            "Epoch 49/50\n",
            "603/603 [==============================] - 2s 3ms/step - loss: 0.2109 - mape: 156.9136 - mae: 0.2109 - mse: 0.2179\n",
            "Epoch 50/50\n",
            "603/603 [==============================] - 2s 3ms/step - loss: 0.2092 - mape: 154.9500 - mae: 0.2092 - mse: 0.2156\n"
          ]
        }
      ]
    },
    {
      "cell_type": "code",
      "source": [
        "taxi_fare_model_3_tanh.evaluate(X_test,y_test)"
      ],
      "metadata": {
        "colab": {
          "base_uri": "https://localhost:8080/"
        },
        "id": "I22n85M0xeQ4",
        "outputId": "b8228c1d-ee4b-4d6f-eff6-278379dfaef6"
      },
      "execution_count": null,
      "outputs": [
        {
          "output_type": "stream",
          "name": "stdout",
          "text": [
            "603/603 [==============================] - 1s 2ms/step - loss: 0.1892 - mape: 137.3322 - mae: 0.1892 - mse: 0.2030\n"
          ]
        },
        {
          "output_type": "execute_result",
          "data": {
            "text/plain": [
              "[0.1892378032207489,\n",
              " 137.33221435546875,\n",
              " 0.1892378032207489,\n",
              " 0.20302602648735046]"
            ]
          },
          "metadata": {},
          "execution_count": 404
        }
      ]
    },
    {
      "cell_type": "code",
      "source": [
        "pred = taxi_fare_model_3_tanh.predict(X_test)\n",
        "print(\"MAPE : \",mean_absolute_percentage_error(y_test,pred))\n",
        "print(\"MAE : \",mean_absolute_error(y_test,pred))\n",
        "print(\"MSE : \",mean_squared_error(y_test,pred))"
      ],
      "metadata": {
        "colab": {
          "base_uri": "https://localhost:8080/"
        },
        "id": "HftwtjVdxgni",
        "outputId": "41a038a9-ae0b-46bc-a59e-59fb81497106"
      },
      "execution_count": null,
      "outputs": [
        {
          "output_type": "stream",
          "name": "stdout",
          "text": [
            "MAPE :  1.3733222751086192\n",
            "MAE :  0.1892377859308925\n",
            "MSE :  0.20302607803801562\n"
          ]
        }
      ]
    },
    {
      "cell_type": "code",
      "source": [
        "m3_tanh=[mean_absolute_percentage_error(y_test,pred),mean_absolute_error(y_test,pred),mean_squared_error(y_test,pred)]\n",
        "m3_tanh"
      ],
      "metadata": {
        "colab": {
          "base_uri": "https://localhost:8080/"
        },
        "id": "6CzkXpwCxoon",
        "outputId": "ae72354c-761e-4be7-aad5-f357e00a04d3"
      },
      "execution_count": null,
      "outputs": [
        {
          "output_type": "execute_result",
          "data": {
            "text/plain": [
              "[1.3733222751086192, 0.1892377859308925, 0.20302607803801562]"
            ]
          },
          "metadata": {},
          "execution_count": 406
        }
      ]
    },
    {
      "cell_type": "code",
      "source": [
        "# Plot history (also known as a loss curve or a training curve)\n",
        "pd.DataFrame(history.history['mae']).plot()\n",
        "plt.ylabel(\"mae\")\n",
        "plt.xlabel(\"epochs\")"
      ],
      "metadata": {
        "colab": {
          "base_uri": "https://localhost:8080/",
          "height": 296
        },
        "id": "R2PJMC7Gxsyr",
        "outputId": "9d6f825d-c5c7-413a-aa5e-3ed119b32be8"
      },
      "execution_count": null,
      "outputs": [
        {
          "output_type": "execute_result",
          "data": {
            "text/plain": [
              "Text(0.5, 0, 'epochs')"
            ]
          },
          "metadata": {},
          "execution_count": 407
        },
        {
          "output_type": "display_data",
          "data": {
            "text/plain": [
              "<Figure size 432x288 with 1 Axes>"
            ],
            "image/png": "[encoded data removed]"
          },
          "metadata": {
            "needs_background": "light"
          }
        }
      ]
    },
    {
      "cell_type": "markdown",
      "source": [
        "**D.Experiment with regularization techniques:  Dropout rate, Early stopping**\n"
      ],
      "metadata": {
        "id": "mpnj85OlkFac"
      }
    },
    {
      "cell_type": "markdown",
      "source": [
        "**Dropout** : It randomly drops neurons from the neural network during training in each iteration which is equivalent to train different neural networks. The different networks will overfit in different ways, so the net effect of dropout will reduce overfitting."
      ],
      "metadata": {
        "id": "PptEz2EBn7B7"
      }
    },
    {
      "cell_type": "code",
      "source": [
        "\n",
        "taxi_fare_model_4_a = tf.keras.Sequential([\n",
        "                                       tf.keras.layers.Dense(32, activation='sigmoid', input_dim=X_train.shape[1]),  ## hidden layer 1\n",
        "                                       tf.keras.layers.BatchNormalization(),\n",
        "                                       Dropout(0.25), ## dropout 25% on hidden layer 1\n",
        "\n",
        "                                       tf.keras.layers.Dense(24, activation='sigmoid'),   ## hidden layer 2\n",
        "                                       tf.keras.layers.BatchNormalization(),\n",
        "                                       Dropout(0.25), ## dropout 25% on hidden layer 2\n",
        "\n",
        "                                       tf.keras.layers.Dense(16, activation='sigmoid'),   ## hidden layer 3\n",
        "                                       tf.keras.layers.BatchNormalization(),\n",
        "                                       Dropout(0.25), ## dropout 25% on hidden layer 3\n",
        "\n",
        "                                       tf.keras.layers.Dense(8, activation='sigmoid'),    ## hidden layer 4\n",
        "                                       tf.keras.layers.BatchNormalization(),\n",
        "                                       Dropout(0.25), ## dropout 25% on hidden layer 4\n",
        "\n",
        "                                       tf.keras.layers.Dense(1)                             ## final output layer with only 1 neuron\n",
        "                                    ])\n",
        "\n",
        "\n",
        "taxi_fare_model_4_a.compile(loss = tf.keras.losses.mae,\n",
        "                        optimizer = tf.keras.optimizers.SGD(learning_rate=0.0095),\n",
        "                        metrics = [\"mape\",\"mae\",\"mse\"]\n",
        "                        )\n",
        "\n",
        "\n",
        "history = taxi_fare_model_4_a.fit(X_train, y_train, epochs = 50,batch_size=128)"
      ],
      "metadata": {
        "colab": {
          "base_uri": "https://localhost:8080/"
        },
        "id": "Jtvj071MWKXt",
        "outputId": "f21cd608-cf4d-438a-cdf8-cc9ddc009079"
      },
      "execution_count": null,
      "outputs": [
        {
          "output_type": "stream",
          "name": "stdout",
          "text": [
            "Epoch 1/50\n",
            "603/603 [==============================] - 3s 3ms/step - loss: 0.5445 - mape: 283.7174 - mae: 0.5445 - mse: 0.8830\n",
            "Epoch 2/50\n",
            "603/603 [==============================] - 2s 3ms/step - loss: 0.4224 - mape: 198.6694 - mae: 0.4224 - mse: 0.6900\n",
            "Epoch 3/50\n",
            "603/603 [==============================] - 2s 3ms/step - loss: 0.4032 - mape: 199.9926 - mae: 0.4032 - mse: 0.6687\n",
            "Epoch 4/50\n",
            "603/603 [==============================] - 2s 3ms/step - loss: 0.3953 - mape: 200.3042 - mae: 0.3953 - mse: 0.6643\n",
            "Epoch 5/50\n",
            "603/603 [==============================] - 2s 3ms/step - loss: 0.3893 - mape: 202.3039 - mae: 0.3893 - mse: 0.6558\n",
            "Epoch 6/50\n",
            "603/603 [==============================] - 2s 3ms/step - loss: 0.3853 - mape: 203.4533 - mae: 0.3853 - mse: 0.6505\n",
            "Epoch 7/50\n",
            "603/603 [==============================] - 2s 3ms/step - loss: 0.3822 - mape: 205.9725 - mae: 0.3822 - mse: 0.6472\n",
            "Epoch 8/50\n",
            "603/603 [==============================] - 2s 3ms/step - loss: 0.3801 - mape: 208.3299 - mae: 0.3801 - mse: 0.6402\n",
            "Epoch 9/50\n",
            "603/603 [==============================] - 2s 3ms/step - loss: 0.3752 - mape: 205.4113 - mae: 0.3752 - mse: 0.6288\n",
            "Epoch 10/50\n",
            "603/603 [==============================] - 2s 3ms/step - loss: 0.3741 - mape: 211.0780 - mae: 0.3741 - mse: 0.6278\n",
            "Epoch 11/50\n",
            "603/603 [==============================] - 2s 3ms/step - loss: 0.3724 - mape: 214.2551 - mae: 0.3724 - mse: 0.6187\n",
            "Epoch 12/50\n",
            "603/603 [==============================] - 2s 3ms/step - loss: 0.3693 - mape: 214.8741 - mae: 0.3693 - mse: 0.6110\n",
            "Epoch 13/50\n",
            "603/603 [==============================] - 2s 3ms/step - loss: 0.3669 - mape: 213.6595 - mae: 0.3669 - mse: 0.6095\n",
            "Epoch 14/50\n",
            "603/603 [==============================] - 2s 3ms/step - loss: 0.3648 - mape: 217.5246 - mae: 0.3648 - mse: 0.5972\n",
            "Epoch 15/50\n",
            "603/603 [==============================] - 2s 3ms/step - loss: 0.3634 - mape: 214.2101 - mae: 0.3634 - mse: 0.5897\n",
            "Epoch 16/50\n",
            "603/603 [==============================] - 2s 4ms/step - loss: 0.3602 - mape: 220.2394 - mae: 0.3602 - mse: 0.5786\n",
            "Epoch 17/50\n",
            "603/603 [==============================] - 3s 6ms/step - loss: 0.3591 - mape: 212.7803 - mae: 0.3591 - mse: 0.5777\n",
            "Epoch 18/50\n",
            "603/603 [==============================] - 2s 4ms/step - loss: 0.3564 - mape: 215.9003 - mae: 0.3564 - mse: 0.5655\n",
            "Epoch 19/50\n",
            "603/603 [==============================] - 3s 5ms/step - loss: 0.3549 - mape: 223.0809 - mae: 0.3549 - mse: 0.5613\n",
            "Epoch 20/50\n",
            "603/603 [==============================] - 2s 3ms/step - loss: 0.3541 - mape: 220.4425 - mae: 0.3541 - mse: 0.5531\n",
            "Epoch 21/50\n",
            "603/603 [==============================] - 2s 3ms/step - loss: 0.3520 - mape: 219.9655 - mae: 0.3520 - mse: 0.5456\n",
            "Epoch 22/50\n",
            "603/603 [==============================] - 2s 3ms/step - loss: 0.3507 - mape: 221.5345 - mae: 0.3507 - mse: 0.5405\n",
            "Epoch 23/50\n",
            "603/603 [==============================] - 2s 3ms/step - loss: 0.3479 - mape: 217.6507 - mae: 0.3479 - mse: 0.5293\n",
            "Epoch 24/50\n",
            "603/603 [==============================] - 2s 3ms/step - loss: 0.3462 - mape: 216.0686 - mae: 0.3462 - mse: 0.5230\n",
            "Epoch 25/50\n",
            "603/603 [==============================] - 2s 3ms/step - loss: 0.3451 - mape: 219.7230 - mae: 0.3451 - mse: 0.5172\n",
            "Epoch 26/50\n",
            "603/603 [==============================] - 2s 3ms/step - loss: 0.3433 - mape: 216.8004 - mae: 0.3433 - mse: 0.5097\n",
            "Epoch 27/50\n",
            "603/603 [==============================] - 2s 3ms/step - loss: 0.3409 - mape: 219.9355 - mae: 0.3409 - mse: 0.4966\n",
            "Epoch 28/50\n",
            "603/603 [==============================] - 2s 3ms/step - loss: 0.3401 - mape: 217.1363 - mae: 0.3401 - mse: 0.4961\n",
            "Epoch 29/50\n",
            "603/603 [==============================] - 2s 3ms/step - loss: 0.3379 - mape: 220.9914 - mae: 0.3379 - mse: 0.4877\n",
            "Epoch 30/50\n",
            "603/603 [==============================] - 2s 3ms/step - loss: 0.3375 - mape: 219.2306 - mae: 0.3375 - mse: 0.4809\n",
            "Epoch 31/50\n",
            "603/603 [==============================] - 2s 3ms/step - loss: 0.3354 - mape: 218.9944 - mae: 0.3354 - mse: 0.4746\n",
            "Epoch 32/50\n",
            "603/603 [==============================] - 2s 3ms/step - loss: 0.3345 - mape: 219.0200 - mae: 0.3345 - mse: 0.4699\n",
            "Epoch 33/50\n",
            "603/603 [==============================] - 2s 3ms/step - loss: 0.3314 - mape: 211.2663 - mae: 0.3314 - mse: 0.4627\n",
            "Epoch 34/50\n",
            "603/603 [==============================] - 2s 3ms/step - loss: 0.3300 - mape: 216.9938 - mae: 0.3300 - mse: 0.4546\n",
            "Epoch 35/50\n",
            "603/603 [==============================] - 2s 3ms/step - loss: 0.3303 - mape: 217.1426 - mae: 0.3303 - mse: 0.4549\n",
            "Epoch 36/50\n",
            "603/603 [==============================] - 2s 3ms/step - loss: 0.3280 - mape: 214.0723 - mae: 0.3280 - mse: 0.4456\n",
            "Epoch 37/50\n",
            "603/603 [==============================] - 2s 3ms/step - loss: 0.3273 - mape: 215.1494 - mae: 0.3273 - mse: 0.4382\n",
            "Epoch 38/50\n",
            "603/603 [==============================] - 2s 3ms/step - loss: 0.3271 - mape: 213.5036 - mae: 0.3271 - mse: 0.4411\n",
            "Epoch 39/50\n",
            "603/603 [==============================] - 2s 3ms/step - loss: 0.3258 - mape: 214.1428 - mae: 0.3258 - mse: 0.4344\n",
            "Epoch 40/50\n",
            "603/603 [==============================] - 2s 3ms/step - loss: 0.3260 - mape: 214.0304 - mae: 0.3260 - mse: 0.4326\n",
            "Epoch 41/50\n",
            "603/603 [==============================] - 2s 3ms/step - loss: 0.3233 - mape: 215.0628 - mae: 0.3233 - mse: 0.4258\n",
            "Epoch 42/50\n",
            "603/603 [==============================] - 2s 3ms/step - loss: 0.3227 - mape: 211.7371 - mae: 0.3227 - mse: 0.4239\n",
            "Epoch 43/50\n",
            "603/603 [==============================] - 2s 3ms/step - loss: 0.3227 - mape: 208.1435 - mae: 0.3227 - mse: 0.4213\n",
            "Epoch 44/50\n",
            "603/603 [==============================] - 2s 3ms/step - loss: 0.3207 - mape: 209.4077 - mae: 0.3207 - mse: 0.4146\n",
            "Epoch 45/50\n",
            "603/603 [==============================] - 2s 3ms/step - loss: 0.3195 - mape: 209.2790 - mae: 0.3195 - mse: 0.4112\n",
            "Epoch 46/50\n",
            "603/603 [==============================] - 2s 3ms/step - loss: 0.3176 - mape: 209.7415 - mae: 0.3176 - mse: 0.4057\n",
            "Epoch 47/50\n",
            "603/603 [==============================] - 2s 3ms/step - loss: 0.3177 - mape: 209.0314 - mae: 0.3177 - mse: 0.4057\n",
            "Epoch 48/50\n",
            "603/603 [==============================] - 2s 3ms/step - loss: 0.3149 - mape: 206.8427 - mae: 0.3149 - mse: 0.3965\n",
            "Epoch 49/50\n",
            "603/603 [==============================] - 3s 5ms/step - loss: 0.3159 - mape: 208.3861 - mae: 0.3159 - mse: 0.4026\n",
            "Epoch 50/50\n",
            "603/603 [==============================] - 2s 4ms/step - loss: 0.3140 - mape: 208.5560 - mae: 0.3140 - mse: 0.3941\n"
          ]
        }
      ]
    },
    {
      "cell_type": "code",
      "source": [
        "taxi_fare_model_4_a.evaluate(X_test,y_test)"
      ],
      "metadata": {
        "colab": {
          "base_uri": "https://localhost:8080/"
        },
        "id": "2Joqnr5oaM2T",
        "outputId": "c86ab7a6-4424-4729-fe8f-9f1504f7a6ef"
      },
      "execution_count": null,
      "outputs": [
        {
          "output_type": "stream",
          "name": "stdout",
          "text": [
            "603/603 [==============================] - 1s 2ms/step - loss: 0.2484 - mape: 185.1161 - mae: 0.2484 - mse: 0.2909\n"
          ]
        },
        {
          "output_type": "execute_result",
          "data": {
            "text/plain": [
              "[0.24838019907474518,\n",
              " 185.11614990234375,\n",
              " 0.24838019907474518,\n",
              " 0.2909388244152069]"
            ]
          },
          "metadata": {},
          "execution_count": 409
        }
      ]
    },
    {
      "cell_type": "code",
      "source": [
        "pred = taxi_fare_model_4_a.predict(X_test)\n",
        "print(\"MAPE : \",mean_absolute_percentage_error(y_test,pred))\n",
        "print(\"MAE : \",mean_absolute_error(y_test,pred))\n",
        "print(\"MSE : \",mean_squared_error(y_test,pred))"
      ],
      "metadata": {
        "colab": {
          "base_uri": "https://localhost:8080/"
        },
        "id": "Tqc15Rri1tMo",
        "outputId": "9aedb9d1-c3ca-4b2b-8675-248866118387"
      },
      "execution_count": null,
      "outputs": [
        {
          "output_type": "stream",
          "name": "stdout",
          "text": [
            "MAPE :  1.851161514098979\n",
            "MAE :  0.24838014985689094\n",
            "MSE :  0.2909386962614793\n"
          ]
        }
      ]
    },
    {
      "cell_type": "code",
      "source": [
        "m4_a=[mean_absolute_percentage_error(y_test,pred),mean_absolute_error(y_test,pred),mean_squared_error(y_test,pred)]\n",
        "m4_a"
      ],
      "metadata": {
        "colab": {
          "base_uri": "https://localhost:8080/"
        },
        "id": "tIx-Edy0z-dy",
        "outputId": "76235d47-3d58-488c-a98f-b8bcdf051969"
      },
      "execution_count": null,
      "outputs": [
        {
          "output_type": "execute_result",
          "data": {
            "text/plain": [
              "[1.851161514098979, 0.24838014985689094, 0.2909386962614793]"
            ]
          },
          "metadata": {},
          "execution_count": 411
        }
      ]
    },
    {
      "cell_type": "code",
      "source": [
        "# Plot history (also known as a loss curve or a training curve)\n",
        "pd.DataFrame(history.history['mae']).plot()\n",
        "plt.ylabel(\"mae\")\n",
        "plt.xlabel(\"epochs\")"
      ],
      "metadata": {
        "colab": {
          "base_uri": "https://localhost:8080/",
          "height": 296
        },
        "id": "8ZD7-R23ajI-",
        "outputId": "2420bea0-3199-4052-84c0-2c28c91a1691"
      },
      "execution_count": null,
      "outputs": [
        {
          "output_type": "execute_result",
          "data": {
            "text/plain": [
              "Text(0.5, 0, 'epochs')"
            ]
          },
          "metadata": {},
          "execution_count": 412
        },
        {
          "output_type": "display_data",
          "data": {
            "text/plain": [
              "<Figure size 432x288 with 1 Axes>"
            ],
            "image/png": "[encoded data removed]"
          },
          "metadata": {
            "needs_background": "light"
          }
        }
      ]
    },
    {
      "cell_type": "markdown",
      "source": [
        "**Early stopping** : After some iterations, test error starts to increase while the training error decreases. Hence the model is overfitting. So to combat this, we stop the model at the point when this starts to happen."
      ],
      "metadata": {
        "id": "slLwwYO0oBqR"
      }
    },
    {
      "cell_type": "code",
      "source": [
        "\n",
        "taxi_fare_model_4_b = tf.keras.Sequential([\n",
        "                                       tf.keras.layers.Dense(32, activation='sigmoid', input_dim=X_train.shape[1]),\n",
        "                                       tf.keras.layers.BatchNormalization(),\n",
        "                                       tf.keras.layers.Dense(24, activation='sigmoid'),\n",
        "                                       tf.keras.layers.BatchNormalization(),\n",
        "                                       tf.keras.layers.Dense(16, activation='sigmoid'),\n",
        "                                       tf.keras.layers.BatchNormalization(),\n",
        "                                       tf.keras.layers.Dense(8, activation='sigmoid'),\n",
        "                                       tf.keras.layers.BatchNormalization(),\n",
        "                                       tf.keras.layers.Dense(1)                             ## final output layer with only 1 neuron\n",
        "                                    ])\n",
        "\n",
        "\n",
        "taxi_fare_model_4_b.compile(loss = tf.keras.losses.mae,\n",
        "                        optimizer = tf.keras.optimizers.SGD(learning_rate=0.0095),\n",
        "                        metrics = [\"mape\",\"mae\",\"mse\"]\n",
        "                        )\n",
        "\n",
        "\n",
        "callbacks = [tf.keras.callbacks.EarlyStopping(monitor='val_mae', patience=3)]\n",
        "history = taxi_fare_model_4_b.fit(X_train, y_train, epochs = 50, batch_size=128, validation_split=0.2, callbacks=callbacks )"
      ],
      "metadata": {
        "colab": {
          "base_uri": "https://localhost:8080/"
        },
        "id": "mugs_pZeao6Q",
        "outputId": "257089f1-67c3-423f-c964-f7cae8b321e5"
      },
      "execution_count": null,
      "outputs": [
        {
          "output_type": "stream",
          "name": "stdout",
          "text": [
            "Epoch 1/50\n",
            "483/483 [==============================] - 4s 3ms/step - loss: 0.3302 - mape: 215.1429 - mae: 0.3302 - mse: 0.4097 - val_loss: 0.3303 - val_mape: 152.6123 - val_mae: 0.3303 - val_mse: 0.3640\n",
            "Epoch 2/50\n",
            "483/483 [==============================] - 2s 3ms/step - loss: 0.2766 - mape: 189.3426 - mae: 0.2766 - mse: 0.3138 - val_loss: 0.2566 - val_mape: 156.2534 - val_mae: 0.2566 - val_mse: 0.2700\n",
            "Epoch 3/50\n",
            "483/483 [==============================] - 2s 3ms/step - loss: 0.2636 - mape: 184.7377 - mae: 0.2636 - mse: 0.2932 - val_loss: 0.2327 - val_mape: 167.5624 - val_mae: 0.2327 - val_mse: 0.2378\n",
            "Epoch 4/50\n",
            "483/483 [==============================] - 2s 3ms/step - loss: 0.2553 - mape: 181.3932 - mae: 0.2553 - mse: 0.2805 - val_loss: 0.2554 - val_mape: 189.2783 - val_mae: 0.2554 - val_mse: 0.2466\n",
            "Epoch 5/50\n",
            "483/483 [==============================] - 2s 3ms/step - loss: 0.2498 - mape: 179.1757 - mae: 0.2498 - mse: 0.2747 - val_loss: 0.2452 - val_mape: 163.1328 - val_mae: 0.2452 - val_mse: 0.2427\n",
            "Epoch 6/50\n",
            "483/483 [==============================] - 1s 3ms/step - loss: 0.2466 - mape: 177.3746 - mae: 0.2466 - mse: 0.2697 - val_loss: 0.2273 - val_mape: 161.0824 - val_mae: 0.2273 - val_mse: 0.2282\n",
            "Epoch 7/50\n",
            "483/483 [==============================] - 1s 3ms/step - loss: 0.2423 - mape: 174.8847 - mae: 0.2423 - mse: 0.2643 - val_loss: 0.2233 - val_mape: 147.4992 - val_mae: 0.2233 - val_mse: 0.2255\n",
            "Epoch 8/50\n",
            "483/483 [==============================] - 1s 3ms/step - loss: 0.2395 - mape: 172.9275 - mae: 0.2395 - mse: 0.2612 - val_loss: 0.2189 - val_mape: 160.8817 - val_mae: 0.2189 - val_mse: 0.2172\n",
            "Epoch 9/50\n",
            "483/483 [==============================] - 2s 3ms/step - loss: 0.2378 - mape: 171.2222 - mae: 0.2378 - mse: 0.2575 - val_loss: 0.2162 - val_mape: 148.0772 - val_mae: 0.2162 - val_mse: 0.2190\n",
            "Epoch 10/50\n",
            "483/483 [==============================] - 2s 3ms/step - loss: 0.2362 - mape: 168.6883 - mae: 0.2362 - mse: 0.2553 - val_loss: 0.2121 - val_mape: 157.1631 - val_mae: 0.2121 - val_mse: 0.2160\n",
            "Epoch 11/50\n",
            "483/483 [==============================] - 2s 3ms/step - loss: 0.2357 - mape: 169.7150 - mae: 0.2357 - mse: 0.2550 - val_loss: 0.2095 - val_mape: 150.4715 - val_mae: 0.2095 - val_mse: 0.2107\n",
            "Epoch 12/50\n",
            "483/483 [==============================] - 2s 3ms/step - loss: 0.2347 - mape: 166.4902 - mae: 0.2347 - mse: 0.2520 - val_loss: 0.2106 - val_mape: 150.8843 - val_mae: 0.2106 - val_mse: 0.2103\n",
            "Epoch 13/50\n",
            "483/483 [==============================] - 2s 3ms/step - loss: 0.2326 - mape: 169.4008 - mae: 0.2326 - mse: 0.2497 - val_loss: 0.2080 - val_mape: 149.0138 - val_mae: 0.2080 - val_mse: 0.2073\n",
            "Epoch 14/50\n",
            "483/483 [==============================] - 1s 3ms/step - loss: 0.2316 - mape: 168.2764 - mae: 0.2316 - mse: 0.2488 - val_loss: 0.2102 - val_mape: 145.3693 - val_mae: 0.2102 - val_mse: 0.2089\n",
            "Epoch 15/50\n",
            "483/483 [==============================] - 1s 3ms/step - loss: 0.2305 - mape: 168.3278 - mae: 0.2305 - mse: 0.2465 - val_loss: 0.2094 - val_mape: 141.4583 - val_mae: 0.2094 - val_mse: 0.2050\n",
            "Epoch 16/50\n",
            "483/483 [==============================] - 1s 3ms/step - loss: 0.2292 - mape: 166.9438 - mae: 0.2292 - mse: 0.2455 - val_loss: 0.2098 - val_mape: 144.9414 - val_mae: 0.2098 - val_mse: 0.2044\n"
          ]
        }
      ]
    },
    {
      "cell_type": "code",
      "source": [
        "taxi_fare_model_4_b.evaluate(X_test,y_test)"
      ],
      "metadata": {
        "colab": {
          "base_uri": "https://localhost:8080/"
        },
        "id": "cnNFW-ftbdMA",
        "outputId": "b7bef77e-ad72-432b-aadf-6f876d483435"
      },
      "execution_count": null,
      "outputs": [
        {
          "output_type": "stream",
          "name": "stdout",
          "text": [
            "603/603 [==============================] - 1s 2ms/step - loss: 0.2082 - mape: 145.9919 - mae: 0.2082 - mse: 0.2174\n"
          ]
        },
        {
          "output_type": "execute_result",
          "data": {
            "text/plain": [
              "[0.2081562876701355,\n",
              " 145.99188232421875,\n",
              " 0.2081562876701355,\n",
              " 0.2173580676317215]"
            ]
          },
          "metadata": {},
          "execution_count": 414
        }
      ]
    },
    {
      "cell_type": "code",
      "source": [
        "pred = taxi_fare_model_4_b.predict(X_test)\n",
        "print(\"MAPE : \",mean_absolute_percentage_error(y_test,pred))\n",
        "print(\"MAE : \",mean_absolute_error(y_test,pred))\n",
        "print(\"MSE : \",mean_squared_error(y_test,pred))"
      ],
      "metadata": {
        "colab": {
          "base_uri": "https://localhost:8080/"
        },
        "id": "G0iOBULK13dw",
        "outputId": "8a6cb7af-d9a8-4831-e210-8b3e40142a4c"
      },
      "execution_count": null,
      "outputs": [
        {
          "output_type": "stream",
          "name": "stdout",
          "text": [
            "MAPE :  1.4599189698338286\n",
            "MAE :  0.2081564319173301\n",
            "MSE :  0.21735796439218427\n"
          ]
        }
      ]
    },
    {
      "cell_type": "code",
      "source": [
        "m4_b=[mean_absolute_percentage_error(y_test,pred),mean_absolute_error(y_test,pred),mean_squared_error(y_test,pred)]\n",
        "m4_b"
      ],
      "metadata": {
        "colab": {
          "base_uri": "https://localhost:8080/"
        },
        "id": "WmJExzGi08_w",
        "outputId": "98b7004e-5aba-4d2a-f05d-7e5d5f16804d"
      },
      "execution_count": null,
      "outputs": [
        {
          "output_type": "execute_result",
          "data": {
            "text/plain": [
              "[1.4599189698338286, 0.2081564319173301, 0.21735796439218427]"
            ]
          },
          "metadata": {},
          "execution_count": 416
        }
      ]
    },
    {
      "cell_type": "code",
      "source": [
        "# Plot history (also known as a loss curve or a training curve)\n",
        "\n",
        "pd.DataFrame(history.history['val_mae']).plot()\n",
        "plt.title('validation mae')\n",
        "plt.ylabel(\"val_mae\")\n",
        "plt.xlabel(\"epochs\")\n"
      ],
      "metadata": {
        "colab": {
          "base_uri": "https://localhost:8080/",
          "height": 312
        },
        "id": "9Dv93m9gcWVJ",
        "outputId": "16170ae1-5b21-4ab4-fdb7-5ed8d9e68e37"
      },
      "execution_count": null,
      "outputs": [
        {
          "output_type": "execute_result",
          "data": {
            "text/plain": [
              "Text(0.5, 0, 'epochs')"
            ]
          },
          "metadata": {},
          "execution_count": 417
        },
        {
          "output_type": "display_data",
          "data": {
            "text/plain": [
              "<Figure size 432x288 with 1 Axes>"
            ],
            "image/png": "[encoded data removed]"
          },
          "metadata": {
            "needs_background": "light"
          }
        }
      ]
    },
    {
      "cell_type": "markdown",
      "source": [
        "Using both dropout and early stopping simultaneously"
      ],
      "metadata": {
        "id": "XC2Y2-WVoGoN"
      }
    },
    {
      "cell_type": "code",
      "source": [
        "\n",
        "taxi_fare_model_4_c = tf.keras.Sequential([\n",
        "                                       tf.keras.layers.Dense(32, activation='sigmoid', input_dim=X_train.shape[1]),  ## hidden layer 1\n",
        "                                       tf.keras.layers.BatchNormalization(),\n",
        "                                       Dropout(0.25), ## dropout 25% on hidden layer 1\n",
        "\n",
        "                                       tf.keras.layers.Dense(24, activation='sigmoid'),   ## hidden layer 2\n",
        "                                       tf.keras.layers.BatchNormalization(),\n",
        "                                       Dropout(0.25), ## dropout 25% on hidden layer 2\n",
        "\n",
        "                                       tf.keras.layers.Dense(16, activation='sigmoid'),   ## hidden layer 3\n",
        "                                       tf.keras.layers.BatchNormalization(),\n",
        "                                       Dropout(0.25), ## dropout 25% on hidden layer 3\n",
        "\n",
        "                                       tf.keras.layers.Dense(8, activation='sigmoid'),    ## hidden layer 4\n",
        "                                       tf.keras.layers.BatchNormalization(),\n",
        "                                       Dropout(0.25), ## dropout 25% on hidden layer 4\n",
        "\n",
        "                                       tf.keras.layers.Dense(1)                             ## final output layer with only 1 neuron\n",
        "                                    ])\n",
        "\n",
        "taxi_fare_model_4_c.compile(loss = tf.keras.losses.mae,\n",
        "                        optimizer = tf.keras.optimizers.Adam(learning_rate=0.0095),\n",
        "                        metrics = [\"mape\",\"mae\",\"mse\"]\n",
        "                        )\n",
        "\n",
        "callbacks = [tf.keras.callbacks.EarlyStopping(monitor='val_mae', patience=3)]\n",
        "history = taxi_fare_model_4_c.fit(X_train, y_train, epochs = 50,batch_size=128,validation_split=0.2,callbacks=callbacks)"
      ],
      "metadata": {
        "colab": {
          "base_uri": "https://localhost:8080/"
        },
        "id": "pmt01BXmcdse",
        "outputId": "efa5fbfa-d67f-495b-d797-3febaba3a15f"
      },
      "execution_count": null,
      "outputs": [
        {
          "output_type": "stream",
          "name": "stdout",
          "text": [
            "Epoch 1/50\n",
            "483/483 [==============================] - 4s 4ms/step - loss: 0.3729 - mape: 235.4794 - mae: 0.3729 - mse: 0.5323 - val_loss: 0.3583 - val_mape: 119.3098 - val_mae: 0.3583 - val_mse: 0.5398\n",
            "Epoch 2/50\n",
            "483/483 [==============================] - 2s 4ms/step - loss: 0.2909 - mape: 182.2829 - mae: 0.2909 - mse: 0.3529 - val_loss: 0.2691 - val_mape: 119.3263 - val_mae: 0.2691 - val_mse: 0.3134\n",
            "Epoch 3/50\n",
            "483/483 [==============================] - 2s 4ms/step - loss: 0.2840 - mape: 180.0069 - mae: 0.2840 - mse: 0.3401 - val_loss: 0.2187 - val_mape: 140.7807 - val_mae: 0.2187 - val_mse: 0.2275\n",
            "Epoch 4/50\n",
            "483/483 [==============================] - 2s 4ms/step - loss: 0.2805 - mape: 177.6420 - mae: 0.2805 - mse: 0.3331 - val_loss: 0.2527 - val_mape: 131.6542 - val_mae: 0.2527 - val_mse: 0.2908\n",
            "Epoch 5/50\n",
            "483/483 [==============================] - 2s 4ms/step - loss: 0.2777 - mape: 175.9398 - mae: 0.2777 - mse: 0.3340 - val_loss: 0.2273 - val_mape: 170.9860 - val_mae: 0.2273 - val_mse: 0.2195\n",
            "Epoch 6/50\n",
            "483/483 [==============================] - 2s 4ms/step - loss: 0.2752 - mape: 178.9466 - mae: 0.2752 - mse: 0.3209 - val_loss: 0.2094 - val_mape: 138.3657 - val_mae: 0.2094 - val_mse: 0.2083\n",
            "Epoch 7/50\n",
            "483/483 [==============================] - 2s 4ms/step - loss: 0.2740 - mape: 174.1788 - mae: 0.2740 - mse: 0.3234 - val_loss: 0.2232 - val_mape: 132.8690 - val_mae: 0.2232 - val_mse: 0.2374\n",
            "Epoch 8/50\n",
            "483/483 [==============================] - 2s 4ms/step - loss: 0.2728 - mape: 175.9338 - mae: 0.2728 - mse: 0.3188 - val_loss: 0.2201 - val_mape: 168.9727 - val_mae: 0.2201 - val_mse: 0.2179\n",
            "Epoch 9/50\n",
            "483/483 [==============================] - 2s 4ms/step - loss: 0.2716 - mape: 177.0527 - mae: 0.2716 - mse: 0.3176 - val_loss: 0.2289 - val_mape: 151.6536 - val_mae: 0.2289 - val_mse: 0.2434\n"
          ]
        }
      ]
    },
    {
      "cell_type": "code",
      "source": [
        "taxi_fare_model_4_c.evaluate(X_test,y_test)"
      ],
      "metadata": {
        "colab": {
          "base_uri": "https://localhost:8080/"
        },
        "id": "pWRXNiVgnQqA",
        "outputId": "39c2476f-a436-4038-b46f-3175a514baaf"
      },
      "execution_count": null,
      "outputs": [
        {
          "output_type": "stream",
          "name": "stdout",
          "text": [
            "603/603 [==============================] - 1s 2ms/step - loss: 0.2319 - mape: 152.6351 - mae: 0.2319 - mse: 0.2609\n"
          ]
        },
        {
          "output_type": "execute_result",
          "data": {
            "text/plain": [
              "[0.23189014196395874,\n",
              " 152.63507080078125,\n",
              " 0.23189014196395874,\n",
              " 0.2609451413154602]"
            ]
          },
          "metadata": {},
          "execution_count": 419
        }
      ]
    },
    {
      "cell_type": "code",
      "source": [
        "pred = taxi_fare_model_4_c.predict(X_test)\n",
        "print(\"MAPE : \",mean_absolute_percentage_error(y_test,pred))\n",
        "print(\"MAE : \",mean_absolute_error(y_test,pred))\n",
        "print(\"MSE : \",mean_squared_error(y_test,pred))"
      ],
      "metadata": {
        "colab": {
          "base_uri": "https://localhost:8080/"
        },
        "id": "YuUoClG-3kAr",
        "outputId": "3e5b2468-0e45-4986-8d70-dc30e0d891aa"
      },
      "execution_count": null,
      "outputs": [
        {
          "output_type": "stream",
          "name": "stdout",
          "text": [
            "MAPE :  1.5263508180016376\n",
            "MAE :  0.23189014461113738\n",
            "MSE :  0.26094524580391854\n"
          ]
        }
      ]
    },
    {
      "cell_type": "code",
      "source": [
        "m4_c=[mean_absolute_percentage_error(y_test,pred),mean_absolute_error(y_test,pred),mean_squared_error(y_test,pred)]\n",
        "m4_c"
      ],
      "metadata": {
        "colab": {
          "base_uri": "https://localhost:8080/"
        },
        "id": "3bE72kw73pT8",
        "outputId": "ec8c2bd2-346e-46ff-efbe-cce94d27eccf"
      },
      "execution_count": null,
      "outputs": [
        {
          "output_type": "execute_result",
          "data": {
            "text/plain": [
              "[1.5263508180016376, 0.23189014461113738, 0.26094524580391854]"
            ]
          },
          "metadata": {},
          "execution_count": 421
        }
      ]
    },
    {
      "cell_type": "code",
      "source": [
        "# Plot history (also known as a loss curve or a training curve)\n",
        "\n",
        "pd.DataFrame(history.history['val_mae']).plot()\n",
        "plt.title('validation mae')\n",
        "plt.ylabel(\"val_mae\")\n",
        "plt.xlabel(\"epochs\")\n"
      ],
      "metadata": {
        "colab": {
          "base_uri": "https://localhost:8080/",
          "height": 312
        },
        "id": "0ibIBssincW4",
        "outputId": "a78e1e9d-8c56-40b3-a2bb-83142b8e4795"
      },
      "execution_count": null,
      "outputs": [
        {
          "output_type": "execute_result",
          "data": {
            "text/plain": [
              "Text(0.5, 0, 'epochs')"
            ]
          },
          "metadata": {},
          "execution_count": 422
        },
        {
          "output_type": "display_data",
          "data": {
            "text/plain": [
              "<Figure size 432x288 with 1 Axes>"
            ],
            "image/png": "[encoded data removed]"
          },
          "metadata": {
            "needs_background": "light"
          }
        }
      ]
    },
    {
      "cell_type": "code",
      "source": [
        "pd.DataFrame(history.history['mae']).plot()\n",
        "plt.title(' mae')\n",
        "plt.ylabel(\"mae\")\n",
        "plt.xlabel(\"epochs\")\n"
      ],
      "metadata": {
        "colab": {
          "base_uri": "https://localhost:8080/",
          "height": 312
        },
        "id": "zhvp2BPInm42",
        "outputId": "fba3e801-2e96-49a8-be27-68e4cb4d69e0"
      },
      "execution_count": null,
      "outputs": [
        {
          "output_type": "execute_result",
          "data": {
            "text/plain": [
              "Text(0.5, 0, 'epochs')"
            ]
          },
          "metadata": {},
          "execution_count": 423
        },
        {
          "output_type": "display_data",
          "data": {
            "text/plain": [
              "<Figure size 432x288 with 1 Axes>"
            ],
            "image/png": "[encoded data removed]"
          },
          "metadata": {
            "needs_background": "light"
          }
        }
      ]
    },
    {
      "cell_type": "markdown",
      "source": [
        "**E.Experiment with at least 2 more Optimizers**"
      ],
      "metadata": {
        "id": "dxU22qY0oOJE"
      }
    },
    {
      "cell_type": "code",
      "source": [
        "## using RMSprop as optimizer\n",
        "\n",
        "# 1. Create a model\n",
        "taxi_fare_model_5_a = tf.keras.Sequential([\n",
        "                                       tf.keras.layers.Dense(32, activation='sigmoid', input_dim=X_train.shape[1]),\n",
        "                                       tf.keras.layers.BatchNormalization(),\n",
        "                                       tf.keras.layers.Dense(24, activation='sigmoid'),\n",
        "                                       tf.keras.layers.BatchNormalization(),\n",
        "                                       tf.keras.layers.Dense(16, activation='sigmoid'),\n",
        "                                       tf.keras.layers.BatchNormalization(),\n",
        "                                       tf.keras.layers.Dense(8, activation='sigmoid'),\n",
        "                                       tf.keras.layers.BatchNormalization(),\n",
        "                                       tf.keras.layers.Dense(1)                             ## final output layer with only 1 neuron\n",
        "                                    ])\n",
        "\n",
        "# 2. Compile the model\n",
        "taxi_fare_model_5_a.compile(loss = tf.keras.losses.mae,\n",
        "                        optimizer = tf.keras.optimizers.RMSprop(learning_rate=0.0095),\n",
        "                        metrics = [\"mape\",\"mae\",\"mse\"]\n",
        "                        )\n",
        "\n",
        "# 3. Fitting the model\n",
        "history = taxi_fare_model_5_a.fit(X_train, y_train, epochs = 50,batch_size=128)"
      ],
      "metadata": {
        "colab": {
          "base_uri": "https://localhost:8080/"
        },
        "id": "msRD9m64nuTO",
        "outputId": "97a752d9-b240-4829-c6ae-b5db8be0f19b"
      },
      "execution_count": null,
      "outputs": [
        {
          "output_type": "stream",
          "name": "stdout",
          "text": [
            "Epoch 1/50\n",
            "603/603 [==============================] - 4s 3ms/step - loss: 0.2719 - mape: 187.4976 - mae: 0.2719 - mse: 0.2920\n",
            "Epoch 2/50\n",
            "603/603 [==============================] - 2s 3ms/step - loss: 0.2324 - mape: 162.8415 - mae: 0.2324 - mse: 0.2436\n",
            "Epoch 3/50\n",
            "603/603 [==============================] - 2s 3ms/step - loss: 0.2224 - mape: 159.4463 - mae: 0.2224 - mse: 0.2342\n",
            "Epoch 4/50\n",
            "603/603 [==============================] - 2s 3ms/step - loss: 0.2190 - mape: 155.1737 - mae: 0.2190 - mse: 0.2312\n",
            "Epoch 5/50\n",
            "603/603 [==============================] - 2s 3ms/step - loss: 0.2166 - mape: 153.7018 - mae: 0.2166 - mse: 0.2277\n",
            "Epoch 6/50\n",
            "603/603 [==============================] - 2s 3ms/step - loss: 0.2134 - mape: 151.4236 - mae: 0.2134 - mse: 0.2256\n",
            "Epoch 7/50\n",
            "603/603 [==============================] - 2s 3ms/step - loss: 0.2109 - mape: 151.2201 - mae: 0.2109 - mse: 0.2227\n",
            "Epoch 8/50\n",
            "603/603 [==============================] - 2s 3ms/step - loss: 0.2095 - mape: 148.9659 - mae: 0.2095 - mse: 0.2209\n",
            "Epoch 9/50\n",
            "603/603 [==============================] - 2s 3ms/step - loss: 0.2066 - mape: 150.0434 - mae: 0.2066 - mse: 0.2186\n",
            "Epoch 10/50\n",
            "603/603 [==============================] - 2s 3ms/step - loss: 0.2057 - mape: 151.0199 - mae: 0.2057 - mse: 0.2169\n",
            "Epoch 11/50\n",
            "603/603 [==============================] - 2s 3ms/step - loss: 0.2055 - mape: 145.0124 - mae: 0.2055 - mse: 0.2173\n",
            "Epoch 12/50\n",
            "603/603 [==============================] - 2s 3ms/step - loss: 0.2051 - mape: 149.0061 - mae: 0.2051 - mse: 0.2159\n",
            "Epoch 13/50\n",
            "603/603 [==============================] - 2s 3ms/step - loss: 0.2033 - mape: 146.5366 - mae: 0.2033 - mse: 0.2164\n",
            "Epoch 14/50\n",
            "603/603 [==============================] - 2s 3ms/step - loss: 0.2033 - mape: 146.7111 - mae: 0.2033 - mse: 0.2145\n",
            "Epoch 15/50\n",
            "603/603 [==============================] - 2s 3ms/step - loss: 0.2038 - mape: 145.6976 - mae: 0.2038 - mse: 0.2137\n",
            "Epoch 16/50\n",
            "603/603 [==============================] - 2s 3ms/step - loss: 0.2016 - mape: 145.9548 - mae: 0.2016 - mse: 0.2118\n",
            "Epoch 17/50\n",
            "603/603 [==============================] - 2s 3ms/step - loss: 0.2018 - mape: 142.6766 - mae: 0.2018 - mse: 0.2132\n",
            "Epoch 18/50\n",
            "603/603 [==============================] - 2s 3ms/step - loss: 0.2003 - mape: 142.3630 - mae: 0.2003 - mse: 0.2103\n",
            "Epoch 19/50\n",
            "603/603 [==============================] - 2s 3ms/step - loss: 0.2023 - mape: 145.6749 - mae: 0.2023 - mse: 0.2142\n",
            "Epoch 20/50\n",
            "603/603 [==============================] - 2s 3ms/step - loss: 0.2017 - mape: 145.4163 - mae: 0.2017 - mse: 0.2114\n",
            "Epoch 21/50\n",
            "603/603 [==============================] - 2s 3ms/step - loss: 0.1989 - mape: 144.7880 - mae: 0.1989 - mse: 0.2058\n",
            "Epoch 22/50\n",
            "603/603 [==============================] - 2s 3ms/step - loss: 0.1994 - mape: 141.4791 - mae: 0.1994 - mse: 0.2074\n",
            "Epoch 23/50\n",
            "603/603 [==============================] - 2s 3ms/step - loss: 0.2002 - mape: 143.1657 - mae: 0.2002 - mse: 0.2079\n",
            "Epoch 24/50\n",
            "603/603 [==============================] - 2s 3ms/step - loss: 0.1982 - mape: 141.8189 - mae: 0.1982 - mse: 0.2048\n",
            "Epoch 25/50\n",
            "603/603 [==============================] - 2s 3ms/step - loss: 0.1987 - mape: 143.9159 - mae: 0.1987 - mse: 0.2093\n",
            "Epoch 26/50\n",
            "603/603 [==============================] - 2s 3ms/step - loss: 0.1976 - mape: 142.7092 - mae: 0.1976 - mse: 0.2050\n",
            "Epoch 27/50\n",
            "603/603 [==============================] - 2s 3ms/step - loss: 0.1996 - mape: 143.8732 - mae: 0.1996 - mse: 0.2067\n",
            "Epoch 28/50\n",
            "603/603 [==============================] - 2s 3ms/step - loss: 0.1993 - mape: 142.1986 - mae: 0.1993 - mse: 0.2085\n",
            "Epoch 29/50\n",
            "603/603 [==============================] - 2s 4ms/step - loss: 0.1981 - mape: 143.7496 - mae: 0.1981 - mse: 0.2087\n",
            "Epoch 30/50\n",
            "603/603 [==============================] - 2s 4ms/step - loss: 0.1985 - mape: 143.1604 - mae: 0.1985 - mse: 0.2062\n",
            "Epoch 31/50\n",
            "603/603 [==============================] - 2s 3ms/step - loss: 0.1975 - mape: 143.2001 - mae: 0.1975 - mse: 0.2049\n",
            "Epoch 32/50\n",
            "603/603 [==============================] - 2s 3ms/step - loss: 0.1989 - mape: 146.2111 - mae: 0.1989 - mse: 0.2049\n",
            "Epoch 33/50\n",
            "603/603 [==============================] - 2s 3ms/step - loss: 0.1956 - mape: 142.0368 - mae: 0.1956 - mse: 0.2053\n",
            "Epoch 34/50\n",
            "603/603 [==============================] - 2s 3ms/step - loss: 0.1959 - mape: 140.4217 - mae: 0.1959 - mse: 0.2032\n",
            "Epoch 35/50\n",
            "603/603 [==============================] - 2s 3ms/step - loss: 0.1986 - mape: 140.5746 - mae: 0.1986 - mse: 0.2084\n",
            "Epoch 36/50\n",
            "603/603 [==============================] - 2s 3ms/step - loss: 0.1955 - mape: 143.3029 - mae: 0.1955 - mse: 0.2001\n",
            "Epoch 37/50\n",
            "603/603 [==============================] - 2s 3ms/step - loss: 0.1973 - mape: 141.3836 - mae: 0.1973 - mse: 0.2026\n",
            "Epoch 38/50\n",
            "603/603 [==============================] - 2s 3ms/step - loss: 0.1968 - mape: 141.6893 - mae: 0.1968 - mse: 0.2035\n",
            "Epoch 39/50\n",
            "603/603 [==============================] - 2s 3ms/step - loss: 0.1964 - mape: 141.5605 - mae: 0.1964 - mse: 0.2046\n",
            "Epoch 40/50\n",
            "603/603 [==============================] - 2s 3ms/step - loss: 0.1984 - mape: 144.2874 - mae: 0.1984 - mse: 0.2034\n",
            "Epoch 41/50\n",
            "603/603 [==============================] - 2s 3ms/step - loss: 0.1975 - mape: 142.5676 - mae: 0.1975 - mse: 0.2035\n",
            "Epoch 42/50\n",
            "603/603 [==============================] - 2s 3ms/step - loss: 0.1960 - mape: 145.2731 - mae: 0.1960 - mse: 0.2012\n",
            "Epoch 43/50\n",
            "603/603 [==============================] - 2s 3ms/step - loss: 0.1954 - mape: 144.3099 - mae: 0.1954 - mse: 0.1967\n",
            "Epoch 44/50\n",
            "603/603 [==============================] - 2s 3ms/step - loss: 0.1967 - mape: 142.9989 - mae: 0.1967 - mse: 0.2015\n",
            "Epoch 45/50\n",
            "603/603 [==============================] - 2s 3ms/step - loss: 0.1971 - mape: 143.9481 - mae: 0.1971 - mse: 0.2035\n",
            "Epoch 46/50\n",
            "603/603 [==============================] - 2s 3ms/step - loss: 0.1962 - mape: 142.9205 - mae: 0.1962 - mse: 0.2024\n",
            "Epoch 47/50\n",
            "603/603 [==============================] - 2s 3ms/step - loss: 0.1964 - mape: 141.9883 - mae: 0.1964 - mse: 0.2021\n",
            "Epoch 48/50\n",
            "603/603 [==============================] - 2s 3ms/step - loss: 0.1951 - mape: 139.4818 - mae: 0.1951 - mse: 0.2041\n",
            "Epoch 49/50\n",
            "603/603 [==============================] - 2s 3ms/step - loss: 0.1963 - mape: 143.5489 - mae: 0.1963 - mse: 0.2027\n",
            "Epoch 50/50\n",
            "603/603 [==============================] - 2s 3ms/step - loss: 0.1954 - mape: 143.5985 - mae: 0.1954 - mse: 0.2008\n"
          ]
        }
      ]
    },
    {
      "cell_type": "code",
      "source": [
        "taxi_fare_model_5_a.evaluate(X_test,y_test)"
      ],
      "metadata": {
        "colab": {
          "base_uri": "https://localhost:8080/"
        },
        "id": "jreX5nqDrDXX",
        "outputId": "92031135-3094-455f-cfee-8fc1acd005e1"
      },
      "execution_count": null,
      "outputs": [
        {
          "output_type": "stream",
          "name": "stdout",
          "text": [
            "603/603 [==============================] - 1s 2ms/step - loss: 0.1720 - mape: 122.1423 - mae: 0.1720 - mse: 0.1795\n"
          ]
        },
        {
          "output_type": "execute_result",
          "data": {
            "text/plain": [
              "[0.17201372981071472,\n",
              " 122.14225769042969,\n",
              " 0.17201372981071472,\n",
              " 0.17948469519615173]"
            ]
          },
          "metadata": {},
          "execution_count": 425
        }
      ]
    },
    {
      "cell_type": "code",
      "source": [
        "pred = taxi_fare_model_5_a.predict(X_test)\n",
        "print(\"MAPE : \",mean_absolute_percentage_error(y_test,pred))\n",
        "print(\"MAE : \",mean_absolute_error(y_test,pred))\n",
        "print(\"MSE : \",mean_squared_error(y_test,pred))"
      ],
      "metadata": {
        "colab": {
          "base_uri": "https://localhost:8080/"
        },
        "id": "TLuqPrxz5B6T",
        "outputId": "2397107d-1fc1-4e15-d237-e1ec3c02abfb"
      },
      "execution_count": null,
      "outputs": [
        {
          "output_type": "stream",
          "name": "stdout",
          "text": [
            "MAPE :  1.2214224852890962\n",
            "MAE :  0.17201378109594023\n",
            "MSE :  0.1794847752865922\n"
          ]
        }
      ]
    },
    {
      "cell_type": "code",
      "source": [
        "m5_a=[mean_absolute_percentage_error(y_test,pred),mean_absolute_error(y_test,pred),mean_squared_error(y_test,pred)]\n",
        "m5_a"
      ],
      "metadata": {
        "colab": {
          "base_uri": "https://localhost:8080/"
        },
        "id": "TgNqyZs05E_0",
        "outputId": "f4c36be3-cd9b-4b3c-fd91-24e76dd9f3c9"
      },
      "execution_count": null,
      "outputs": [
        {
          "output_type": "execute_result",
          "data": {
            "text/plain": [
              "[1.2214224852890962, 0.17201378109594023, 0.1794847752865922]"
            ]
          },
          "metadata": {},
          "execution_count": 427
        }
      ]
    },
    {
      "cell_type": "code",
      "source": [
        "# Plot history (also known as a loss curve or a training curve)\n",
        "\n",
        "pd.DataFrame(history.history['mae']).plot()\n",
        "plt.ylabel(\"mae\")\n",
        "plt.xlabel(\"epochs\")"
      ],
      "metadata": {
        "colab": {
          "base_uri": "https://localhost:8080/",
          "height": 296
        },
        "id": "Pilyp92PrKIW",
        "outputId": "37ab00ed-ca71-4d62-a62a-47367f124fdf"
      },
      "execution_count": null,
      "outputs": [
        {
          "output_type": "execute_result",
          "data": {
            "text/plain": [
              "Text(0.5, 0, 'epochs')"
            ]
          },
          "metadata": {},
          "execution_count": 428
        },
        {
          "output_type": "display_data",
          "data": {
            "text/plain": [
              "<Figure size 432x288 with 1 Axes>"
            ],
            "image/png": "[encoded data removed]"
          },
          "metadata": {
            "needs_background": "light"
          }
        }
      ]
    },
    {
      "cell_type": "code",
      "source": [
        "## using Adamax as optimizer\n",
        "\n",
        "# 1. Create a model\n",
        "taxi_fare_model_5_b = tf.keras.Sequential([\n",
        "                                       tf.keras.layers.Dense(32, activation='sigmoid', input_dim=X_train.shape[1]),\n",
        "                                       tf.keras.layers.BatchNormalization(),\n",
        "                                       tf.keras.layers.Dense(24, activation='sigmoid'),\n",
        "                                       tf.keras.layers.BatchNormalization(),\n",
        "                                       tf.keras.layers.Dense(16, activation='sigmoid'),\n",
        "                                       tf.keras.layers.BatchNormalization(),\n",
        "                                       tf.keras.layers.Dense(8, activation='sigmoid'),\n",
        "                                       tf.keras.layers.BatchNormalization(),\n",
        "                                       tf.keras.layers.Dense(1)                             ## final output layer with only 1 neuron\n",
        "                                    ])\n",
        "\n",
        "# 2. Compile the model\n",
        "taxi_fare_model_5_b.compile(loss = tf.keras.losses.mae,\n",
        "                        optimizer = tf.keras.optimizers.Adamax(learning_rate=0.0095),\n",
        "                        metrics = ['mape','mae','mse']\n",
        "                        )\n",
        "\n",
        "# 3. Fitting the model\n",
        "history = taxi_fare_model_5_b.fit(X_train, y_train, epochs = 50,batch_size=128)"
      ],
      "metadata": {
        "colab": {
          "base_uri": "https://localhost:8080/"
        },
        "id": "VvTwj2hyo5oj",
        "outputId": "78a7b273-84c5-4bd6-ba8f-f19fa1e3ddc8"
      },
      "execution_count": null,
      "outputs": [
        {
          "output_type": "stream",
          "name": "stdout",
          "text": [
            "Epoch 1/50\n",
            "603/603 [==============================] - 3s 3ms/step - loss: 0.2583 - mape: 183.1566 - mae: 0.2583 - mse: 0.2805\n",
            "Epoch 2/50\n",
            "603/603 [==============================] - 2s 3ms/step - loss: 0.2285 - mape: 164.7392 - mae: 0.2285 - mse: 0.2358\n",
            "Epoch 3/50\n",
            "603/603 [==============================] - 2s 3ms/step - loss: 0.2178 - mape: 161.0428 - mae: 0.2178 - mse: 0.2250\n",
            "Epoch 4/50\n",
            "603/603 [==============================] - 2s 3ms/step - loss: 0.2153 - mape: 156.4541 - mae: 0.2153 - mse: 0.2220\n",
            "Epoch 5/50\n",
            "603/603 [==============================] - 2s 3ms/step - loss: 0.2114 - mape: 154.5701 - mae: 0.2114 - mse: 0.2188\n",
            "Epoch 6/50\n",
            "603/603 [==============================] - 2s 3ms/step - loss: 0.2099 - mape: 153.1033 - mae: 0.2099 - mse: 0.2154\n",
            "Epoch 7/50\n",
            "603/603 [==============================] - 2s 3ms/step - loss: 0.2077 - mape: 153.2507 - mae: 0.2077 - mse: 0.2135\n",
            "Epoch 8/50\n",
            "603/603 [==============================] - 2s 3ms/step - loss: 0.2058 - mape: 150.5656 - mae: 0.2058 - mse: 0.2103\n",
            "Epoch 9/50\n",
            "603/603 [==============================] - 2s 3ms/step - loss: 0.2038 - mape: 152.2195 - mae: 0.2038 - mse: 0.2079\n",
            "Epoch 10/50\n",
            "603/603 [==============================] - 2s 3ms/step - loss: 0.2026 - mape: 151.0257 - mae: 0.2026 - mse: 0.2091\n",
            "Epoch 11/50\n",
            "603/603 [==============================] - 2s 3ms/step - loss: 0.2024 - mape: 148.0968 - mae: 0.2024 - mse: 0.2074\n",
            "Epoch 12/50\n",
            "603/603 [==============================] - 2s 3ms/step - loss: 0.2023 - mape: 150.1120 - mae: 0.2023 - mse: 0.2077\n",
            "Epoch 13/50\n",
            "603/603 [==============================] - 2s 3ms/step - loss: 0.2006 - mape: 147.4595 - mae: 0.2006 - mse: 0.2072\n",
            "Epoch 14/50\n",
            "603/603 [==============================] - 2s 3ms/step - loss: 0.2002 - mape: 146.5231 - mae: 0.2002 - mse: 0.2055\n",
            "Epoch 15/50\n",
            "603/603 [==============================] - 2s 3ms/step - loss: 0.2000 - mape: 150.1179 - mae: 0.2000 - mse: 0.2035\n",
            "Epoch 16/50\n",
            "603/603 [==============================] - 2s 3ms/step - loss: 0.1975 - mape: 146.5261 - mae: 0.1975 - mse: 0.2033\n",
            "Epoch 17/50\n",
            "603/603 [==============================] - 2s 3ms/step - loss: 0.1965 - mape: 144.5695 - mae: 0.1965 - mse: 0.2006\n",
            "Epoch 18/50\n",
            "603/603 [==============================] - 2s 3ms/step - loss: 0.1960 - mape: 144.1320 - mae: 0.1960 - mse: 0.2013\n",
            "Epoch 19/50\n",
            "603/603 [==============================] - 2s 3ms/step - loss: 0.1965 - mape: 146.0974 - mae: 0.1965 - mse: 0.2025\n",
            "Epoch 20/50\n",
            "603/603 [==============================] - 2s 3ms/step - loss: 0.1961 - mape: 144.0724 - mae: 0.1961 - mse: 0.2007\n",
            "Epoch 21/50\n",
            "603/603 [==============================] - 2s 3ms/step - loss: 0.1935 - mape: 145.7119 - mae: 0.1935 - mse: 0.1978\n",
            "Epoch 22/50\n",
            "603/603 [==============================] - 2s 3ms/step - loss: 0.1932 - mape: 142.9332 - mae: 0.1932 - mse: 0.1975\n",
            "Epoch 23/50\n",
            "603/603 [==============================] - 2s 3ms/step - loss: 0.1939 - mape: 143.4813 - mae: 0.1939 - mse: 0.1996\n",
            "Epoch 24/50\n",
            "603/603 [==============================] - 2s 3ms/step - loss: 0.1930 - mape: 141.8250 - mae: 0.1930 - mse: 0.1974\n",
            "Epoch 25/50\n",
            "603/603 [==============================] - 2s 3ms/step - loss: 0.1927 - mape: 141.6418 - mae: 0.1927 - mse: 0.1971\n",
            "Epoch 26/50\n",
            "603/603 [==============================] - 2s 3ms/step - loss: 0.1920 - mape: 143.6073 - mae: 0.1920 - mse: 0.1947\n",
            "Epoch 27/50\n",
            "603/603 [==============================] - 2s 3ms/step - loss: 0.1936 - mape: 142.4568 - mae: 0.1936 - mse: 0.1972\n",
            "Epoch 28/50\n",
            "603/603 [==============================] - 2s 3ms/step - loss: 0.1921 - mape: 142.9977 - mae: 0.1921 - mse: 0.1979\n",
            "Epoch 29/50\n",
            "603/603 [==============================] - 2s 3ms/step - loss: 0.1913 - mape: 143.6527 - mae: 0.1913 - mse: 0.1953\n",
            "Epoch 30/50\n",
            "603/603 [==============================] - 2s 3ms/step - loss: 0.1912 - mape: 142.6822 - mae: 0.1912 - mse: 0.1961\n",
            "Epoch 31/50\n",
            "603/603 [==============================] - 2s 3ms/step - loss: 0.1906 - mape: 140.9920 - mae: 0.1906 - mse: 0.1933\n",
            "Epoch 32/50\n",
            "603/603 [==============================] - 2s 3ms/step - loss: 0.1914 - mape: 145.4168 - mae: 0.1914 - mse: 0.1943\n",
            "Epoch 33/50\n",
            "603/603 [==============================] - 2s 3ms/step - loss: 0.1889 - mape: 140.6846 - mae: 0.1889 - mse: 0.1928\n",
            "Epoch 34/50\n",
            "603/603 [==============================] - 2s 3ms/step - loss: 0.1889 - mape: 140.0876 - mae: 0.1889 - mse: 0.1912\n",
            "Epoch 35/50\n",
            "603/603 [==============================] - 2s 3ms/step - loss: 0.1908 - mape: 141.1880 - mae: 0.1908 - mse: 0.1931\n",
            "Epoch 36/50\n",
            "603/603 [==============================] - 2s 3ms/step - loss: 0.1884 - mape: 140.8400 - mae: 0.1884 - mse: 0.1907\n",
            "Epoch 37/50\n",
            "603/603 [==============================] - 2s 3ms/step - loss: 0.1899 - mape: 139.9088 - mae: 0.1899 - mse: 0.1911\n",
            "Epoch 38/50\n",
            "603/603 [==============================] - 2s 3ms/step - loss: 0.1890 - mape: 141.4155 - mae: 0.1890 - mse: 0.1889\n",
            "Epoch 39/50\n",
            "603/603 [==============================] - 2s 3ms/step - loss: 0.1886 - mape: 140.7760 - mae: 0.1886 - mse: 0.1901\n",
            "Epoch 40/50\n",
            "603/603 [==============================] - 2s 3ms/step - loss: 0.1896 - mape: 141.6703 - mae: 0.1896 - mse: 0.1892\n",
            "Epoch 41/50\n",
            "603/603 [==============================] - 2s 3ms/step - loss: 0.1899 - mape: 139.7684 - mae: 0.1899 - mse: 0.1903\n",
            "Epoch 42/50\n",
            "603/603 [==============================] - 2s 3ms/step - loss: 0.1882 - mape: 141.0863 - mae: 0.1882 - mse: 0.1887\n",
            "Epoch 43/50\n",
            "603/603 [==============================] - 2s 3ms/step - loss: 0.1883 - mape: 140.2092 - mae: 0.1883 - mse: 0.1875\n",
            "Epoch 44/50\n",
            "603/603 [==============================] - 2s 3ms/step - loss: 0.1889 - mape: 140.7784 - mae: 0.1889 - mse: 0.1878\n",
            "Epoch 45/50\n",
            "603/603 [==============================] - 2s 3ms/step - loss: 0.1892 - mape: 143.4338 - mae: 0.1892 - mse: 0.1890\n",
            "Epoch 46/50\n",
            "603/603 [==============================] - 2s 3ms/step - loss: 0.1877 - mape: 140.4426 - mae: 0.1877 - mse: 0.1871\n",
            "Epoch 47/50\n",
            "603/603 [==============================] - 2s 3ms/step - loss: 0.1883 - mape: 140.0285 - mae: 0.1883 - mse: 0.1876\n",
            "Epoch 48/50\n",
            "603/603 [==============================] - 2s 3ms/step - loss: 0.1868 - mape: 137.3089 - mae: 0.1868 - mse: 0.1876\n",
            "Epoch 49/50\n",
            "603/603 [==============================] - 2s 3ms/step - loss: 0.1880 - mape: 139.4915 - mae: 0.1880 - mse: 0.1892\n",
            "Epoch 50/50\n",
            "603/603 [==============================] - 2s 3ms/step - loss: 0.1866 - mape: 140.1642 - mae: 0.1866 - mse: 0.1861\n"
          ]
        }
      ]
    },
    {
      "cell_type": "code",
      "source": [
        "taxi_fare_model_5_b.evaluate(X_test,y_test)"
      ],
      "metadata": {
        "colab": {
          "base_uri": "https://localhost:8080/"
        },
        "id": "UaRj_s2jwCws",
        "outputId": "9af5e374-cdb6-4152-e8aa-6375d8ac5754"
      },
      "execution_count": null,
      "outputs": [
        {
          "output_type": "stream",
          "name": "stdout",
          "text": [
            "603/603 [==============================] - 1s 2ms/step - loss: 0.1673 - mape: 115.8686 - mae: 0.1673 - mse: 0.1794\n"
          ]
        },
        {
          "output_type": "execute_result",
          "data": {
            "text/plain": [
              "[0.1672915667295456,\n",
              " 115.86857604980469,\n",
              " 0.1672915667295456,\n",
              " 0.17943942546844482]"
            ]
          },
          "metadata": {},
          "execution_count": 430
        }
      ]
    },
    {
      "cell_type": "code",
      "source": [
        "pred = taxi_fare_model_5_b.predict(X_test)\n",
        "print(\"MAPE : \",mean_absolute_percentage_error(y_test,pred))\n",
        "print(\"MAE : \",mean_absolute_error(y_test,pred))\n",
        "print(\"MSE : \",mean_squared_error(y_test,pred))"
      ],
      "metadata": {
        "colab": {
          "base_uri": "https://localhost:8080/"
        },
        "id": "DFcF4ACl5qyE",
        "outputId": "2b2a2098-ba59-4d95-89f7-6f104c4542a1"
      },
      "execution_count": null,
      "outputs": [
        {
          "output_type": "stream",
          "name": "stdout",
          "text": [
            "MAPE :  1.1586851684226138\n",
            "MAE :  0.16729142950955633\n",
            "MSE :  0.1794394680011823\n"
          ]
        }
      ]
    },
    {
      "cell_type": "code",
      "source": [
        "m5_b=[mean_absolute_percentage_error(y_test,pred),mean_absolute_error(y_test,pred),mean_squared_error(y_test,pred)]\n",
        "m5_b"
      ],
      "metadata": {
        "colab": {
          "base_uri": "https://localhost:8080/"
        },
        "id": "47vEKv3n5uyv",
        "outputId": "de3140ea-3d55-46ea-ec0f-9f3aa818cac4"
      },
      "execution_count": null,
      "outputs": [
        {
          "output_type": "execute_result",
          "data": {
            "text/plain": [
              "[1.1586851684226138, 0.16729142950955633, 0.1794394680011823]"
            ]
          },
          "metadata": {},
          "execution_count": 432
        }
      ]
    },
    {
      "cell_type": "code",
      "source": [
        "# Plot history (also known as a loss curve or a training curve)\n",
        "\n",
        "pd.DataFrame(history.history['mae']).plot()\n",
        "plt.ylabel(\"mae\")\n",
        "plt.xlabel(\"epochs\")"
      ],
      "metadata": {
        "colab": {
          "base_uri": "https://localhost:8080/",
          "height": 296
        },
        "id": "LaoWXmdFrxkd",
        "outputId": "8f4aa3f5-8c49-4f40-b52b-f720d3d17e46"
      },
      "execution_count": null,
      "outputs": [
        {
          "output_type": "execute_result",
          "data": {
            "text/plain": [
              "Text(0.5, 0, 'epochs')"
            ]
          },
          "metadata": {},
          "execution_count": 433
        },
        {
          "output_type": "display_data",
          "data": {
            "text/plain": [
              "<Figure size 432x288 with 1 Axes>"
            ],
            "image/png": "[encoded data removed]"
          },
          "metadata": {
            "needs_background": "light"
          }
        }
      ]
    },
    {
      "cell_type": "markdown",
      "source": [
        "Performance metrices(MAPE, MAE, MSE) from each of the models:"
      ],
      "metadata": {
        "id": "Eg_v6e2G7AeC"
      }
    },
    {
      "cell_type": "code",
      "execution_count": null,
      "metadata": {
        "id": "f8b6fcaf"
      },
      "outputs": [],
      "source": [
        "Performance_metrics=pd.DataFrame(\n",
        "                                 {\"Basic Neural Network\": m1,\n",
        "                                  \"Decreasing layers & neurons\":m2a,\n",
        "                                  \"Increasing layers & neurons\":m2b,\n",
        "                                  \"ReLU activation\":m3_relu,\n",
        "                                  \"tanh activation\":m3_tanh,\n",
        "                                  \"Dropout \":m4_a,\n",
        "                                  \"Early Stopping \":m4_b,\n",
        "                                  \"Dropout + Early stopping\":m4_c,\n",
        "                                  \"RmsProp optimizer\":m5_a,\n",
        "                                  \"Adamax\":m5_b},\n",
        "                                 index=[\"MAPE\",'MAE','MSE'])"
      ]
    },
    {
      "cell_type": "code",
      "source": [
        "Performance_metrics"
      ],
      "metadata": {
        "colab": {
          "base_uri": "https://localhost:8080/",
          "height": 205
        },
        "id": "At6znIWlr3pa",
        "outputId": "93bd0062-442b-4916-a21a-7b2c2887de6e"
      },
      "execution_count": null,
      "outputs": [
        {
          "output_type": "execute_result",
          "data": {
            "text/plain": [
              "      Basic Neural Network  Decreasing layers & neurons  \\\n",
              "MAPE              1.446029                     1.480332   \n",
              "MAE               0.193785                     0.199322   \n",
              "MSE               0.212331                     0.215161   \n",
              "\n",
              "      Increasing layers & neurons  ReLU activation  tanh activation  Dropout   \\\n",
              "MAPE                     1.317388         1.338847         1.373322  1.851162   \n",
              "MAE                      0.187506         0.186323         0.189238  0.248380   \n",
              "MSE                      0.203925         0.209433         0.203026  0.290939   \n",
              "\n",
              "      Early Stopping   Dropout + Early stopping  RmsProp optimizer    Adamax  \n",
              "MAPE         1.459919                  1.526351           1.221422  1.158685  \n",
              "MAE          0.208156                  0.231890           0.172014  0.167291  \n",
              "MSE          0.217358                  0.260945           0.179485  0.179439  "
            ],
            "text/html": [
              "\n",
              "  <div id=\"df-2706e7f5-b661-4c59-b713-91a5b6579cfe\">\n",
              "    <div class=\"colab-df-container\">\n",
              "      <div>\n",
              "<style scoped>\n",
              "    .dataframe tbody tr th:only-of-type {\n",
              "        vertical-align: middle;\n",
              "    }\n",
              "\n",
              "    .dataframe tbody tr th {\n",
              "        vertical-align: top;\n",
              "    }\n",
              "\n",
              "    .dataframe thead th {\n",
              "        text-align: right;\n",
              "    }\n",
              "</style>\n",
              "<table border=\"1\" class=\"dataframe\">\n",
              "  <thead>\n",
              "    <tr style=\"text-align: right;\">\n",
              "      <th></th>\n",
              "      <th>Basic Neural Network</th>\n",
              "      <th>Decreasing layers &amp; neurons</th>\n",
              "      <th>Increasing layers &amp; neurons</th>\n",
              "      <th>ReLU activation</th>\n",
              "      <th>tanh activation</th>\n",
              "      <th>Dropout</th>\n",
              "      <th>Early Stopping</th>\n",
              "      <th>Dropout + Early stopping</th>\n",
              "      <th>RmsProp optimizer</th>\n",
              "      <th>Adamax</th>\n",
              "    </tr>\n",
              "  </thead>\n",
              "  <tbody>\n",
              "    <tr>\n",
              "      <th>MAPE</th>\n",
              "      <td>1.446029</td>\n",
              "      <td>1.480332</td>\n",
              "      <td>1.317388</td>\n",
              "      <td>1.338847</td>\n",
              "      <td>1.373322</td>\n",
              "      <td>1.851162</td>\n",
              "      <td>1.459919</td>\n",
              "      <td>1.526351</td>\n",
              "      <td>1.221422</td>\n",
              "      <td>1.158685</td>\n",
              "    </tr>\n",
              "    <tr>\n",
              "      <th>MAE</th>\n",
              "      <td>0.193785</td>\n",
              "      <td>0.199322</td>\n",
              "      <td>0.187506</td>\n",
              "      <td>0.186323</td>\n",
              "      <td>0.189238</td>\n",
              "      <td>0.248380</td>\n",
              "      <td>0.208156</td>\n",
              "      <td>0.231890</td>\n",
              "      <td>0.172014</td>\n",
              "      <td>0.167291</td>\n",
              "    </tr>\n",
              "    <tr>\n",
              "      <th>MSE</th>\n",
              "      <td>0.212331</td>\n",
              "      <td>0.215161</td>\n",
              "      <td>0.203925</td>\n",
              "      <td>0.209433</td>\n",
              "      <td>0.203026</td>\n",
              "      <td>0.290939</td>\n",
              "      <td>0.217358</td>\n",
              "      <td>0.260945</td>\n",
              "      <td>0.179485</td>\n",
              "      <td>0.179439</td>\n",
              "    </tr>\n",
              "  </tbody>\n",
              "</table>\n",
              "</div>\n",
              "      <button class=\"colab-df-convert\" onclick=\"convertToInteractive('df-2706e7f5-b661-4c59-b713-91a5b6579cfe')\"\n",
              "              title=\"Convert this dataframe to an interactive table.\"\n",
              "              style=\"display:none;\">\n",
              "        \n",
              "  <svg xmlns=\"http://www.w3.org/2000/svg\" height=\"24px\"viewBox=\"0 0 24 24\"\n",
              "       width=\"24px\">\n",
              "    <path d=\"M0 0h24v24H0V0z\" fill=\"none\"/>\n",
              "    <path d=\"M18.56 5.44l.94 2.06.94-2.06 2.06-.94-2.06-.94-.94-2.06-.94 2.06-2.06.94zm-11 1L8.5 8.5l.94-2.06 2.06-.94-2.06-.94L8.5 2.5l-.94 2.06-2.06.94zm10 10l.94 2.06.94-2.06 2.06-.94-2.06-.94-.94-2.06-.94 2.06-2.06.94z\"/><path d=\"M17.41 7.96l-1.37-1.37c-.4-.4-.92-.59-1.43-.59-.52 0-1.04.2-1.43.59L10.3 9.45l-7.72 7.72c-.78.78-.78 2.05 0 2.83L4 21.41c.39.39.9.59 1.41.59.51 0 1.02-.2 1.41-.59l7.78-7.78 2.81-2.81c.8-.78.8-2.07 0-2.86zM5.41 20L4 18.59l7.72-7.72 1.47 1.35L5.41 20z\"/>\n",
              "  </svg>\n",
              "      </button>\n",
              "      \n",
              "  <style>\n",
              "    .colab-df-container {\n",
              "      display:flex;\n",
              "      flex-wrap:wrap;\n",
              "      gap: 12px;\n",
              "    }\n",
              "\n",
              "    .colab-df-convert {\n",
              "      background-color: #E8F0FE;\n",
              "      border: none;\n",
              "      border-radius: 50%;\n",
              "      cursor: pointer;\n",
              "      display: none;\n",
              "      fill: #1967D2;\n",
              "      height: 32px;\n",
              "      padding: 0 0 0 0;\n",
              "      width: 32px;\n",
              "    }\n",
              "\n",
              "    .colab-df-convert:hover {\n",
              "      background-color: #E2EBFA;\n",
              "      box-shadow: 0px 1px 2px rgba(60, 64, 67, 0.3), 0px 1px 3px 1px rgba(60, 64, 67, 0.15);\n",
              "      fill: #174EA6;\n",
              "    }\n",
              "\n",
              "    [theme=dark] .colab-df-convert {\n",
              "      background-color: #3B4455;\n",
              "      fill: #D2E3FC;\n",
              "    }\n",
              "\n",
              "    [theme=dark] .colab-df-convert:hover {\n",
              "      background-color: #434B5C;\n",
              "      box-shadow: 0px 1px 3px 1px rgba(0, 0, 0, 0.15);\n",
              "      filter: drop-shadow(0px 1px 2px rgba(0, 0, 0, 0.3));\n",
              "      fill: #FFFFFF;\n",
              "    }\n",
              "  </style>\n",
              "\n",
              "      <script>\n",
              "        const buttonEl =\n",
              "          document.querySelector('#df-2706e7f5-b661-4c59-b713-91a5b6579cfe button.colab-df-convert');\n",
              "        buttonEl.style.display =\n",
              "          google.colab.kernel.accessAllowed ? 'block' : 'none';\n",
              "\n",
              "        async function convertToInteractive(key) {\n",
              "          const element = document.querySelector('#df-2706e7f5-b661-4c59-b713-91a5b6579cfe');\n",
              "          const dataTable =\n",
              "            await google.colab.kernel.invokeFunction('convertToInteractive',\n",
              "                                                     [key], {});\n",
              "          if (!dataTable) return;\n",
              "\n",
              "          const docLinkHtml = 'Like what you see? Visit the ' +\n",
              "            '<a target=\"_blank\" href=https://colab.research.google.com/notebooks/data_table.ipynb>data table notebook</a>'\n",
              "            + ' to learn more about interactive tables.';\n",
              "          element.innerHTML = '';\n",
              "          dataTable['output_type'] = 'display_data';\n",
              "          await google.colab.output.renderOutput(dataTable, element);\n",
              "          const docLink = document.createElement('div');\n",
              "          docLink.innerHTML = docLinkHtml;\n",
              "          element.appendChild(docLink);\n",
              "        }\n",
              "      </script>\n",
              "    </div>\n",
              "  </div>\n",
              "  "
            ]
          },
          "metadata": {},
          "execution_count": 435
        }
      ]
    },
    {
      "cell_type": "code",
      "source": [
        "import scipy.stats as st\n",
        "mape_arr=np.array(Performance_metrics.loc['MAPE'].tolist())\n",
        "mae_arr=np.array(Performance_metrics.loc['MAE'].tolist())\n",
        "mse_arr=np.array(Performance_metrics.loc['MSE'].tolist())\n",
        "\n",
        "# create 95% confidence interval\n",
        "def confidence(arr):\n",
        "  c=st.t.interval(alpha=0.95, df=len(arr)-1,loc=np.mean(arr),scale=st.sem(arr))\n",
        "  return c\n",
        "\n"
      ],
      "metadata": {
        "id": "iGPVcUv09H9M"
      },
      "execution_count": null,
      "outputs": []
    },
    {
      "cell_type": "code",
      "source": [
        "c_mape=confidence(mape_arr)\n",
        "c_mae=confidence(mae_arr)\n",
        "c_mse=confidence(mse_arr)"
      ],
      "metadata": {
        "id": "FjOjp4C_-s3Y"
      },
      "execution_count": null,
      "outputs": []
    },
    {
      "cell_type": "code",
      "source": [
        "confidence_table = pd.DataFrame({\"Minimum\":[c_mape[0],c_mae[0],c_mse[0]],\n",
        "                                 \"Maximum\":[c_mape[1],c_mae[1],c_mse[1]]},\n",
        "                                index=[\"MAPE\",'MAE','MSE'])"
      ],
      "metadata": {
        "id": "ZCRa5No_-0mP"
      },
      "execution_count": null,
      "outputs": []
    },
    {
      "cell_type": "code",
      "source": [
        "confidence_table"
      ],
      "metadata": {
        "colab": {
          "base_uri": "https://localhost:8080/",
          "height": 143
        },
        "id": "rlQ3-DdC--yE",
        "outputId": "60db9e59-dcbb-46fb-fdc9-3c9ed3ee0e78"
      },
      "execution_count": null,
      "outputs": [
        {
          "output_type": "execute_result",
          "data": {
            "text/plain": [
              "       Minimum   Maximum\n",
              "MAPE  1.280352  1.554339\n",
              "MAE   0.180310  0.216471\n",
              "MSE   0.192579  0.241829"
            ],
            "text/html": [
              "\n",
              "  <div id=\"df-491a3c38-253d-45bc-a7df-678dfc44ca17\">\n",
              "    <div class=\"colab-df-container\">\n",
              "      <div>\n",
              "<style scoped>\n",
              "    .dataframe tbody tr th:only-of-type {\n",
              "        vertical-align: middle;\n",
              "    }\n",
              "\n",
              "    .dataframe tbody tr th {\n",
              "        vertical-align: top;\n",
              "    }\n",
              "\n",
              "    .dataframe thead th {\n",
              "        text-align: right;\n",
              "    }\n",
              "</style>\n",
              "<table border=\"1\" class=\"dataframe\">\n",
              "  <thead>\n",
              "    <tr style=\"text-align: right;\">\n",
              "      <th></th>\n",
              "      <th>Minimum</th>\n",
              "      <th>Maximum</th>\n",
              "    </tr>\n",
              "  </thead>\n",
              "  <tbody>\n",
              "    <tr>\n",
              "      <th>MAPE</th>\n",
              "      <td>1.280352</td>\n",
              "      <td>1.554339</td>\n",
              "    </tr>\n",
              "    <tr>\n",
              "      <th>MAE</th>\n",
              "      <td>0.180310</td>\n",
              "      <td>0.216471</td>\n",
              "    </tr>\n",
              "    <tr>\n",
              "      <th>MSE</th>\n",
              "      <td>0.192579</td>\n",
              "      <td>0.241829</td>\n",
              "    </tr>\n",
              "  </tbody>\n",
              "</table>\n",
              "</div>\n",
              "      <button class=\"colab-df-convert\" onclick=\"convertToInteractive('df-491a3c38-253d-45bc-a7df-678dfc44ca17')\"\n",
              "              title=\"Convert this dataframe to an interactive table.\"\n",
              "              style=\"display:none;\">\n",
              "        \n",
              "  <svg xmlns=\"http://www.w3.org/2000/svg\" height=\"24px\"viewBox=\"0 0 24 24\"\n",
              "       width=\"24px\">\n",
              "    <path d=\"M0 0h24v24H0V0z\" fill=\"none\"/>\n",
              "    <path d=\"M18.56 5.44l.94 2.06.94-2.06 2.06-.94-2.06-.94-.94-2.06-.94 2.06-2.06.94zm-11 1L8.5 8.5l.94-2.06 2.06-.94-2.06-.94L8.5 2.5l-.94 2.06-2.06.94zm10 10l.94 2.06.94-2.06 2.06-.94-2.06-.94-.94-2.06-.94 2.06-2.06.94z\"/><path d=\"M17.41 7.96l-1.37-1.37c-.4-.4-.92-.59-1.43-.59-.52 0-1.04.2-1.43.59L10.3 9.45l-7.72 7.72c-.78.78-.78 2.05 0 2.83L4 21.41c.39.39.9.59 1.41.59.51 0 1.02-.2 1.41-.59l7.78-7.78 2.81-2.81c.8-.78.8-2.07 0-2.86zM5.41 20L4 18.59l7.72-7.72 1.47 1.35L5.41 20z\"/>\n",
              "  </svg>\n",
              "      </button>\n",
              "      \n",
              "  <style>\n",
              "    .colab-df-container {\n",
              "      display:flex;\n",
              "      flex-wrap:wrap;\n",
              "      gap: 12px;\n",
              "    }\n",
              "\n",
              "    .colab-df-convert {\n",
              "      background-color: #E8F0FE;\n",
              "      border: none;\n",
              "      border-radius: 50%;\n",
              "      cursor: pointer;\n",
              "      display: none;\n",
              "      fill: #1967D2;\n",
              "      height: 32px;\n",
              "      padding: 0 0 0 0;\n",
              "      width: 32px;\n",
              "    }\n",
              "\n",
              "    .colab-df-convert:hover {\n",
              "      background-color: #E2EBFA;\n",
              "      box-shadow: 0px 1px 2px rgba(60, 64, 67, 0.3), 0px 1px 3px 1px rgba(60, 64, 67, 0.15);\n",
              "      fill: #174EA6;\n",
              "    }\n",
              "\n",
              "    [theme=dark] .colab-df-convert {\n",
              "      background-color: #3B4455;\n",
              "      fill: #D2E3FC;\n",
              "    }\n",
              "\n",
              "    [theme=dark] .colab-df-convert:hover {\n",
              "      background-color: #434B5C;\n",
              "      box-shadow: 0px 1px 3px 1px rgba(0, 0, 0, 0.15);\n",
              "      filter: drop-shadow(0px 1px 2px rgba(0, 0, 0, 0.3));\n",
              "      fill: #FFFFFF;\n",
              "    }\n",
              "  </style>\n",
              "\n",
              "      <script>\n",
              "        const buttonEl =\n",
              "          document.querySelector('#df-491a3c38-253d-45bc-a7df-678dfc44ca17 button.colab-df-convert');\n",
              "        buttonEl.style.display =\n",
              "          google.colab.kernel.accessAllowed ? 'block' : 'none';\n",
              "\n",
              "        async function convertToInteractive(key) {\n",
              "          const element = document.querySelector('#df-491a3c38-253d-45bc-a7df-678dfc44ca17');\n",
              "          const dataTable =\n",
              "            await google.colab.kernel.invokeFunction('convertToInteractive',\n",
              "                                                     [key], {});\n",
              "          if (!dataTable) return;\n",
              "\n",
              "          const docLinkHtml = 'Like what you see? Visit the ' +\n",
              "            '<a target=\"_blank\" href=https://colab.research.google.com/notebooks/data_table.ipynb>data table notebook</a>'\n",
              "            + ' to learn more about interactive tables.';\n",
              "          element.innerHTML = '';\n",
              "          dataTable['output_type'] = 'display_data';\n",
              "          await google.colab.output.renderOutput(dataTable, element);\n",
              "          const docLink = document.createElement('div');\n",
              "          docLink.innerHTML = docLinkHtml;\n",
              "          element.appendChild(docLink);\n",
              "        }\n",
              "      </script>\n",
              "    </div>\n",
              "  </div>\n",
              "  "
            ]
          },
          "metadata": {},
          "execution_count": 439
        }
      ]
    },
    {
      "cell_type": "markdown",
      "source": [
        "Neural network having 4 hidden layers and using Adamax optimizer is giving me the least error among all methods so now i will predict the fare amount usig my that model (model 5_b)"
      ],
      "metadata": {
        "id": "rCe55J8q_RqU"
      }
    },
    {
      "cell_type": "code",
      "source": [
        "predicted_fare = taxi_fare_model_5_b.predict(test_scaled)"
      ],
      "metadata": {
        "id": "3YE5BEMN_Akn"
      },
      "execution_count": null,
      "outputs": []
    },
    {
      "cell_type": "code",
      "source": [
        "predicted_fare"
      ],
      "metadata": {
        "colab": {
          "base_uri": "https://localhost:8080/"
        },
        "id": "I1HAVMhaACS4",
        "outputId": "d6d8b216-7544-4f41-ce8d-5f780b49be43"
      },
      "execution_count": null,
      "outputs": [
        {
          "output_type": "execute_result",
          "data": {
            "text/plain": [
              "array([[-2.7039994e-02],\n",
              "       [ 4.3332092e-03],\n",
              "       [-7.3167914e-01],\n",
              "       ...,\n",
              "       [ 4.3807516e+00],\n",
              "       [ 1.1689068e+00],\n",
              "       [-4.8778921e-01]], dtype=float32)"
            ]
          },
          "metadata": {},
          "execution_count": 441
        }
      ]
    },
    {
      "cell_type": "code",
      "source": [
        "upper_y = round(train.fare_amount.mean() + (3*train.fare_amount.std()))\n",
        "upper_y"
      ],
      "metadata": {
        "colab": {
          "base_uri": "https://localhost:8080/"
        },
        "id": "Bi6IJcUhRCW2",
        "outputId": "0ea3980e-fa4f-4f79-d9f6-2e3511772a6e"
      },
      "execution_count": null,
      "outputs": [
        {
          "output_type": "execute_result",
          "data": {
            "text/plain": [
              "40"
            ]
          },
          "metadata": {},
          "execution_count": 450
        }
      ]
    },
    {
      "cell_type": "code",
      "source": [
        "from sklearn.preprocessing import MinMaxScaler\n",
        "scaler = MinMaxScaler(feature_range=(min(train['fare_amount']), upper_y))\n",
        "\n",
        "predicted = scaler.fit_transform(predicted_fare)\n",
        "\n",
        "predicted"
      ],
      "metadata": {
        "colab": {
          "base_uri": "https://localhost:8080/"
        },
        "id": "m6ZHYgZ8PPX3",
        "outputId": "f6fc5151-899e-4352-f3dc-3ae5ab9393fa"
      },
      "execution_count": null,
      "outputs": [
        {
          "output_type": "execute_result",
          "data": {
            "text/plain": [
              "array([[ 4.117134  ],\n",
              "       [ 4.2804394 ],\n",
              "       [ 0.44931555],\n",
              "       ...,\n",
              "       [27.060764  ],\n",
              "       [10.342329  ],\n",
              "       [ 1.718822  ]], dtype=float32)"
            ]
          },
          "metadata": {},
          "execution_count": 456
        }
      ]
    },
    {
      "cell_type": "code",
      "source": [
        "test['fare_predicted']=predicted"
      ],
      "metadata": {
        "id": "VxH0FhgfSe_6"
      },
      "execution_count": null,
      "outputs": []
    },
    {
      "cell_type": "code",
      "source": [
        "test.head()"
      ],
      "metadata": {
        "colab": {
          "base_uri": "https://localhost:8080/",
          "height": 206
        },
        "id": "GYBPcIG6TAVt",
        "outputId": "647e1e73-ae20-4cf7-9f0d-3e5ef1552975"
      },
      "execution_count": null,
      "outputs": [
        {
          "output_type": "execute_result",
          "data": {
            "text/plain": [
              "   pickup_longitude  pickup_latitude  dropoff_longitude  dropoff_latitude  \\\n",
              "0        -73.973320        40.763805         -73.981430         40.743835   \n",
              "1        -73.986862        40.719383         -73.998886         40.739201   \n",
              "2        -73.982524        40.751260         -73.979654         40.746139   \n",
              "3        -73.981160        40.767807         -73.990448         40.751635   \n",
              "4        -73.966046        40.789775         -73.988565         40.744427   \n",
              "\n",
              "   passenger_count  Year  Month  Date  Day of Week  Hour  H_Distance  \\\n",
              "0                1  2015      1    27            1    13    2.323260   \n",
              "1                1  2015      1    27            1    13    2.425353   \n",
              "2                1  2011     10     8            5    11    0.618628   \n",
              "3                1  2012     12     1            5    21    1.961033   \n",
              "4                1  2012     12     1            5    21    5.387301   \n",
              "\n",
              "   fare_predicted  \n",
              "0        4.117134  \n",
              "1        4.280439  \n",
              "2        0.449316  \n",
              "3        2.780030  \n",
              "4        7.216465  "
            ],
            "text/html": [
              "\n",
              "  <div id=\"df-df93882a-be6e-4c74-9a4f-2b474f2c79a2\">\n",
              "    <div class=\"colab-df-container\">\n",
              "      <div>\n",
              "<style scoped>\n",
              "    .dataframe tbody tr th:only-of-type {\n",
              "        vertical-align: middle;\n",
              "    }\n",
              "\n",
              "    .dataframe tbody tr th {\n",
              "        vertical-align: top;\n",
              "    }\n",
              "\n",
              "    .dataframe thead th {\n",
              "        text-align: right;\n",
              "    }\n",
              "</style>\n",
              "<table border=\"1\" class=\"dataframe\">\n",
              "  <thead>\n",
              "    <tr style=\"text-align: right;\">\n",
              "      <th></th>\n",
              "      <th>pickup_longitude</th>\n",
              "      <th>pickup_latitude</th>\n",
              "      <th>dropoff_longitude</th>\n",
              "      <th>dropoff_latitude</th>\n",
              "      <th>passenger_count</th>\n",
              "      <th>Year</th>\n",
              "      <th>Month</th>\n",
              "      <th>Date</th>\n",
              "      <th>Day of Week</th>\n",
              "      <th>Hour</th>\n",
              "      <th>H_Distance</th>\n",
              "      <th>fare_predicted</th>\n",
              "    </tr>\n",
              "  </thead>\n",
              "  <tbody>\n",
              "    <tr>\n",
              "      <th>0</th>\n",
              "      <td>-73.973320</td>\n",
              "      <td>40.763805</td>\n",
              "      <td>-73.981430</td>\n",
              "      <td>40.743835</td>\n",
              "      <td>1</td>\n",
              "      <td>2015</td>\n",
              "      <td>1</td>\n",
              "      <td>27</td>\n",
              "      <td>1</td>\n",
              "      <td>13</td>\n",
              "      <td>2.323260</td>\n",
              "      <td>4.117134</td>\n",
              "    </tr>\n",
              "    <tr>\n",
              "      <th>1</th>\n",
              "      <td>-73.986862</td>\n",
              "      <td>40.719383</td>\n",
              "      <td>-73.998886</td>\n",
              "      <td>40.739201</td>\n",
              "      <td>1</td>\n",
              "      <td>2015</td>\n",
              "      <td>1</td>\n",
              "      <td>27</td>\n",
              "      <td>1</td>\n",
              "      <td>13</td>\n",
              "      <td>2.425353</td>\n",
              "      <td>4.280439</td>\n",
              "    </tr>\n",
              "    <tr>\n",
              "      <th>2</th>\n",
              "      <td>-73.982524</td>\n",
              "      <td>40.751260</td>\n",
              "      <td>-73.979654</td>\n",
              "      <td>40.746139</td>\n",
              "      <td>1</td>\n",
              "      <td>2011</td>\n",
              "      <td>10</td>\n",
              "      <td>8</td>\n",
              "      <td>5</td>\n",
              "      <td>11</td>\n",
              "      <td>0.618628</td>\n",
              "      <td>0.449316</td>\n",
              "    </tr>\n",
              "    <tr>\n",
              "      <th>3</th>\n",
              "      <td>-73.981160</td>\n",
              "      <td>40.767807</td>\n",
              "      <td>-73.990448</td>\n",
              "      <td>40.751635</td>\n",
              "      <td>1</td>\n",
              "      <td>2012</td>\n",
              "      <td>12</td>\n",
              "      <td>1</td>\n",
              "      <td>5</td>\n",
              "      <td>21</td>\n",
              "      <td>1.961033</td>\n",
              "      <td>2.780030</td>\n",
              "    </tr>\n",
              "    <tr>\n",
              "      <th>4</th>\n",
              "      <td>-73.966046</td>\n",
              "      <td>40.789775</td>\n",
              "      <td>-73.988565</td>\n",
              "      <td>40.744427</td>\n",
              "      <td>1</td>\n",
              "      <td>2012</td>\n",
              "      <td>12</td>\n",
              "      <td>1</td>\n",
              "      <td>5</td>\n",
              "      <td>21</td>\n",
              "      <td>5.387301</td>\n",
              "      <td>7.216465</td>\n",
              "    </tr>\n",
              "  </tbody>\n",
              "</table>\n",
              "</div>\n",
              "      <button class=\"colab-df-convert\" onclick=\"convertToInteractive('df-df93882a-be6e-4c74-9a4f-2b474f2c79a2')\"\n",
              "              title=\"Convert this dataframe to an interactive table.\"\n",
              "              style=\"display:none;\">\n",
              "        \n",
              "  <svg xmlns=\"http://www.w3.org/2000/svg\" height=\"24px\"viewBox=\"0 0 24 24\"\n",
              "       width=\"24px\">\n",
              "    <path d=\"M0 0h24v24H0V0z\" fill=\"none\"/>\n",
              "    <path d=\"M18.56 5.44l.94 2.06.94-2.06 2.06-.94-2.06-.94-.94-2.06-.94 2.06-2.06.94zm-11 1L8.5 8.5l.94-2.06 2.06-.94-2.06-.94L8.5 2.5l-.94 2.06-2.06.94zm10 10l.94 2.06.94-2.06 2.06-.94-2.06-.94-.94-2.06-.94 2.06-2.06.94z\"/><path d=\"M17.41 7.96l-1.37-1.37c-.4-.4-.92-.59-1.43-.59-.52 0-1.04.2-1.43.59L10.3 9.45l-7.72 7.72c-.78.78-.78 2.05 0 2.83L4 21.41c.39.39.9.59 1.41.59.51 0 1.02-.2 1.41-.59l7.78-7.78 2.81-2.81c.8-.78.8-2.07 0-2.86zM5.41 20L4 18.59l7.72-7.72 1.47 1.35L5.41 20z\"/>\n",
              "  </svg>\n",
              "      </button>\n",
              "      \n",
              "  <style>\n",
              "    .colab-df-container {\n",
              "      display:flex;\n",
              "      flex-wrap:wrap;\n",
              "      gap: 12px;\n",
              "    }\n",
              "\n",
              "    .colab-df-convert {\n",
              "      background-color: #E8F0FE;\n",
              "      border: none;\n",
              "      border-radius: 50%;\n",
              "      cursor: pointer;\n",
              "      display: none;\n",
              "      fill: #1967D2;\n",
              "      height: 32px;\n",
              "      padding: 0 0 0 0;\n",
              "      width: 32px;\n",
              "    }\n",
              "\n",
              "    .colab-df-convert:hover {\n",
              "      background-color: #E2EBFA;\n",
              "      box-shadow: 0px 1px 2px rgba(60, 64, 67, 0.3), 0px 1px 3px 1px rgba(60, 64, 67, 0.15);\n",
              "      fill: #174EA6;\n",
              "    }\n",
              "\n",
              "    [theme=dark] .colab-df-convert {\n",
              "      background-color: #3B4455;\n",
              "      fill: #D2E3FC;\n",
              "    }\n",
              "\n",
              "    [theme=dark] .colab-df-convert:hover {\n",
              "      background-color: #434B5C;\n",
              "      box-shadow: 0px 1px 3px 1px rgba(0, 0, 0, 0.15);\n",
              "      filter: drop-shadow(0px 1px 2px rgba(0, 0, 0, 0.3));\n",
              "      fill: #FFFFFF;\n",
              "    }\n",
              "  </style>\n",
              "\n",
              "      <script>\n",
              "        const buttonEl =\n",
              "          document.querySelector('#df-df93882a-be6e-4c74-9a4f-2b474f2c79a2 button.colab-df-convert');\n",
              "        buttonEl.style.display =\n",
              "          google.colab.kernel.accessAllowed ? 'block' : 'none';\n",
              "\n",
              "        async function convertToInteractive(key) {\n",
              "          const element = document.querySelector('#df-df93882a-be6e-4c74-9a4f-2b474f2c79a2');\n",
              "          const dataTable =\n",
              "            await google.colab.kernel.invokeFunction('convertToInteractive',\n",
              "                                                     [key], {});\n",
              "          if (!dataTable) return;\n",
              "\n",
              "          const docLinkHtml = 'Like what you see? Visit the ' +\n",
              "            '<a target=\"_blank\" href=https://colab.research.google.com/notebooks/data_table.ipynb>data table notebook</a>'\n",
              "            + ' to learn more about interactive tables.';\n",
              "          element.innerHTML = '';\n",
              "          dataTable['output_type'] = 'display_data';\n",
              "          await google.colab.output.renderOutput(dataTable, element);\n",
              "          const docLink = document.createElement('div');\n",
              "          docLink.innerHTML = docLinkHtml;\n",
              "          element.appendChild(docLink);\n",
              "        }\n",
              "      </script>\n",
              "    </div>\n",
              "  </div>\n",
              "  "
            ]
          },
          "metadata": {},
          "execution_count": 458
        }
      ]
    },
    {
      "cell_type": "code",
      "source": [
        "result = test.drop(['pickup_longitude', 'pickup_latitude', 'dropoff_longitude', 'dropoff_latitude', 'passenger_count', 'Year','Month','Date','Day of Week','Hour','H_Distance'],axis=1)\n",
        "result"
      ],
      "metadata": {
        "colab": {
          "base_uri": "https://localhost:8080/",
          "height": 424
        },
        "id": "rxzwuDZsTB5m",
        "outputId": "44a82898-385b-41e1-d2f5-e34afe1ba251"
      },
      "execution_count": null,
      "outputs": [
        {
          "output_type": "execute_result",
          "data": {
            "text/plain": [
              "      fare_predicted\n",
              "0           4.117134\n",
              "1           4.280439\n",
              "2           0.449316\n",
              "3           2.780030\n",
              "4           7.216465\n",
              "...              ...\n",
              "9909        3.058020\n",
              "9910        4.615084\n",
              "9911       27.060764\n",
              "9912       10.342329\n",
              "9913        1.718822\n",
              "\n",
              "[9829 rows x 1 columns]"
            ],
            "text/html": [
              "\n",
              "  <div id=\"df-20204566-6134-4a5a-99d5-69443aad630d\">\n",
              "    <div class=\"colab-df-container\">\n",
              "      <div>\n",
              "<style scoped>\n",
              "    .dataframe tbody tr th:only-of-type {\n",
              "        vertical-align: middle;\n",
              "    }\n",
              "\n",
              "    .dataframe tbody tr th {\n",
              "        vertical-align: top;\n",
              "    }\n",
              "\n",
              "    .dataframe thead th {\n",
              "        text-align: right;\n",
              "    }\n",
              "</style>\n",
              "<table border=\"1\" class=\"dataframe\">\n",
              "  <thead>\n",
              "    <tr style=\"text-align: right;\">\n",
              "      <th></th>\n",
              "      <th>fare_predicted</th>\n",
              "    </tr>\n",
              "  </thead>\n",
              "  <tbody>\n",
              "    <tr>\n",
              "      <th>0</th>\n",
              "      <td>4.117134</td>\n",
              "    </tr>\n",
              "    <tr>\n",
              "      <th>1</th>\n",
              "      <td>4.280439</td>\n",
              "    </tr>\n",
              "    <tr>\n",
              "      <th>2</th>\n",
              "      <td>0.449316</td>\n",
              "    </tr>\n",
              "    <tr>\n",
              "      <th>3</th>\n",
              "      <td>2.780030</td>\n",
              "    </tr>\n",
              "    <tr>\n",
              "      <th>4</th>\n",
              "      <td>7.216465</td>\n",
              "    </tr>\n",
              "    <tr>\n",
              "      <th>...</th>\n",
              "      <td>...</td>\n",
              "    </tr>\n",
              "    <tr>\n",
              "      <th>9909</th>\n",
              "      <td>3.058020</td>\n",
              "    </tr>\n",
              "    <tr>\n",
              "      <th>9910</th>\n",
              "      <td>4.615084</td>\n",
              "    </tr>\n",
              "    <tr>\n",
              "      <th>9911</th>\n",
              "      <td>27.060764</td>\n",
              "    </tr>\n",
              "    <tr>\n",
              "      <th>9912</th>\n",
              "      <td>10.342329</td>\n",
              "    </tr>\n",
              "    <tr>\n",
              "      <th>9913</th>\n",
              "      <td>1.718822</td>\n",
              "    </tr>\n",
              "  </tbody>\n",
              "</table>\n",
              "<p>9829 rows × 1 columns</p>\n",
              "</div>\n",
              "      <button class=\"colab-df-convert\" onclick=\"convertToInteractive('df-20204566-6134-4a5a-99d5-69443aad630d')\"\n",
              "              title=\"Convert this dataframe to an interactive table.\"\n",
              "              style=\"display:none;\">\n",
              "        \n",
              "  <svg xmlns=\"http://www.w3.org/2000/svg\" height=\"24px\"viewBox=\"0 0 24 24\"\n",
              "       width=\"24px\">\n",
              "    <path d=\"M0 0h24v24H0V0z\" fill=\"none\"/>\n",
              "    <path d=\"M18.56 5.44l.94 2.06.94-2.06 2.06-.94-2.06-.94-.94-2.06-.94 2.06-2.06.94zm-11 1L8.5 8.5l.94-2.06 2.06-.94-2.06-.94L8.5 2.5l-.94 2.06-2.06.94zm10 10l.94 2.06.94-2.06 2.06-.94-2.06-.94-.94-2.06-.94 2.06-2.06.94z\"/><path d=\"M17.41 7.96l-1.37-1.37c-.4-.4-.92-.59-1.43-.59-.52 0-1.04.2-1.43.59L10.3 9.45l-7.72 7.72c-.78.78-.78 2.05 0 2.83L4 21.41c.39.39.9.59 1.41.59.51 0 1.02-.2 1.41-.59l7.78-7.78 2.81-2.81c.8-.78.8-2.07 0-2.86zM5.41 20L4 18.59l7.72-7.72 1.47 1.35L5.41 20z\"/>\n",
              "  </svg>\n",
              "      </button>\n",
              "      \n",
              "  <style>\n",
              "    .colab-df-container {\n",
              "      display:flex;\n",
              "      flex-wrap:wrap;\n",
              "      gap: 12px;\n",
              "    }\n",
              "\n",
              "    .colab-df-convert {\n",
              "      background-color: #E8F0FE;\n",
              "      border: none;\n",
              "      border-radius: 50%;\n",
              "      cursor: pointer;\n",
              "      display: none;\n",
              "      fill: #1967D2;\n",
              "      height: 32px;\n",
              "      padding: 0 0 0 0;\n",
              "      width: 32px;\n",
              "    }\n",
              "\n",
              "    .colab-df-convert:hover {\n",
              "      background-color: #E2EBFA;\n",
              "      box-shadow: 0px 1px 2px rgba(60, 64, 67, 0.3), 0px 1px 3px 1px rgba(60, 64, 67, 0.15);\n",
              "      fill: #174EA6;\n",
              "    }\n",
              "\n",
              "    [theme=dark] .colab-df-convert {\n",
              "      background-color: #3B4455;\n",
              "      fill: #D2E3FC;\n",
              "    }\n",
              "\n",
              "    [theme=dark] .colab-df-convert:hover {\n",
              "      background-color: #434B5C;\n",
              "      box-shadow: 0px 1px 3px 1px rgba(0, 0, 0, 0.15);\n",
              "      filter: drop-shadow(0px 1px 2px rgba(0, 0, 0, 0.3));\n",
              "      fill: #FFFFFF;\n",
              "    }\n",
              "  </style>\n",
              "\n",
              "      <script>\n",
              "        const buttonEl =\n",
              "          document.querySelector('#df-20204566-6134-4a5a-99d5-69443aad630d button.colab-df-convert');\n",
              "        buttonEl.style.display =\n",
              "          google.colab.kernel.accessAllowed ? 'block' : 'none';\n",
              "\n",
              "        async function convertToInteractive(key) {\n",
              "          const element = document.querySelector('#df-20204566-6134-4a5a-99d5-69443aad630d');\n",
              "          const dataTable =\n",
              "            await google.colab.kernel.invokeFunction('convertToInteractive',\n",
              "                                                     [key], {});\n",
              "          if (!dataTable) return;\n",
              "\n",
              "          const docLinkHtml = 'Like what you see? Visit the ' +\n",
              "            '<a target=\"_blank\" href=https://colab.research.google.com/notebooks/data_table.ipynb>data table notebook</a>'\n",
              "            + ' to learn more about interactive tables.';\n",
              "          element.innerHTML = '';\n",
              "          dataTable['output_type'] = 'display_data';\n",
              "          await google.colab.output.renderOutput(dataTable, element);\n",
              "          const docLink = document.createElement('div');\n",
              "          docLink.innerHTML = docLinkHtml;\n",
              "          element.appendChild(docLink);\n",
              "        }\n",
              "      </script>\n",
              "    </div>\n",
              "  </div>\n",
              "  "
            ]
          },
          "metadata": {},
          "execution_count": 459
        }
      ]
    },
    {
      "cell_type": "code",
      "source": [],
      "metadata": {
        "id": "s8SiqB3YTcEq"
      },
      "execution_count": null,
      "outputs": []
    }
  ]
}